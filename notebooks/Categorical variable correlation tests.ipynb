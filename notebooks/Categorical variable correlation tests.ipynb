{
 "cells": [
  {
   "cell_type": "code",
   "execution_count": 28,
   "id": "de321abf-4b4b-4df1-806c-9f2b1249939e",
   "metadata": {},
   "outputs": [
    {
     "data": {
      "text/plain": "<kedro.io.data_catalog.DataCatalog at 0x12193e33ee0>"
     },
     "execution_count": 28,
     "metadata": {},
     "output_type": "execute_result"
    }
   ],
   "source": [
    "catalog"
   ]
  },
  {
   "cell_type": "code",
   "execution_count": 29,
   "id": "d41a9100-d679-4787-8de7-e9edc4219783",
   "metadata": {},
   "outputs": [
    {
     "data": {
      "text/plain": "['Research data Mongolian',\n 'Research data English',\n 'Patient',\n 'Diagnosis',\n 'External beam radiotherapy',\n 'Brachytherapy',\n 'Chemotherapy',\n 'Acute toxicity',\n 'Response status',\n 'Late morbidity',\n 'Disease status',\n 'parameters']"
     },
     "execution_count": 29,
     "metadata": {},
     "output_type": "execute_result"
    }
   ],
   "source": [
    "catalog.list()"
   ]
  },
  {
   "cell_type": "code",
   "execution_count": 30,
   "id": "a3a5a3d5-e611-4f86-8367-7e193aeb8393",
   "metadata": {},
   "outputs": [
    {
     "name": "stdout",
     "output_type": "stream",
     "text": [
      "2022-09-29 17:49:16,294 - kedro.io.data_catalog - INFO - Loading data from `Research data English` (CSVDataSet)...\n"
     ]
    }
   ],
   "source": [
    "df = catalog.load('Research data English')"
   ]
  },
  {
   "cell_type": "code",
   "execution_count": 31,
   "id": "8f9a9264-6ad8-4912-93e7-0be73ece9a29",
   "metadata": {},
   "outputs": [
    {
     "data": {
      "text/plain": "              age  perfor_status           N      M  growth_type  \\\ncount  120.000000     120.000000  120.000000  120.0   120.000000   \nmean    50.841667       0.475000    0.716667    0.0     2.058333   \nstd     10.637650       0.501468    0.452506    0.0     0.490169   \nmin     25.000000       0.000000    0.000000    0.0     1.000000   \n25%     44.000000       0.000000    0.000000    0.0     2.000000   \n50%     51.000000       0.000000    1.000000    0.0     2.000000   \n75%     59.000000       1.000000    1.000000    0.0     2.000000   \nmax     78.000000       1.000000    1.000000    0.0     3.000000   \n\n       treatment_total_days  pelvic_total_dose     Pelv_fr  Dose_per_fr  \\\ncount            120.000000         120.000000  120.000000        120.0   \nmean               1.491667          48.850000   24.616667          2.0   \nstd                0.502027           3.513838    2.908069          0.0   \nmin                1.000000          40.000000   20.000000          2.0   \n25%                1.000000          50.000000   25.000000          2.0   \n50%                1.000000          50.000000   25.000000          2.0   \n75%                2.000000          50.000000   25.000000          2.0   \nmax                2.000000          56.000000   50.000000          2.0   \n\n       midline_block_dose  ...  hrctv_volume  eqd2_bladder  eqd2_rectum  \\\ncount          120.000000  ...    120.000000    120.000000   120.000000   \nmean             1.600000  ...     29.185000     74.213333    60.719167   \nstd              3.626235  ...      8.920947      8.892192     6.299971   \nmin              0.000000  ...     13.100000     51.200000    47.200000   \n25%              0.000000  ...     23.475000     69.175000    56.300000   \n50%              0.000000  ...     28.100000     76.000000    60.300000   \n75%              0.000000  ...     34.000000     80.850000    64.725000   \nmax             10.000000  ...     65.900000     89.100000    79.600000   \n\n       eqd2_sigmoid  eqd2_hrbrachy_dose  eqd2_total_dose  \\\ncount    119.000000          119.000000       119.000000   \nmean      64.419328           36.589076        85.315126   \nstd        6.956771            2.133382         2.484141   \nmin       48.600000           29.400000        76.600000   \n25%       60.450000           35.800000        83.750000   \n50%       64.300000           36.100000        85.800000   \n75%       68.950000           38.100000        86.700000   \nmax       82.100000           40.700000        91.000000   \n\n       before_brachy_categor  Last_follup_timing  rect_sig_grade          id  \ncount             120.000000          120.000000       47.000000  120.000000  \nmean                1.350000           16.616667        0.446809  160.500000  \nstd                 0.478969            8.680301        0.618853   34.785054  \nmin                 1.000000            1.000000        0.000000  101.000000  \n25%                 1.000000            9.000000        0.000000  130.750000  \n50%                 1.000000           16.000000        0.000000  160.500000  \n75%                 2.000000           24.000000        1.000000  190.250000  \nmax                 2.000000           38.000000        2.000000  220.000000  \n\n[8 rows x 27 columns]",
      "text/html": "<div>\n<style scoped>\n    .dataframe tbody tr th:only-of-type {\n        vertical-align: middle;\n    }\n\n    .dataframe tbody tr th {\n        vertical-align: top;\n    }\n\n    .dataframe thead th {\n        text-align: right;\n    }\n</style>\n<table border=\"1\" class=\"dataframe\">\n  <thead>\n    <tr style=\"text-align: right;\">\n      <th></th>\n      <th>age</th>\n      <th>perfor_status</th>\n      <th>N</th>\n      <th>M</th>\n      <th>growth_type</th>\n      <th>treatment_total_days</th>\n      <th>pelvic_total_dose</th>\n      <th>Pelv_fr</th>\n      <th>Dose_per_fr</th>\n      <th>midline_block_dose</th>\n      <th>...</th>\n      <th>hrctv_volume</th>\n      <th>eqd2_bladder</th>\n      <th>eqd2_rectum</th>\n      <th>eqd2_sigmoid</th>\n      <th>eqd2_hrbrachy_dose</th>\n      <th>eqd2_total_dose</th>\n      <th>before_brachy_categor</th>\n      <th>Last_follup_timing</th>\n      <th>rect_sig_grade</th>\n      <th>id</th>\n    </tr>\n  </thead>\n  <tbody>\n    <tr>\n      <th>count</th>\n      <td>120.000000</td>\n      <td>120.000000</td>\n      <td>120.000000</td>\n      <td>120.0</td>\n      <td>120.000000</td>\n      <td>120.000000</td>\n      <td>120.000000</td>\n      <td>120.000000</td>\n      <td>120.0</td>\n      <td>120.000000</td>\n      <td>...</td>\n      <td>120.000000</td>\n      <td>120.000000</td>\n      <td>120.000000</td>\n      <td>119.000000</td>\n      <td>119.000000</td>\n      <td>119.000000</td>\n      <td>120.000000</td>\n      <td>120.000000</td>\n      <td>47.000000</td>\n      <td>120.000000</td>\n    </tr>\n    <tr>\n      <th>mean</th>\n      <td>50.841667</td>\n      <td>0.475000</td>\n      <td>0.716667</td>\n      <td>0.0</td>\n      <td>2.058333</td>\n      <td>1.491667</td>\n      <td>48.850000</td>\n      <td>24.616667</td>\n      <td>2.0</td>\n      <td>1.600000</td>\n      <td>...</td>\n      <td>29.185000</td>\n      <td>74.213333</td>\n      <td>60.719167</td>\n      <td>64.419328</td>\n      <td>36.589076</td>\n      <td>85.315126</td>\n      <td>1.350000</td>\n      <td>16.616667</td>\n      <td>0.446809</td>\n      <td>160.500000</td>\n    </tr>\n    <tr>\n      <th>std</th>\n      <td>10.637650</td>\n      <td>0.501468</td>\n      <td>0.452506</td>\n      <td>0.0</td>\n      <td>0.490169</td>\n      <td>0.502027</td>\n      <td>3.513838</td>\n      <td>2.908069</td>\n      <td>0.0</td>\n      <td>3.626235</td>\n      <td>...</td>\n      <td>8.920947</td>\n      <td>8.892192</td>\n      <td>6.299971</td>\n      <td>6.956771</td>\n      <td>2.133382</td>\n      <td>2.484141</td>\n      <td>0.478969</td>\n      <td>8.680301</td>\n      <td>0.618853</td>\n      <td>34.785054</td>\n    </tr>\n    <tr>\n      <th>min</th>\n      <td>25.000000</td>\n      <td>0.000000</td>\n      <td>0.000000</td>\n      <td>0.0</td>\n      <td>1.000000</td>\n      <td>1.000000</td>\n      <td>40.000000</td>\n      <td>20.000000</td>\n      <td>2.0</td>\n      <td>0.000000</td>\n      <td>...</td>\n      <td>13.100000</td>\n      <td>51.200000</td>\n      <td>47.200000</td>\n      <td>48.600000</td>\n      <td>29.400000</td>\n      <td>76.600000</td>\n      <td>1.000000</td>\n      <td>1.000000</td>\n      <td>0.000000</td>\n      <td>101.000000</td>\n    </tr>\n    <tr>\n      <th>25%</th>\n      <td>44.000000</td>\n      <td>0.000000</td>\n      <td>0.000000</td>\n      <td>0.0</td>\n      <td>2.000000</td>\n      <td>1.000000</td>\n      <td>50.000000</td>\n      <td>25.000000</td>\n      <td>2.0</td>\n      <td>0.000000</td>\n      <td>...</td>\n      <td>23.475000</td>\n      <td>69.175000</td>\n      <td>56.300000</td>\n      <td>60.450000</td>\n      <td>35.800000</td>\n      <td>83.750000</td>\n      <td>1.000000</td>\n      <td>9.000000</td>\n      <td>0.000000</td>\n      <td>130.750000</td>\n    </tr>\n    <tr>\n      <th>50%</th>\n      <td>51.000000</td>\n      <td>0.000000</td>\n      <td>1.000000</td>\n      <td>0.0</td>\n      <td>2.000000</td>\n      <td>1.000000</td>\n      <td>50.000000</td>\n      <td>25.000000</td>\n      <td>2.0</td>\n      <td>0.000000</td>\n      <td>...</td>\n      <td>28.100000</td>\n      <td>76.000000</td>\n      <td>60.300000</td>\n      <td>64.300000</td>\n      <td>36.100000</td>\n      <td>85.800000</td>\n      <td>1.000000</td>\n      <td>16.000000</td>\n      <td>0.000000</td>\n      <td>160.500000</td>\n    </tr>\n    <tr>\n      <th>75%</th>\n      <td>59.000000</td>\n      <td>1.000000</td>\n      <td>1.000000</td>\n      <td>0.0</td>\n      <td>2.000000</td>\n      <td>2.000000</td>\n      <td>50.000000</td>\n      <td>25.000000</td>\n      <td>2.0</td>\n      <td>0.000000</td>\n      <td>...</td>\n      <td>34.000000</td>\n      <td>80.850000</td>\n      <td>64.725000</td>\n      <td>68.950000</td>\n      <td>38.100000</td>\n      <td>86.700000</td>\n      <td>2.000000</td>\n      <td>24.000000</td>\n      <td>1.000000</td>\n      <td>190.250000</td>\n    </tr>\n    <tr>\n      <th>max</th>\n      <td>78.000000</td>\n      <td>1.000000</td>\n      <td>1.000000</td>\n      <td>0.0</td>\n      <td>3.000000</td>\n      <td>2.000000</td>\n      <td>56.000000</td>\n      <td>50.000000</td>\n      <td>2.0</td>\n      <td>10.000000</td>\n      <td>...</td>\n      <td>65.900000</td>\n      <td>89.100000</td>\n      <td>79.600000</td>\n      <td>82.100000</td>\n      <td>40.700000</td>\n      <td>91.000000</td>\n      <td>2.000000</td>\n      <td>38.000000</td>\n      <td>2.000000</td>\n      <td>220.000000</td>\n    </tr>\n  </tbody>\n</table>\n<p>8 rows × 27 columns</p>\n</div>"
     },
     "execution_count": 31,
     "metadata": {},
     "output_type": "execute_result"
    }
   ],
   "source": [
    "df.describe()"
   ]
  },
  {
   "cell_type": "code",
   "execution_count": 32,
   "id": "4517300c-d776-453e-af10-a229c948fc23",
   "metadata": {},
   "outputs": [
    {
     "data": {
      "text/plain": "Index(['age', 'perfor_status', 'has_concom', 'tumour_stage', 'N', 'M', 'figo',\n       'pathological_type', 'diagnos_tumor_size', 'growth_type',\n       'vaginal_invasion', 'PaR', 'PaL', 'uterine_invasion', 'ct_abdomen',\n       'ct_pelvic', 'mri_diagnostic', 'mri_before_brachy', 'pelvic_node_mts',\n       'Paraaort_node_mts', 'treatment_total_days', 'pelvic_total_dose',\n       'Pelv_fr', 'Dose_per_fr', 'midline_block_dose', 'midline_block_frac',\n       'paramet_boost_dose', 'paramet_boost_fr', 'card_no', 'last_brachy_date',\n       'applicator_name', 'total_apoint_left', 'total_apoint_right',\n       'icru_rectum', 'icru_bladder', 'hrctv_volume', 'eqd2_bladder',\n       'eqd2_rectum', 'eqd2_sigmoid', 'eqd2_hrbrachy_dose', 'eqd2_total_dose',\n       'chemo_dose', 'chemo_numcycles', 'before_brachy_tumor_size',\n       'before_brachy_categor', 'post_treatment_response',\n       'post_treatment_response_date', 'early_response_status',\n       'last_response_date', 'last_response_status', 'Last_follup_timing',\n       'rect_sig_grade', 'Last_rect_eval_date', 'id', 'age_group'],\n      dtype='object')"
     },
     "execution_count": 32,
     "metadata": {},
     "output_type": "execute_result"
    }
   ],
   "source": [
    "df.columns"
   ]
  },
  {
   "cell_type": "code",
   "execution_count": 73,
   "id": "534dec04-3fd1-4177-989a-9ae835e9e101",
   "metadata": {},
   "outputs": [],
   "source": [
    "# Select research variables\n",
    "diagnos_tumor_size = df['diagnos_tumor_size']\n",
    "tumour_stage = df['tumour_stage'] \n",
    "before_brachy_tumor_size = df['before_brachy_tumor_size']\n",
    "before_brachy_categor = df['before_brachy_categor']\n",
    "early_response_status = df['early_response_status']\n",
    "last_response_status = df['last_response_status']\n",
    "chemo_numcycles = df['chemo_numcycles']"
   ]
  },
  {
   "cell_type": "code",
   "execution_count": 34,
   "id": "5ebd7a79-b9e2-41ff-95b8-a2d102929b2f",
   "metadata": {},
   "outputs": [],
   "source": [
    "from scipy.stats import chi2_contingency \n",
    "import pandas as pd\n",
    "import scipy.stats as stats"
   ]
  },
  {
   "cell_type": "code",
   "execution_count": 35,
   "id": "da0d080f-60e9-4f1c-92c1-345f4ed4af7d",
   "metadata": {},
   "outputs": [],
   "source": [
    "def chi2_contingency_test (test_data): \n",
    "    \n",
    "    stat, p, dof, ex = chi2_contingency(test_data) \n",
    "    print(\"Expected cell frequencies: \" + str(ex))\n",
    "\n",
    "    significance_level = 0.05\n",
    "    print(\"Test statistic: \" + str(stat))\n",
    "    print(\"Degree of freedom: \" + str(dof))\n",
    "    print(\"p-value: \" + str(format(p, '.10f'))) \n",
    "    if p <= significance_level: \n",
    "        print('Reject NULL HYPOTHESIS. Thus, the variables are associated with each other and happen to have a correlation between the variables.') \n",
    "    else: \n",
    "        print('ACCEPT NULL HYPOTHESIS. Thus, the grouping variables have no association or correlation amongst them.') "
   ]
  },
  {
   "cell_type": "code",
   "execution_count": 36,
   "id": "9209828a-167b-44ac-b042-31a474372aec",
   "metadata": {},
   "outputs": [],
   "source": [
    "def fishers_exact_test (test_data): \n",
    "    \n",
    "    oddsratio, p = stats.fisher_exact(test_data) \n",
    "\n",
    "    significance_level = 0.05\n",
    "    print(\"odds ratio: \" + str(oddsratio))\n",
    "    print(\"p-value: \" + str(format(p, '.10f'))) \n",
    "    if p <= significance_level: \n",
    "        print('Reject NULL HYPOTHESIS. Thus, the variables are associated with each other and happen to have a correlation between the variables.') \n",
    "    else: \n",
    "        print('ACCEPT NULL HYPOTHESIS. Thus, the grouping variables have no association or correlation amongst them.') "
   ]
  },
  {
   "cell_type": "code",
   "execution_count": 37,
   "id": "4f799044-e0e8-411c-bc63-6169bcf1aedb",
   "metadata": {},
   "outputs": [],
   "source": [
    "def label_before_brachy_tumor_size (row):\n",
    "    if row['before_brachy_tumor_size'] == '>2см':\n",
    "        return 2\n",
    "    if row['before_brachy_tumor_size'] == 'CR':\n",
    "        return 0\n",
    "    if row['before_brachy_tumor_size'] == '≤2см':\n",
    "        return 1"
   ]
  },
  {
   "cell_type": "code",
   "execution_count": 38,
   "id": "7c33ddab-22ae-48d1-ac75-b89d36b988e6",
   "metadata": {},
   "outputs": [],
   "source": [
    "def label_diagnos_tumor_size (row):\n",
    "    if row['diagnos_tumor_size'] == '>4см':\n",
    "        return 1\n",
    "    if row['diagnos_tumor_size'] == '≤4см':\n",
    "        return 0"
   ]
  },
  {
   "cell_type": "code",
   "execution_count": 39,
   "id": "a7541563-33f6-4fe9-bdf8-a8da1ae33ae6",
   "metadata": {},
   "outputs": [],
   "source": [
    "def label_tumour_stage (row):\n",
    "    if row['tumour_stage'] == '2B':\n",
    "        return 0\n",
    "    if row['tumour_stage'] == '3B':\n",
    "        return 1\n",
    "    if row['tumour_stage'] == '4A':\n",
    "        return 2"
   ]
  },
  {
   "cell_type": "code",
   "execution_count": 69,
   "outputs": [],
   "source": [
    "# TODO: consult about labeling and whether these are ordinal or nominal.\n",
    "#\n",
    "def label_early_response_status (row):\n",
    "    if row['early_response_status'] == 'Үсэрхийлэлтэй':\n",
    "        return 0\n",
    "    elif row['early_response_status'] == 'CR':\n",
    "        return 1\n",
    "    elif row['early_response_status'] == 'RC':\n",
    "        return 2\n",
    "    elif row['early_response_status'] == 'RC lymph':\n",
    "        return 3\n",
    "    elif row['early_response_status'] == 'Res':\n",
    "        return 4\n",
    "    elif row['early_response_status'] == 'Дахилттай':\n",
    "        return 5\n",
    "    else:\n",
    "        return None"
   ],
   "metadata": {
    "collapsed": false,
    "pycharm": {
     "name": "#%%\n"
    }
   }
  },
  {
   "cell_type": "code",
   "execution_count": 65,
   "outputs": [
    {
     "data": {
      "text/plain": "array([nan, 'Үсэрхийлэлтэй', 'CR', 'RC', 'Resid', 'RC lymph', 'Res',\n       'Дахилттай'], dtype=object)"
     },
     "execution_count": 65,
     "metadata": {},
     "output_type": "execute_result"
    }
   ],
   "source": [
    "early_response_status.unique()"
   ],
   "metadata": {
    "collapsed": false,
    "pycharm": {
     "name": "#%%\n"
    }
   }
  },
  {
   "cell_type": "code",
   "execution_count": 83,
   "outputs": [],
   "source": [
    "# TODO: consult about labeling and whether these are ordinal or nominal.\n",
    "#\n",
    "def label_last_response_status(row):\n",
    "    if row['last_response_status'] == 'CR':\n",
    "        return 'CR'\n",
    "    elif row['last_response_status'] == 'D':\n",
    "        return 'D'\n",
    "    elif row['last_response_status'] == 'DM/verchov':\n",
    "        return 'DM'\n",
    "    elif row['early_response_status'] == 'LR':\n",
    "        return 'LR'\n",
    "    elif row['early_response_status'] == 'RC/node':\n",
    "        return 'RC'\n",
    "    elif row['early_response_status'] == 'RC/LC':\n",
    "        return 'RC'\n",
    "    elif row['early_response_status'] == 'DM':\n",
    "        return 'DM'\n",
    "    elif row['early_response_status'] == 'RC/LR':\n",
    "        return 'RC'\n",
    "    elif row['early_response_status'] == 'RC':\n",
    "        return 'RC'\n",
    "    else:\n",
    "        return None"
   ],
   "metadata": {
    "collapsed": false,
    "pycharm": {
     "name": "#%%\n"
    }
   }
  },
  {
   "cell_type": "code",
   "execution_count": 96,
   "outputs": [],
   "source": [
    "# TODO: consult about labeling and whether these are ordinal or nominal.\n",
    "#\n",
    "def label_last_response_status(row):\n",
    "    if row['last_response_status'] == 'CR':\n",
    "        return 'CR'\n",
    "    else:\n",
    "        return 'Not CR'"
   ],
   "metadata": {
    "collapsed": false,
    "pycharm": {
     "name": "#%%\n"
    }
   }
  },
  {
   "cell_type": "code",
   "execution_count": 74,
   "outputs": [
    {
     "data": {
      "text/plain": "array(['CR', 'D', 'DM/verchov', 'LR', 'RC/node', 'DM/node', 'RC/LC', 'DM',\n       'RC/LR', 'RC'], dtype=object)"
     },
     "execution_count": 74,
     "metadata": {},
     "output_type": "execute_result"
    }
   ],
   "source": [
    "last_response_status.unique()"
   ],
   "metadata": {
    "collapsed": false,
    "pycharm": {
     "name": "#%%\n"
    }
   }
  },
  {
   "cell_type": "code",
   "execution_count": 67,
   "outputs": [],
   "source": [
    "# TODO: consult about labeling and whether these are ordinal or nominal.\n",
    "\n",
    "def label_chemo_numcycles (row):\n",
    "    if row['chemo_numcycles'] == 'No chemo':\n",
    "        return 0\n",
    "    elif row['chemo_numcycles'] == '≤3':\n",
    "        return 1\n",
    "    elif row['chemo_numcycles'] == '≥4':\n",
    "        return 2"
   ],
   "metadata": {
    "collapsed": false,
    "pycharm": {
     "name": "#%%\n"
    }
   }
  },
  {
   "cell_type": "code",
   "execution_count": 66,
   "outputs": [
    {
     "data": {
      "text/plain": "array(['No chemo', '≥4', '≤3'], dtype=object)"
     },
     "execution_count": 66,
     "metadata": {},
     "output_type": "execute_result"
    }
   ],
   "source": [
    "chemo_numcycles.unique()"
   ],
   "metadata": {
    "collapsed": false,
    "pycharm": {
     "name": "#%%\n"
    }
   }
  },
  {
   "cell_type": "code",
   "execution_count": 97,
   "id": "ee38af84-b84d-438a-9b66-189f0c889025",
   "metadata": {},
   "outputs": [],
   "source": [
    "# TODO: Run this after fixing the labeling of attributes\n",
    "# Creating ordinal attributes\n",
    "df['before_brachy_tumor_size_ordinal'] = df.apply (lambda row: label_before_brachy_tumor_size(row), axis=1)\n",
    "df['diagnos_tumor_size_ordinal'] = df.apply (lambda row: label_diagnos_tumor_size(row), axis=1)\n",
    "df['tumour_stage_ordinal'] = df.apply (lambda row: label_tumour_stage(row), axis=1)\n",
    "df['last_response_status'] = df.apply (lambda row: label_last_response_status(row), axis=1)\n",
    "df['chemo_numcycles'] = df.apply (lambda row: label_chemo_numcycles(row), axis=1)"
   ]
  },
  {
   "cell_type": "code",
   "execution_count": 41,
   "id": "2e5f65cd-5ec4-40d7-96ef-ce198035bef9",
   "metadata": {},
   "outputs": [],
   "source": [
    "def spearman_corr_test(test_data):\n",
    "    value = test_data.corr(method=\"spearman\")\n",
    "    print(value)"
   ]
  },
  {
   "cell_type": "markdown",
   "id": "a03dfd56-ed74-4ae6-8221-c1412b82783c",
   "metadata": {
    "tags": []
   },
   "source": [
    " ### Diagnostic tumor size and and tumour stage"
   ]
  },
  {
   "cell_type": "code",
   "execution_count": 42,
   "id": "73596f15-e3a1-4ff2-b185-4879d67a1c72",
   "metadata": {},
   "outputs": [
    {
     "name": "stdout",
     "output_type": "stream",
     "text": [
      "tumour_stage        2B  3B  4A\n",
      "diagnos_tumor_size            \n",
      ">4см                20  40   3\n",
      "≤4см                51   6   0\n"
     ]
    }
   ],
   "source": [
    "# Create a contingency table \n",
    "test_data = pd.crosstab(diagnos_tumor_size, tumour_stage)\n",
    "print(test_data)"
   ]
  },
  {
   "cell_type": "markdown",
   "id": "c412789d-edd4-4947-a6e9-ec85e37522ac",
   "metadata": {},
   "source": [
    "#### Chi-Square Test of Independence"
   ]
  },
  {
   "cell_type": "code",
   "execution_count": 43,
   "id": "d6c6e60f-6920-4238-9247-2268750077da",
   "metadata": {},
   "outputs": [
    {
     "name": "stdout",
     "output_type": "stream",
     "text": [
      "Expected cell frequencies: [[37.275 24.15   1.575]\n",
      " [33.725 21.85   1.425]]\n",
      "Test statistic: 41.46931934858579\n",
      "Degree of freedom: 2\n",
      "p-value: 0.0000000010\n",
      "Reject NULL HYPOTHESIS. Thus, the variables are associated with each other and happen to have a correlation between the variables.\n"
     ]
    }
   ],
   "source": [
    "chi2_contingency_test (test_data)"
   ]
  },
  {
   "cell_type": "markdown",
   "id": "70c4f859-aff0-4c11-ac80-532cf31d62e9",
   "metadata": {},
   "source": [
    "**In this test, there are expected test frequencies that are <5. Therefore, we use the Fisher's Exact test instead.**"
   ]
  },
  {
   "cell_type": "markdown",
   "id": "65e9c481-660a-4673-b1a3-a2353d58696c",
   "metadata": {},
   "source": [
    "#### Fisher's Exact Test"
   ]
  },
  {
   "cell_type": "code",
   "execution_count": 44,
   "id": "3e8f6f15-f5e7-4b79-8628-eaf0295873cb",
   "metadata": {},
   "outputs": [
    {
     "name": "stdout",
     "output_type": "stream",
     "text": [
      "tumour_stage        2B  3B\n",
      "diagnos_tumor_size        \n",
      ">4см                20  40\n",
      "≤4см                51   6\n"
     ]
    }
   ],
   "source": [
    "# Create a contingency table \n",
    "test_data = pd.crosstab(diagnos_tumor_size, df.loc[df['tumour_stage'].isin(['2B','3B'])]['tumour_stage'])\n",
    "print(test_data)"
   ]
  },
  {
   "cell_type": "code",
   "execution_count": 45,
   "id": "97f44b0d-e03a-41dc-b8e5-27c05d0bb069",
   "metadata": {
    "tags": []
   },
   "outputs": [
    {
     "name": "stdout",
     "output_type": "stream",
     "text": [
      "odds ratio: 0.058823529411764705\n",
      "p-value: 0.0000000003\n",
      "Reject NULL HYPOTHESIS. Thus, the variables are associated with each other and happen to have a correlation between the variables.\n"
     ]
    }
   ],
   "source": [
    "fishers_exact_test (test_data)"
   ]
  },
  {
   "cell_type": "markdown",
   "id": "aa80acf2-1551-4591-8981-28158ce8b373",
   "metadata": {},
   "source": [
    "#### Testing correlation of ordinal variables using Spearman's Rank Correlation Coefficient"
   ]
  },
  {
   "cell_type": "code",
   "execution_count": 46,
   "id": "922dc8e7-6538-44d8-a12f-d8238f4f29c0",
   "metadata": {},
   "outputs": [
    {
     "name": "stdout",
     "output_type": "stream",
     "text": [
      "                            diagnos_tumor_size_ordinal  tumour_stage_ordinal\n",
      "diagnos_tumor_size_ordinal                    1.000000              0.586854\n",
      "tumour_stage_ordinal                          0.586854              1.000000\n"
     ]
    }
   ],
   "source": [
    "spearman_corr_test(df[['diagnos_tumor_size_ordinal','tumour_stage_ordinal']])"
   ]
  },
  {
   "cell_type": "markdown",
   "id": "203f41a6-5ec7-4ffd-8cac-f59e4ba35ce6",
   "metadata": {
    "tags": []
   },
   "source": [
    "### Diagnostic tumor size and  before brachy tumor size "
   ]
  },
  {
   "cell_type": "code",
   "execution_count": 47,
   "id": "f520ca92-32f8-4313-89b2-0c130f672e3d",
   "metadata": {
    "tags": []
   },
   "outputs": [
    {
     "name": "stdout",
     "output_type": "stream",
     "text": [
      "before_brachy_tumor_size  >2см  CR  ≤2см\n",
      "diagnos_tumor_size                      \n",
      ">4см                        43   6    14\n",
      "≤4см                         9  15    33\n"
     ]
    }
   ],
   "source": [
    "# Create a contingency table \n",
    "test_data = pd.crosstab(diagnos_tumor_size, before_brachy_tumor_size)\n",
    "print(test_data)"
   ]
  },
  {
   "cell_type": "markdown",
   "id": "99925dd0-7c40-49b2-be62-0d2a0a2a229c",
   "metadata": {},
   "source": [
    "#### Chi-Square Test of Independence"
   ]
  },
  {
   "cell_type": "code",
   "execution_count": 48,
   "id": "efca1bb8-3afb-4853-a56c-07e2c147e418",
   "metadata": {},
   "outputs": [
    {
     "name": "stdout",
     "output_type": "stream",
     "text": [
      "Expected cell frequencies: [[27.3   11.025 24.675]\n",
      " [24.7    9.975 22.325]]\n",
      "Test statistic: 33.552644763651\n",
      "Degree of freedom: 2\n",
      "p-value: 0.0000000518\n",
      "Reject NULL HYPOTHESIS. Thus, the variables are associated with each other and happen to have a correlation between the variables.\n"
     ]
    }
   ],
   "source": [
    "chi2_contingency_test (test_data)"
   ]
  },
  {
   "cell_type": "markdown",
   "id": "f60b1f85-c8ec-405a-aa74-1dd4b331afc2",
   "metadata": {},
   "source": [
    "#### Testing correlation of ordinal variables using Spearman's Rank Correlation Coefficient"
   ]
  },
  {
   "cell_type": "code",
   "execution_count": 49,
   "id": "de7c4e98-7a88-4161-8b1f-3d0dd0a1f160",
   "metadata": {},
   "outputs": [
    {
     "data": {
      "text/plain": "2    52\n1    47\n0    21\nName: before_brachy_tumor_size_ordinal, dtype: int64"
     },
     "execution_count": 49,
     "metadata": {},
     "output_type": "execute_result"
    }
   ],
   "source": [
    "df['before_brachy_tumor_size_ordinal'].value_counts()"
   ]
  },
  {
   "cell_type": "code",
   "execution_count": 50,
   "id": "bbe06385-bd54-4c06-a0ea-3d7a271cc246",
   "metadata": {},
   "outputs": [
    {
     "data": {
      "text/plain": ">2см    52\n≤2см    47\nCR      21\nName: before_brachy_tumor_size, dtype: int64"
     },
     "execution_count": 50,
     "metadata": {},
     "output_type": "execute_result"
    }
   ],
   "source": [
    "df['before_brachy_tumor_size'].value_counts()"
   ]
  },
  {
   "cell_type": "code",
   "execution_count": 51,
   "id": "81b762ad-b38b-4f83-9c0e-5d09536b28a6",
   "metadata": {},
   "outputs": [
    {
     "name": "stdout",
     "output_type": "stream",
     "text": [
      "                                  diagnos_tumor_size_ordinal  \\\n",
      "diagnos_tumor_size_ordinal                          1.000000   \n",
      "before_brachy_tumor_size_ordinal                    0.494411   \n",
      "\n",
      "                                  before_brachy_tumor_size_ordinal  \n",
      "diagnos_tumor_size_ordinal                                0.494411  \n",
      "before_brachy_tumor_size_ordinal                          1.000000  \n"
     ]
    }
   ],
   "source": [
    "spearman_corr_test(df[['diagnos_tumor_size_ordinal','before_brachy_tumor_size_ordinal']])"
   ]
  },
  {
   "cell_type": "markdown",
   "id": "8b9668a7-f376-4bd6-b5e4-696371c6ecb9",
   "metadata": {},
   "source": [
    "### Before brachy tumor size and before brachy category"
   ]
  },
  {
   "cell_type": "code",
   "execution_count": 52,
   "id": "cbd61d34-57f9-46a0-8762-f7489430d633",
   "metadata": {},
   "outputs": [
    {
     "name": "stdout",
     "output_type": "stream",
     "text": [
      "before_brachy_tumor_size  >2см  CR  ≤2см\n",
      "before_brachy_categor                   \n",
      "1                           15  21    42\n",
      "2                           37   0     5\n"
     ]
    }
   ],
   "source": [
    "# Create a contingency table \n",
    "test_data = pd.crosstab(before_brachy_categor, before_brachy_tumor_size)\n",
    "print(test_data)"
   ]
  },
  {
   "cell_type": "markdown",
   "id": "37c32e52-df34-461a-b077-d909ea1c39b8",
   "metadata": {},
   "source": [
    "#### Chi-Square Test of Independence"
   ]
  },
  {
   "cell_type": "code",
   "execution_count": 53,
   "id": "8015625b-9d33-4b63-aa67-a8e04a99729a",
   "metadata": {},
   "outputs": [
    {
     "name": "stdout",
     "output_type": "stream",
     "text": [
      "Expected cell frequencies: [[33.8  13.65 30.55]\n",
      " [18.2   7.35 16.45]]\n",
      "Test statistic: 53.44544162874768\n",
      "Degree of freedom: 2\n",
      "p-value: 0.0000000000\n",
      "Reject NULL HYPOTHESIS. Thus, the variables are associated with each other and happen to have a correlation between the variables.\n"
     ]
    }
   ],
   "source": [
    "chi2_contingency_test (test_data)"
   ]
  },
  {
   "cell_type": "markdown",
   "id": "033082ee-2c1e-4f9c-ba41-843634ac46bb",
   "metadata": {},
   "source": [
    "#### Testing correlation of ordinal variables using Spearman's Rank Correlation Coefficient"
   ]
  },
  {
   "cell_type": "code",
   "execution_count": 54,
   "id": "daa30f22-eba6-42c7-a747-fcee64097a80",
   "metadata": {},
   "outputs": [
    {
     "name": "stdout",
     "output_type": "stream",
     "text": [
      "                                  before_brachy_categor  \\\n",
      "before_brachy_categor                          1.000000   \n",
      "before_brachy_tumor_size_ordinal               0.644586   \n",
      "\n",
      "                                  before_brachy_tumor_size_ordinal  \n",
      "before_brachy_categor                                     0.644586  \n",
      "before_brachy_tumor_size_ordinal                          1.000000  \n"
     ]
    }
   ],
   "source": [
    "spearman_corr_test(df[['before_brachy_categor','before_brachy_tumor_size_ordinal']])"
   ]
  },
  {
   "cell_type": "markdown",
   "source": [
    " ### Diagnostic tumor size and early response status. Incomplete"
   ],
   "metadata": {
    "collapsed": false
   }
  },
  {
   "cell_type": "code",
   "execution_count": 61,
   "outputs": [
    {
     "name": "stdout",
     "output_type": "stream",
     "text": [
      "early_response_status  CR  RC  RC lymph  Res  Resid  Дахилттай  Үсэрхийлэлтэй\n",
      "diagnos_tumor_size                                                           \n",
      ">4см                   19   4         0    3      1          0              1\n",
      "≤4см                   25   0         1    3      0          1              0\n"
     ]
    }
   ],
   "source": [
    "# Create a contingency table\n",
    "test_data = pd.crosstab(diagnos_tumor_size, early_response_status)\n",
    "print(test_data)"
   ],
   "metadata": {
    "collapsed": false,
    "pycharm": {
     "name": "#%%\n"
    }
   }
  },
  {
   "cell_type": "markdown",
   "source": [
    " ### Before brachytherapy tumor size and early response status"
   ],
   "metadata": {
    "collapsed": false
   }
  },
  {
   "cell_type": "code",
   "execution_count": 62,
   "outputs": [
    {
     "name": "stdout",
     "output_type": "stream",
     "text": [
      "early_response_status     CR  RC  RC lymph  Res  Resid  Дахилттай  \\\n",
      "before_brachy_tumor_size                                            \n",
      ">2см                      16   4         0    4      1          1   \n",
      "CR                         9   0         1    0      0          0   \n",
      "≤2см                      19   0         0    2      0          0   \n",
      "\n",
      "early_response_status     Үсэрхийлэлтэй  \n",
      "before_brachy_tumor_size                 \n",
      ">2см                                  1  \n",
      "CR                                    0  \n",
      "≤2см                                  0  \n"
     ]
    }
   ],
   "source": [
    "# Create a contingency table\n",
    "test_data = pd.crosstab(before_brachy_tumor_size, early_response_status)\n",
    "print(test_data)"
   ],
   "metadata": {
    "collapsed": false,
    "pycharm": {
     "name": "#%%\n"
    }
   }
  },
  {
   "cell_type": "markdown",
   "source": [
    " ### Number of chemo cycles with early response status"
   ],
   "metadata": {
    "collapsed": false
   }
  },
  {
   "cell_type": "code",
   "execution_count": 64,
   "outputs": [
    {
     "name": "stdout",
     "output_type": "stream",
     "text": [
      "early_response_status  CR  RC  RC lymph  Res  Resid  Дахилттай  Үсэрхийлэлтэй\n",
      "chemo_numcycles                                                              \n",
      "No chemo                5   0         0    1      0          0              0\n",
      "≤3                     12   0         0    1      1          0              0\n",
      "≥4                     27   4         1    4      0          1              1\n"
     ]
    }
   ],
   "source": [
    "# Create a contingency table\n",
    "test_data = pd.crosstab(chemo_numcycles, early_response_status)\n",
    "print(test_data)"
   ],
   "metadata": {
    "collapsed": false,
    "pycharm": {
     "name": "#%%\n"
    }
   }
  },
  {
   "cell_type": "markdown",
   "source": [
    "#### Before brachytherapy tumor size and last response status"
   ],
   "metadata": {
    "collapsed": false,
    "pycharm": {
     "name": "#%% md\n"
    }
   }
  },
  {
   "cell_type": "code",
   "execution_count": 98,
   "outputs": [
    {
     "name": "stdout",
     "output_type": "stream",
     "text": [
      "last_response_status      CR  Not CR\n",
      "before_brachy_tumor_size            \n",
      ">2см                      35      17\n",
      "CR                        20       1\n",
      "≤2см                      41       6\n"
     ]
    }
   ],
   "source": [
    "# Create a contingency table\n",
    "test_data = pd.crosstab(before_brachy_tumor_size, df['last_response_status'])\n",
    "print(test_data)"
   ],
   "metadata": {
    "collapsed": false,
    "pycharm": {
     "name": "#%%\n"
    }
   }
  },
  {
   "cell_type": "markdown",
   "source": [
    "#### Chi-Square Test of Independence"
   ],
   "metadata": {
    "collapsed": false,
    "pycharm": {
     "name": "#%% md\n"
    }
   }
  },
  {
   "cell_type": "code",
   "execution_count": 99,
   "outputs": [
    {
     "name": "stdout",
     "output_type": "stream",
     "text": [
      "Expected cell frequencies: [[41.6 10.4]\n",
      " [16.8  4.2]\n",
      " [37.6  9.4]]\n",
      "Test statistic: 9.820430013249162\n",
      "Degree of freedom: 2\n",
      "p-value: 0.0073709034\n",
      "Reject NULL HYPOTHESIS. Thus, the variables are associated with each other and happen to have a correlation between the variables.\n"
     ]
    }
   ],
   "source": [
    "chi2_contingency_test(test_data)"
   ],
   "metadata": {
    "collapsed": false,
    "pycharm": {
     "name": "#%%\n"
    }
   }
  },
  {
   "cell_type": "markdown",
   "source": [
    "#### Diagnostic tumor size and last response status"
   ],
   "metadata": {
    "collapsed": false,
    "pycharm": {
     "name": "#%% md\n"
    }
   }
  },
  {
   "cell_type": "code",
   "execution_count": 100,
   "outputs": [
    {
     "name": "stdout",
     "output_type": "stream",
     "text": [
      "last_response_status  CR  Not CR\n",
      "diagnos_tumor_size              \n",
      ">4см                  46      17\n",
      "≤4см                  50       7\n"
     ]
    }
   ],
   "source": [
    "# Create a contingency table\n",
    "test_data = pd.crosstab(diagnos_tumor_size, df['last_response_status'])\n",
    "print(test_data)"
   ],
   "metadata": {
    "collapsed": false,
    "pycharm": {
     "name": "#%%\n"
    }
   }
  },
  {
   "cell_type": "markdown",
   "source": [
    "#### Chi-Square Test of Independence"
   ],
   "metadata": {
    "collapsed": false
   }
  },
  {
   "cell_type": "code",
   "execution_count": 101,
   "outputs": [
    {
     "name": "stdout",
     "output_type": "stream",
     "text": [
      "Expected cell frequencies: [[50.4 12.6]\n",
      " [45.6 11.4]]\n",
      "Test statistic: 3.1766917293233083\n",
      "Degree of freedom: 1\n",
      "p-value: 0.0746958219\n",
      "ACCEPT NULL HYPOTHESIS. Thus, the grouping variables have no association or correlation amongst them.\n"
     ]
    }
   ],
   "source": [
    "chi2_contingency_test(test_data)"
   ],
   "metadata": {
    "collapsed": false,
    "pycharm": {
     "name": "#%%\n"
    }
   }
  },
  {
   "cell_type": "markdown",
   "source": [
    "## References:\n",
    "1. McHugh ML. The chi-square test of independence. Biochem Med (Zagreb). 2013;23(2):143-9. doi: 10.11613/bm.2013.018. PMID: 23894860; PMCID: PMC3900058.\n",
    "https://www.ncbi.nlm.nih.gov/pmc/articles/PMC3900058/#:~:text=The%20Chi%2Dsquare%20test%20of%20independence%20(also%20known%20as%20the,often%20happens%20in%20clinical%20research.\n",
    "2. Schober, Patrick MD, PhD, MMedStat; Boer, Christa PhD, MSc; Schwarte, Lothar A. MD, PhD, MBA. Correlation Coefficients: Appropriate Use and Interpretation. Anesthesia & Analgesia: May 2018 - Volume 126 - Issue 5 - p 1763-1768\n",
    "doi: 10.1213/ANE.0000000000002864\n",
    "https://journals.lww.com/anesthesia-analgesia/fulltext/2018/05000/correlation_coefficients__appropriate_use_and.50.aspx"
   ],
   "metadata": {
    "collapsed": false,
    "pycharm": {
     "name": "#%% md\n"
    }
   }
  }
 ],
 "metadata": {
  "kernelspec": {
   "display_name": "Kedro (cancer_data_analytics)",
   "language": "python",
   "name": "kedro_cancer_data_analytics"
  },
  "language_info": {
   "codemirror_mode": {
    "name": "ipython",
    "version": 3
   },
   "file_extension": ".py",
   "mimetype": "text/x-python",
   "name": "python",
   "nbconvert_exporter": "python",
   "pygments_lexer": "ipython3",
   "version": "3.8.13"
  }
 },
 "nbformat": 4,
 "nbformat_minor": 5
}