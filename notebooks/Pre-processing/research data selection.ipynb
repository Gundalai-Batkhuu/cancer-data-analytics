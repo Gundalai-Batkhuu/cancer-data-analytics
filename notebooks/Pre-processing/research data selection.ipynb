{
 "cells": [
  {
   "cell_type": "markdown",
   "source": [],
   "metadata": {
    "collapsed": false,
    "pycharm": {
     "name": "#%% md\n"
    }
   }
  },
  {
   "cell_type": "markdown",
   "source": [],
   "metadata": {
    "collapsed": false,
    "pycharm": {
     "name": "#%% md\n"
    }
   }
  },
  {
   "cell_type": "code",
   "execution_count": 38,
   "outputs": [],
   "source": [
    "import pandas as pd\n",
    "from pathlib import Path\n",
    "import os\n",
    "import numpy as np\n",
    "from numpy import nan\n",
    "import plotly.express as px\n",
    "import matplotlib.pyplot as plt\n",
    "import seaborn as sns\n",
    "from datetime import date, timedelta"
   ],
   "metadata": {
    "collapsed": false,
    "pycharm": {
     "name": "#%%\n"
    }
   }
  },
  {
   "cell_type": "markdown",
   "source": [
    "## Retrieve data"
   ],
   "metadata": {
    "collapsed": false,
    "pycharm": {
     "name": "#%% md\n"
    }
   },
   "execution_count": 2
  },
  {
   "cell_type": "code",
   "execution_count": 39,
   "outputs": [
    {
     "data": {
      "text/plain": "['Research data',\n 'Patient',\n 'Diagnosis',\n 'External beam radiotherapy',\n 'Brachytherapy',\n 'Chemotherapy',\n 'Acute toxicity',\n 'Response status',\n 'Late morbidity',\n 'Disease status',\n 'parameters']"
     },
     "execution_count": 39,
     "metadata": {},
     "output_type": "execute_result"
    }
   ],
   "source": [
    "# Check the DataCatalog list\n",
    "catalog.list()"
   ],
   "metadata": {
    "collapsed": false,
    "pycharm": {
     "name": "#%%\n"
    }
   }
  },
  {
   "cell_type": "markdown",
   "source": [
    "## Selecting the research variables\n",
    "\n",
    "In this notebook, I'm creating a joint table that contains all variables of interest. The sample size of the research group is determined by the number of patients for which we have complete data.\n",
    "\n",
    "The table is created by selecting and joining interim tables that contain the variables that we are using in the research."
   ],
   "metadata": {
    "collapsed": false,
    "pycharm": {
     "name": "#%% md\n"
    }
   }
  },
  {
   "cell_type": "code",
   "execution_count": 40,
   "outputs": [
    {
     "name": "stdout",
     "output_type": "stream",
     "text": [
      "2022-07-25 17:02:23,327 - kedro.io.data_catalog - INFO - Loading data from `Patient` (ExcelDataSet)...\n",
      "2022-07-25 17:02:23,509 - kedro.io.data_catalog - INFO - Loading data from `Diagnosis` (ExcelDataSet)...\n",
      "2022-07-25 17:02:23,896 - kedro.io.data_catalog - INFO - Loading data from `External beam radiotherapy` (ExcelDataSet)...\n",
      "2022-07-25 17:02:24,052 - kedro.io.data_catalog - INFO - Loading data from `Brachytherapy` (ExcelDataSet)...\n",
      "2022-07-25 17:02:24,214 - kedro.io.data_catalog - INFO - Loading data from `Chemotherapy` (ExcelDataSet)...\n",
      "2022-07-25 17:02:24,331 - kedro.io.data_catalog - INFO - Loading data from `Acute toxicity` (ExcelDataSet)...\n",
      "2022-07-25 17:02:24,461 - kedro.io.data_catalog - INFO - Loading data from `Response status` (ExcelDataSet)...\n",
      "2022-07-25 17:02:24,623 - kedro.io.data_catalog - INFO - Loading data from `Late morbidity` (ExcelDataSet)...\n",
      "2022-07-25 17:02:24,771 - kedro.io.data_catalog - INFO - Loading data from `Disease status` (ExcelDataSet)...\n"
     ]
    }
   ],
   "source": [
    "# Importing data from dataframes\n",
    "patient = catalog.load('Patient')\n",
    "diagnosis = catalog.load('Diagnosis')\n",
    "external_radiotherapy = catalog.load('External beam radiotherapy')\n",
    "brachytherapy = catalog.load('Brachytherapy')\n",
    "chemotherapy = catalog.load('Chemotherapy')\n",
    "acute_toxicity = catalog.load('Acute toxicity')\n",
    "response_status = catalog.load('Response status')\n",
    "late_morbidity = catalog.load('Late morbidity')\n",
    "disease_status = catalog.load('Disease status')"
   ],
   "metadata": {
    "collapsed": false,
    "pycharm": {
     "name": "#%%\n"
    }
   }
  },
  {
   "cell_type": "code",
   "execution_count": 41,
   "outputs": [
    {
     "name": "stdout",
     "output_type": "stream",
     "text": [
      "<class 'pandas.core.frame.DataFrame'>\n",
      "Int64Index: 120 entries, 101 to 180\n",
      "Columns: 139 entries, card_no to Last_follup_timing\n",
      "dtypes: datetime64[ns](9), float64(40), int64(20), object(70)\n",
      "memory usage: 131.2+ KB\n"
     ]
    }
   ],
   "source": [
    "df_merged = diagnosis\\\n",
    "    .join(late_morbidity,on='id',lsuffix='', rsuffix='_y')\\\n",
    "    .join(external_radiotherapy,on='id',lsuffix='', rsuffix='_y')\\\n",
    "    .join(brachytherapy,on='id',lsuffix='', rsuffix='_y')\\\n",
    "    .join(patient,on='id',lsuffix='', rsuffix='_y')\\\n",
    "    .join(diagnosis,on='id',lsuffix='', rsuffix='_y')\\\n",
    "    .join(chemotherapy,on='id',lsuffix='', rsuffix='_y')\\\n",
    "    .join(acute_toxicity,on='id',lsuffix='', rsuffix='_y')\\\n",
    "    .join(disease_status,on='id',lsuffix='', rsuffix='_y')\\\n",
    "    .join(response_status,on='id',lsuffix='', rsuffix='_y')\n",
    "\n",
    "df_merged.info()"
   ],
   "metadata": {
    "collapsed": false,
    "pycharm": {
     "name": "#%%\n"
    }
   }
  },
  {
   "cell_type": "code",
   "execution_count": 42,
   "outputs": [],
   "source": [
    "# Select variables of interest\n",
    "df = df_merged[['perfor_status',\n",
    "             'has_concom',\n",
    "             'tumour_stage',\n",
    "             'N',\n",
    "             'M',\n",
    "             'figo',\n",
    "             'pathological_type',\n",
    "             'diagnos_tumor_size',\n",
    "             'growth_type',\n",
    "             'vaginal_invasion',\n",
    "             'PaR',\n",
    "             'PaL',\n",
    "             'uterine_invasion',\n",
    "             'ct_abdomen',\n",
    "             'ct_pelvic',\n",
    "             'mri_diagnostic',\n",
    "             'mri_before_brachy',\n",
    "             'pelvic_node_mts',\n",
    "             'Paraaort_node_mts',\n",
    "             'treatment_total_days',\n",
    "             'pelvic_total_dose',\n",
    "             'Pelv_fr',\n",
    "             'Dose_per_fr',\n",
    "             'midline_block_dose',\n",
    "             'midline_block_frac',\n",
    "             'paramet_boost_dose',\n",
    "             'paramet_boost_fr',\n",
    "             'card_no',\n",
    "             'last_brachy_date',\n",
    "             'applicator_name',\n",
    "             # 'fraction_number',\n",
    "             'total_apoint_left',\n",
    "             'total_apoint_right',\n",
    "             # 'icru_rectum',\n",
    "             'icru_bladder',\n",
    "             'hrctv_volume',\n",
    "             'eqd2_bladder',\n",
    "             'eqd2_rectum',\n",
    "             'eqd2_sigmoid',\n",
    "             'eqd2_hrbrachy_dose',\n",
    "             'eqd2_total_dose',\n",
    "             'chemo_dose',\n",
    "             'chemo_numcycles',\n",
    "             'before_brachy_tumor_size',\n",
    "             'before_brachy_categor',\n",
    "             'post_treatment_response',\n",
    "             'post_treatment_response_date',\n",
    "             # 'early_response_status',\n",
    "             # 'early_response_date',\n",
    "             'last_response_date',\n",
    "             'last_response_status',\n",
    "             'Last_follup_timing',\n",
    "             # 'Last_rect_grade',\n",
    "             'Last_rect_eval_date',\n",
    "             # 'Last_rectum_duration',\n",
    "             # 'Last_bladder_grade',\n",
    "             # 'Last_blad_eval_date',\n",
    "             # 'Last_blad_duration'\n",
    "            ]].copy()"
   ],
   "metadata": {
    "collapsed": false,
    "pycharm": {
     "name": "#%%\n"
    }
   }
  },
  {
   "cell_type": "code",
   "execution_count": 43,
   "outputs": [
    {
     "name": "stdout",
     "output_type": "stream",
     "text": [
      "<class 'pandas.core.frame.DataFrame'>\n",
      "Int64Index: 120 entries, 101 to 180\n",
      "Data columns (total 49 columns):\n",
      " #   Column                        Non-Null Count  Dtype         \n",
      "---  ------                        --------------  -----         \n",
      " 0   perfor_status                 120 non-null    int64         \n",
      " 1   has_concom                    120 non-null    object        \n",
      " 2   tumour_stage                  120 non-null    object        \n",
      " 3   N                             120 non-null    int64         \n",
      " 4   M                             120 non-null    int64         \n",
      " 5   figo                          120 non-null    object        \n",
      " 6   pathological_type             120 non-null    object        \n",
      " 7   diagnos_tumor_size            120 non-null    object        \n",
      " 8   growth_type                   120 non-null    int64         \n",
      " 9   vaginal_invasion              120 non-null    object        \n",
      " 10  PaR                           120 non-null    object        \n",
      " 11  PaL                           120 non-null    object        \n",
      " 12  uterine_invasion              120 non-null    object        \n",
      " 13  ct_abdomen                    120 non-null    object        \n",
      " 14  ct_pelvic                     120 non-null    object        \n",
      " 15  mri_diagnostic                120 non-null    object        \n",
      " 16  mri_before_brachy             120 non-null    object        \n",
      " 17  pelvic_node_mts               120 non-null    object        \n",
      " 18  Paraaort_node_mts             120 non-null    object        \n",
      " 19  treatment_total_days          120 non-null    int64         \n",
      " 20  pelvic_total_dose             120 non-null    int64         \n",
      " 21  Pelv_fr                       120 non-null    int64         \n",
      " 22  Dose_per_fr                   120 non-null    int64         \n",
      " 23  midline_block_dose            120 non-null    int64         \n",
      " 24  midline_block_frac            120 non-null    int64         \n",
      " 25  paramet_boost_dose            120 non-null    int64         \n",
      " 26  paramet_boost_fr              120 non-null    int64         \n",
      " 27  card_no                       120 non-null    object        \n",
      " 28  last_brachy_date              120 non-null    datetime64[ns]\n",
      " 29  applicator_name               120 non-null    object        \n",
      " 30  total_apoint_left             119 non-null    float64       \n",
      " 31  total_apoint_right            119 non-null    float64       \n",
      " 32  icru_bladder                  119 non-null    float64       \n",
      " 33  hrctv_volume                  120 non-null    float64       \n",
      " 34  eqd2_bladder                  120 non-null    float64       \n",
      " 35  eqd2_rectum                   120 non-null    float64       \n",
      " 36  eqd2_sigmoid                  119 non-null    float64       \n",
      " 37  eqd2_hrbrachy_dose            119 non-null    float64       \n",
      " 38  eqd2_total_dose               119 non-null    float64       \n",
      " 39  chemo_dose                    120 non-null    object        \n",
      " 40  chemo_numcycles               120 non-null    object        \n",
      " 41  before_brachy_tumor_size      120 non-null    object        \n",
      " 42  before_brachy_categor         120 non-null    int64         \n",
      " 43  post_treatment_response       120 non-null    int64         \n",
      " 44  post_treatment_response_date  120 non-null    object        \n",
      " 45  last_response_date            111 non-null    object        \n",
      " 46  last_response_status          120 non-null    object        \n",
      " 47  Last_follup_timing            120 non-null    int64         \n",
      " 48  Last_rect_eval_date           111 non-null    object        \n",
      "dtypes: datetime64[ns](1), float64(9), int64(15), object(24)\n",
      "memory usage: 46.9+ KB\n"
     ]
    }
   ],
   "source": [
    "df.info()"
   ],
   "metadata": {
    "collapsed": false,
    "pycharm": {
     "name": "#%%\n"
    }
   }
  },
  {
   "cell_type": "code",
   "execution_count": 44,
   "outputs": [
    {
     "name": "stdout",
     "output_type": "stream",
     "text": [
      "2022-07-25 17:02:25,034 - kedro.io.data_catalog - INFO - Saving data to `Research data` (CSVDataSet)...\n"
     ]
    }
   ],
   "source": [
    "catalog.save('Research data',df)"
   ],
   "metadata": {
    "collapsed": false,
    "pycharm": {
     "name": "#%%\n"
    }
   }
  }
 ],
 "metadata": {
  "kernelspec": {
   "name": "kedro_cancer_data_analytics",
   "language": "python",
   "display_name": "Kedro (cancer_data_analytics)"
  },
  "language_info": {
   "codemirror_mode": {
    "name": "ipython",
    "version": 2
   },
   "file_extension": ".py",
   "mimetype": "text/x-python",
   "name": "python",
   "nbconvert_exporter": "python",
   "pygments_lexer": "ipython2",
   "version": "2.7.6"
  }
 },
 "nbformat": 4,
 "nbformat_minor": 0
}