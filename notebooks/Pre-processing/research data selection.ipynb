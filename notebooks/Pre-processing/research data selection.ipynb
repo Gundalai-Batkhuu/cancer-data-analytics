{
 "cells": [
  {
   "cell_type": "code",
   "execution_count": 1,
   "metadata": {
    "collapsed": false,
    "jupyter": {
     "outputs_hidden": false
    },
    "pycharm": {
     "name": "#%%\n"
    }
   },
   "outputs": [],
   "source": [
    "import pandas as pd\n",
    "from pathlib import Path\n",
    "import os\n",
    "import numpy as np\n",
    "from numpy import nan"
   ]
  },
  {
   "cell_type": "markdown",
   "metadata": {
    "pycharm": {
     "name": "#%% md\n"
    }
   },
   "source": [
    "## Retrieve data"
   ]
  },
  {
   "cell_type": "code",
   "execution_count": 2,
   "metadata": {
    "collapsed": false,
    "jupyter": {
     "outputs_hidden": false
    },
    "pycharm": {
     "name": "#%%\n"
    }
   },
   "outputs": [
    {
     "name": "stdout",
     "output_type": "stream",
     "text": [
      "2022-09-29 17:43:23,598 - kedro.extras.extensions.ipython - INFO - No path argument was provided. Using: C:\\Users\\gdbt0\\Projects\\cancer-data-analytics\n",
      "2022-09-29 17:43:23,886 - kedro.framework.session.store - INFO - `read()` not implemented for `BaseSessionStore`. Assuming empty store.\n",
      "2022-09-29 17:43:23,992 - kedro.extras.extensions.ipython - INFO - ** Kedro project Cancer data analytics\n",
      "2022-09-29 17:43:23,993 - kedro.extras.extensions.ipython - INFO - Defined global variable `context`, `session`, `catalog` and `pipelines`\n"
     ]
    },
    {
     "name": "stderr",
     "output_type": "stream",
     "text": [
      "C:\\Users\\gdbt0\\anaconda3\\envs\\kedro-environment\\lib\\site-packages\\kedro\\framework\\context\\context.py:344: UserWarning: Credentials not found in your Kedro project config.\n",
      "No files found in ['C:\\\\Users\\\\gdbt0\\\\Projects\\\\cancer-data-analytics\\\\conf\\\\base', 'C:\\\\Users\\\\gdbt0\\\\Projects\\\\cancer-data-analytics\\\\conf\\\\local'] matching the glob pattern(s): ['credentials*', 'credentials*/**', '**/credentials*']\n",
      "  warn(f\"Credentials not found in your Kedro project config.\\n{str(exc)}\")\n"
     ]
    }
   ],
   "source": [
    "%reload_kedro"
   ]
  },
  {
   "cell_type": "code",
   "execution_count": 3,
   "metadata": {
    "collapsed": false,
    "jupyter": {
     "outputs_hidden": false
    },
    "pycharm": {
     "name": "#%%\n"
    }
   },
   "outputs": [
    {
     "data": {
      "text/plain": "['Research data Mongolian',\n 'Research data English',\n 'Patient',\n 'Diagnosis',\n 'External beam radiotherapy',\n 'Brachytherapy',\n 'Chemotherapy',\n 'Acute toxicity',\n 'Response status',\n 'Late morbidity',\n 'Disease status',\n 'parameters']"
     },
     "execution_count": 3,
     "metadata": {},
     "output_type": "execute_result"
    }
   ],
   "source": [
    "# Check the DataCatalog list\n",
    "catalog.list()"
   ]
  },
  {
   "cell_type": "markdown",
   "metadata": {
    "pycharm": {
     "name": "#%% md\n"
    }
   },
   "source": [
    "## Selecting the research variables\n",
    "\n",
    "In this notebook, I'm creating a joint table that contains all variables of interest. The sample size of the research group is determined by the number of patients for which we have complete data.\n",
    "\n",
    "The table is created by selecting and joining interim tables that contain the variables that we are using in the research."
   ]
  },
  {
   "cell_type": "code",
   "execution_count": 4,
   "metadata": {
    "collapsed": false,
    "jupyter": {
     "outputs_hidden": false
    },
    "pycharm": {
     "name": "#%%\n"
    }
   },
   "outputs": [
    {
     "name": "stdout",
     "output_type": "stream",
     "text": [
      "2022-09-29 17:43:24,027 - kedro.io.data_catalog - INFO - Loading data from `Patient` (ExcelDataSet)...\n",
      "2022-09-29 17:43:24,425 - kedro.io.data_catalog - INFO - Loading data from `Diagnosis` (ExcelDataSet)...\n",
      "2022-09-29 17:43:24,721 - kedro.io.data_catalog - INFO - Loading data from `External beam radiotherapy` (ExcelDataSet)...\n",
      "2022-09-29 17:43:24,826 - kedro.io.data_catalog - INFO - Loading data from `Brachytherapy` (ExcelDataSet)...\n",
      "2022-09-29 17:43:24,938 - kedro.io.data_catalog - INFO - Loading data from `Chemotherapy` (ExcelDataSet)...\n",
      "2022-09-29 17:43:25,040 - kedro.io.data_catalog - INFO - Loading data from `Acute toxicity` (ExcelDataSet)...\n",
      "2022-09-29 17:43:25,125 - kedro.io.data_catalog - INFO - Loading data from `Response status` (ExcelDataSet)...\n",
      "2022-09-29 17:43:25,221 - kedro.io.data_catalog - INFO - Loading data from `Late morbidity` (ExcelDataSet)...\n",
      "2022-09-29 17:43:25,323 - kedro.io.data_catalog - INFO - Loading data from `Disease status` (ExcelDataSet)...\n"
     ]
    }
   ],
   "source": [
    "# Importing data from dataframes\n",
    "patient = catalog.load('Patient')\n",
    "diagnosis = catalog.load('Diagnosis')\n",
    "external_radiotherapy = catalog.load('External beam radiotherapy')\n",
    "brachytherapy = catalog.load('Brachytherapy')\n",
    "chemotherapy = catalog.load('Chemotherapy')\n",
    "acute_toxicity = catalog.load('Acute toxicity')\n",
    "response_status = catalog.load('Response status')\n",
    "late_morbidity = catalog.load('Late morbidity')\n",
    "disease_status = catalog.load('Disease status')"
   ]
  },
  {
   "cell_type": "code",
   "execution_count": 5,
   "metadata": {
    "collapsed": false,
    "jupyter": {
     "outputs_hidden": false
    },
    "pycharm": {
     "name": "#%%\n"
    }
   },
   "outputs": [
    {
     "name": "stdout",
     "output_type": "stream",
     "text": [
      "<class 'pandas.core.frame.DataFrame'>\n",
      "Int64Index: 120 entries, 101 to 180\n",
      "Columns: 139 entries, card_no to Last_follup_timing\n",
      "dtypes: datetime64[ns](9), float64(40), int64(19), object(71)\n",
      "memory usage: 131.2+ KB\n"
     ]
    }
   ],
   "source": [
    "df_merged = diagnosis\\\n",
    "    .join(late_morbidity,on='id',lsuffix='', rsuffix='_y')\\\n",
    "    .join(external_radiotherapy,on='id',lsuffix='', rsuffix='_y')\\\n",
    "    .join(brachytherapy,on='id',lsuffix='', rsuffix='_y')\\\n",
    "    .join(patient,on='id',lsuffix='', rsuffix='_y')\\\n",
    "    .join(diagnosis,on='id',lsuffix='', rsuffix='_y')\\\n",
    "    .join(chemotherapy,on='id',lsuffix='', rsuffix='_y')\\\n",
    "    .join(acute_toxicity,on='id',lsuffix='', rsuffix='_y')\\\n",
    "    .join(disease_status,on='id',lsuffix='', rsuffix='_y')\\\n",
    "    .join(response_status,on='id',lsuffix='', rsuffix='_y')\n",
    "\n",
    "df_merged.info()"
   ]
  },
  {
   "cell_type": "code",
   "execution_count": 6,
   "metadata": {
    "collapsed": false,
    "jupyter": {
     "outputs_hidden": false
    },
    "pycharm": {
     "name": "#%%\n"
    }
   },
   "outputs": [],
   "source": [
    "# Select variables of interest\n",
    "df = df_merged[[\n",
    "            'age',\n",
    "              'perfor_status',\n",
    "             'has_concom',\n",
    "             'tumour_stage',\n",
    "             'N',\n",
    "             'M',\n",
    "             'figo',\n",
    "             'pathological_type',\n",
    "             'diagnos_tumor_size',\n",
    "             'growth_type',\n",
    "             'vaginal_invasion',\n",
    "             'PaR',\n",
    "             'PaL',\n",
    "             'uterine_invasion',\n",
    "             'ct_abdomen',\n",
    "             'ct_pelvic',\n",
    "             'mri_diagnostic',\n",
    "             'mri_before_brachy',\n",
    "             'pelvic_node_mts',\n",
    "             'Paraaort_node_mts',\n",
    "             'treatment_total_days',\n",
    "             'pelvic_total_dose',\n",
    "             'Pelv_fr',\n",
    "             'Dose_per_fr',\n",
    "             'midline_block_dose',\n",
    "             'midline_block_frac',\n",
    "             'paramet_boost_dose',\n",
    "             'paramet_boost_fr',\n",
    "             'card_no',\n",
    "             'last_brachy_date',\n",
    "             'applicator_name',\n",
    "             # 'fraction_number',\n",
    "             'total_apoint_left',\n",
    "             'total_apoint_right',\n",
    "             'icru_rectum',\n",
    "             'icru_bladder',\n",
    "             'hrctv_volume',\n",
    "             'eqd2_bladder',\n",
    "             'eqd2_rectum',\n",
    "             'eqd2_sigmoid',\n",
    "             'eqd2_hrbrachy_dose',\n",
    "             'eqd2_total_dose',\n",
    "             'chemo_dose',\n",
    "             'chemo_numcycles',\n",
    "             'before_brachy_tumor_size',\n",
    "             'before_brachy_categor',\n",
    "             'post_treatment_response',\n",
    "             'post_treatment_response_date',\n",
    "             'early_response_status',\n",
    "             # 'early_response_date',\n",
    "             'last_response_date',\n",
    "             'last_response_status',\n",
    "             'Last_follup_timing',\n",
    "             'rect_sig_grade',\n",
    "             # 'Last_rect_grade',\n",
    "             'Last_rect_eval_date',\n",
    "             # 'Last_rectum_duration',\n",
    "             # 'Last_bladder_grade',\n",
    "             # 'Last_blad_eval_date',\n",
    "             # 'Last_blad_duration'\n",
    "            ]].copy()"
   ]
  },
  {
   "cell_type": "code",
   "execution_count": 7,
   "outputs": [],
   "source": [
    "df['id'] = df_merged.index"
   ],
   "metadata": {
    "collapsed": false,
    "pycharm": {
     "name": "#%%\n"
    }
   }
  },
  {
   "cell_type": "markdown",
   "metadata": {
    "collapsed": false,
    "jupyter": {
     "outputs_hidden": false
    },
    "pycharm": {
     "name": "#%% md\n"
    }
   },
   "source": [
    "## Create a new age value column"
   ]
  },
  {
   "cell_type": "code",
   "execution_count": 8,
   "outputs": [],
   "source": [
    "def define_age_group(age):\n",
    "    if age < 41:\n",
    "        return \"31-40\"\n",
    "    elif age < 51:\n",
    "        return \"41-50\"\n",
    "    elif age < 61:\n",
    "        return \"51-60\"\n",
    "    elif age < 71:\n",
    "        return \"61-70\"\n",
    "    elif age < 81:\n",
    "        return \"71-80\"\n",
    "    else:\n",
    "        return \"81-90\""
   ],
   "metadata": {
    "collapsed": false,
    "pycharm": {
     "name": "#%%\n"
    }
   }
  },
  {
   "cell_type": "code",
   "execution_count": 9,
   "outputs": [],
   "source": [
    "df[\"age_group\"] = [define_age_group(age) for age in df['age']]"
   ],
   "metadata": {
    "collapsed": false,
    "pycharm": {
     "name": "#%%\n"
    }
   }
  },
  {
   "cell_type": "code",
   "execution_count": 10,
   "outputs": [
    {
     "name": "stdout",
     "output_type": "stream",
     "text": [
      "2022-09-29 17:43:25,562 - kedro.io.data_catalog - INFO - Saving data to `Research data English` (CSVDataSet)...\n"
     ]
    }
   ],
   "source": [
    "catalog.save('Research data English', df)"
   ],
   "metadata": {
    "collapsed": false,
    "pycharm": {
     "name": "#%%\n"
    }
   }
  },
  {
   "cell_type": "markdown",
   "source": [
    "## Translate column names"
   ],
   "metadata": {
    "collapsed": false,
    "pycharm": {
     "name": "#%% md\n"
    }
   }
  },
  {
   "cell_type": "code",
   "execution_count": 11,
   "outputs": [
    {
     "name": "stdout",
     "output_type": "stream",
     "text": [
      "Index(['age', 'perfor_status', 'has_concom', 'tumour_stage', 'N', 'M', 'figo',\n",
      "       'pathological_type', 'diagnos_tumor_size', 'growth_type',\n",
      "       'vaginal_invasion', 'PaR', 'PaL', 'uterine_invasion', 'ct_abdomen',\n",
      "       'ct_pelvic', 'mri_diagnostic', 'mri_before_brachy', 'pelvic_node_mts',\n",
      "       'Paraaort_node_mts', 'treatment_total_days', 'pelvic_total_dose',\n",
      "       'Pelv_fr', 'Dose_per_fr', 'midline_block_dose', 'midline_block_frac',\n",
      "       'paramet_boost_dose', 'paramet_boost_fr', 'card_no', 'last_brachy_date',\n",
      "       'applicator_name', 'total_apoint_left', 'total_apoint_right',\n",
      "       'icru_rectum', 'icru_bladder', 'hrctv_volume', 'eqd2_bladder',\n",
      "       'eqd2_rectum', 'eqd2_sigmoid', 'eqd2_hrbrachy_dose', 'eqd2_total_dose',\n",
      "       'chemo_dose', 'chemo_numcycles', 'before_brachy_tumor_size',\n",
      "       'before_brachy_categor', 'post_treatment_response',\n",
      "       'post_treatment_response_date', 'early_response_status',\n",
      "       'last_response_date', 'last_response_status', 'Last_follup_timing',\n",
      "       'rect_sig_grade', 'Last_rect_eval_date', 'id', 'age_group'],\n",
      "      dtype='object')\n"
     ]
    }
   ],
   "source": [
    "# English column names\n",
    "english_col_names = df.columns\n",
    "print(english_col_names)"
   ],
   "metadata": {
    "collapsed": false,
    "pycharm": {
     "name": "#%%\n"
    }
   }
  },
  {
   "cell_type": "code",
   "execution_count": 14,
   "outputs": [],
   "source": [
    "mongolian_col_names = ['Нас', 'Биеийн ерөнхий байдал', 'Хавсарсан өвчин', 'Үе шат (T)', 'N', 'M',\n",
    "                       'FIGO үе шат',\n",
    "                       'Эмгэг судлалын дүгнэлт', 'Оношлогдох үеийн хавдрын хэмжээ', 'Ургалтын хэлбэр',\n",
    "                       'Үтрээний нэвчилт', 'PaR', 'PaL', 'Умайн их биеийн нэвчилт', 'Хэвлийн КТ',\n",
    "                       'Аарцгийн КТ', 'Оношилгооны СРТ', 'ДТЭ-ний өмнөх СРТ', 'pelvic_node_mts',\n",
    "                       'Paraaort_node_mts', 'treatment_total_days', 'pelvic_total_dose',\n",
    "                       'Pelv_fr', 'Dose_per_fr', 'midline_block_dose', 'midline_block_frac',\n",
    "                       'paramet_boost_dose', 'paramet_boost_fr', 'card_no', 'last_brachy_date',\n",
    "                       'applicator_name', 'total_apoint_left', 'total_apoint_right',\n",
    "                       'Шулуун гэдэсний ICRU цэгний тун', 'Давсагны ICRU цэгний тун', 'HRCTV эзэлхүүн', 'Давсагны EQD2 тун', 'Шулуун гэдэсний EQD2 тун',\n",
    "                       'eqd2_sigmoid', 'eqd2_hrbrachy_dose', 'EQD2 нийлбэр тун', 'chemo_dose',\n",
    "                       'Химийн эмчилгээний давтамжийн тоо', 'ДТЭ-ний өмнөх хавдрын хэмжээ', 'ДТЭ-ний өмнөх хавдрын багасалтын категори',\n",
    "                       'Хосолсон ТЭ-ий дараахь үр дүн',\n",
    "                       'post_treatment_response_date',\n",
    "                       'early_response_status',\n",
    "                       'last_response_date',\n",
    "                       'Өвчний ',\n",
    "                       'Last_follup_timing',\n",
    "                       'Шулуун гэдэсний гаж нөлөөний зэрэг',\n",
    "                       'Last_rect_eval_date', 'id', 'Насны ангилал']"
   ],
   "metadata": {
    "collapsed": false,
    "pycharm": {
     "name": "#%%\n"
    }
   }
  },
  {
   "cell_type": "code",
   "execution_count": 15,
   "outputs": [
    {
     "name": "stdout",
     "output_type": "stream",
     "text": [
      "{'Нас': 'age', 'Биеийн ерөнхий байдал': 'perfor_status', 'Хавсарсан өвчин': 'has_concom', 'Үе шат (T)': 'tumour_stage', 'N': 'N', 'M': 'M', 'FIGO үе шат': 'figo', 'Эмгэг судлалын дүгнэлт': 'pathological_type', 'Оношлогдох үеийн хавдрын хэмжээ': 'diagnos_tumor_size', 'Ургалтын хэлбэр': 'growth_type', 'Үтрээний нэвчилт': 'vaginal_invasion', 'PaR': 'PaR', 'PaL': 'PaL', 'Умайн их биеийн нэвчилт': 'uterine_invasion', 'Хэвлийн КТ': 'ct_abdomen', 'Аарцгийн КТ': 'ct_pelvic', 'Оношилгооны СРТ': 'mri_diagnostic', 'ДТЭ-ний өмнөх СРТ': 'mri_before_brachy', 'pelvic_node_mts': 'pelvic_node_mts', 'Paraaort_node_mts': 'Paraaort_node_mts', 'treatment_total_days': 'treatment_total_days', 'pelvic_total_dose': 'pelvic_total_dose', 'Pelv_fr': 'Pelv_fr', 'Dose_per_fr': 'Dose_per_fr', 'midline_block_dose': 'midline_block_dose', 'midline_block_frac': 'midline_block_frac', 'paramet_boost_dose': 'paramet_boost_dose', 'paramet_boost_fr': 'paramet_boost_fr', 'card_no': 'card_no', 'last_brachy_date': 'last_brachy_date', 'applicator_name': 'applicator_name', 'total_apoint_left': 'total_apoint_left', 'total_apoint_right': 'total_apoint_right', 'Шулуун гэдэсний ICRU цэгний тун': 'icru_rectum', 'Давсагны ICRU цэгний тун': 'icru_bladder', 'HRCTV эзэлхүүн': 'hrctv_volume', 'Давсагны EQD2 тун': 'eqd2_bladder', 'Шулуун гэдэсний EQD2 тун': 'eqd2_rectum', 'eqd2_sigmoid': 'eqd2_sigmoid', 'eqd2_hrbrachy_dose': 'eqd2_hrbrachy_dose', 'EQD2 нийлбэр тун': 'eqd2_total_dose', 'chemo_dose': 'chemo_dose', 'Химийн эмчилгээний давтамжийн тоо': 'chemo_numcycles', 'ДТЭ-ний өмнөх хавдрын хэмжээ': 'before_brachy_tumor_size', 'ДТЭ-ний өмнөх хавдрын багасалтын категори': 'before_brachy_categor', 'Хосолсон ТЭ-ий дараахь үр дүн': 'post_treatment_response', 'post_treatment_response_date': 'post_treatment_response_date', 'early_response_status': 'early_response_status', 'last_response_date': 'last_response_date', 'Өвчний ': 'last_response_status', 'Last_follup_timing': 'Last_follup_timing', 'Шулуун гэдэсний гаж нөлөөний зэрэг': 'rect_sig_grade', 'Last_rect_eval_date': 'Last_rect_eval_date', 'id': 'id', 'Насны ангилал': 'age_group'}\n"
     ]
    }
   ],
   "source": [
    "# Change the column names\n",
    "df.columns = dict(zip(mongolian_col_names,english_col_names,))\n",
    "print(dict(zip(mongolian_col_names,english_col_names,)))"
   ],
   "metadata": {
    "collapsed": false,
    "pycharm": {
     "name": "#%%\n"
    }
   }
  },
  {
   "cell_type": "code",
   "execution_count": 16,
   "outputs": [
    {
     "name": "stdout",
     "output_type": "stream",
     "text": [
      "<class 'pandas.core.frame.DataFrame'>\n",
      "Int64Index: 120 entries, 101 to 180\n",
      "Data columns (total 55 columns):\n",
      " #   Column                                     Non-Null Count  Dtype         \n",
      "---  ------                                     --------------  -----         \n",
      " 0   Нас                                        120 non-null    int64         \n",
      " 1   Биеийн ерөнхий байдал                      120 non-null    int64         \n",
      " 2   Хавсарсан өвчин                            120 non-null    object        \n",
      " 3   Үе шат (T)                                 120 non-null    object        \n",
      " 4   N                                          120 non-null    int64         \n",
      " 5   M                                          120 non-null    int64         \n",
      " 6   FIGO үе шат                                120 non-null    object        \n",
      " 7   Эмгэг судлалын дүгнэлт                     120 non-null    object        \n",
      " 8   Оношлогдох үеийн хавдрын хэмжээ            120 non-null    object        \n",
      " 9   Ургалтын хэлбэр                            120 non-null    int64         \n",
      " 10  Үтрээний нэвчилт                           120 non-null    object        \n",
      " 11  PaR                                        120 non-null    object        \n",
      " 12  PaL                                        120 non-null    object        \n",
      " 13  Умайн их биеийн нэвчилт                    120 non-null    object        \n",
      " 14  Хэвлийн КТ                                 120 non-null    object        \n",
      " 15  Аарцгийн КТ                                120 non-null    object        \n",
      " 16  Оношилгооны СРТ                            120 non-null    object        \n",
      " 17  ДТЭ-ний өмнөх СРТ                          120 non-null    object        \n",
      " 18  pelvic_node_mts                            120 non-null    object        \n",
      " 19  Paraaort_node_mts                          120 non-null    object        \n",
      " 20  treatment_total_days                       120 non-null    int64         \n",
      " 21  pelvic_total_dose                          120 non-null    int64         \n",
      " 22  Pelv_fr                                    120 non-null    int64         \n",
      " 23  Dose_per_fr                                120 non-null    int64         \n",
      " 24  midline_block_dose                         120 non-null    int64         \n",
      " 25  midline_block_frac                         120 non-null    int64         \n",
      " 26  paramet_boost_dose                         120 non-null    int64         \n",
      " 27  paramet_boost_fr                           120 non-null    int64         \n",
      " 28  card_no                                    120 non-null    object        \n",
      " 29  last_brachy_date                           120 non-null    datetime64[ns]\n",
      " 30  applicator_name                            120 non-null    object        \n",
      " 31  total_apoint_left                          119 non-null    float64       \n",
      " 32  total_apoint_right                         119 non-null    float64       \n",
      " 33  Шулуун гэдэсний ICRU цэгний тун            115 non-null    float64       \n",
      " 34  Давсагны ICRU цэгний тун                   119 non-null    float64       \n",
      " 35  HRCTV эзэлхүүн                             120 non-null    float64       \n",
      " 36  Давсагны EQD2 тун                          120 non-null    float64       \n",
      " 37  Шулуун гэдэсний EQD2 тун                   120 non-null    float64       \n",
      " 38  eqd2_sigmoid                               119 non-null    float64       \n",
      " 39  eqd2_hrbrachy_dose                         119 non-null    float64       \n",
      " 40  EQD2 нийлбэр тун                           119 non-null    float64       \n",
      " 41  chemo_dose                                 120 non-null    object        \n",
      " 42  Химийн эмчилгээний давтамжийн тоо          120 non-null    object        \n",
      " 43  ДТЭ-ний өмнөх хавдрын хэмжээ               120 non-null    object        \n",
      " 44  ДТЭ-ний өмнөх хавдрын багасалтын категори  120 non-null    int64         \n",
      " 45  Хосолсон ТЭ-ий дараахь үр дүн              120 non-null    object        \n",
      " 46  post_treatment_response_date               120 non-null    object        \n",
      " 47  early_response_status                      58 non-null     object        \n",
      " 48  last_response_date                         111 non-null    object        \n",
      " 49  Өвчний                                     120 non-null    object        \n",
      " 50  Last_follup_timing                         120 non-null    int64         \n",
      " 51  Шулуун гэдэсний гаж нөлөөний зэрэг         47 non-null     float64       \n",
      " 52  Last_rect_eval_date                        111 non-null    object        \n",
      " 53  id                                         120 non-null    int64         \n",
      " 54  Насны ангилал                              120 non-null    object        \n",
      "dtypes: datetime64[ns](1), float64(11), int64(16), object(27)\n",
      "memory usage: 52.5+ KB\n"
     ]
    }
   ],
   "source": [
    "df.info()"
   ],
   "metadata": {
    "collapsed": false,
    "pycharm": {
     "name": "#%%\n"
    }
   }
  },
  {
   "cell_type": "code",
   "execution_count": 17,
   "outputs": [
    {
     "data": {
      "text/plain": "     Нас  Биеийн ерөнхий байдал Хавсарсан өвчин Үе шат (T)  N  M FIGO үе шат  \\\nid                                                                             \n101   51                      1            Тийм         2B  1  0       IIIC1   \n102   50                      1            Үгүй         2B  1  0       IIIC1   \n103   41                      1            Үгүй         3B  1  0       IIIC1   \n104   51                      1            Үгүй         2B  1  0       IIIC1   \n105   59                      1            Тийм         3B  1  0       IIIC1   \n\n    Эмгэг судлалын дүгнэлт Оношлогдох үеийн хавдрын хэмжээ  Ургалтын хэлбэр  \\\nid                                                                            \n101              SCC (NOS)                            ≤4см                1   \n102              SCC (NOS)                            ≤4см                2   \n103              SCC (NOS)                            >4см                2   \n104              SCC (NOS)                            >4см                1   \n105              SCC (NOS)                            >4см                1   \n\n     ... Хосолсон ТЭ-ий дараахь үр дүн post_treatment_response_date  \\\nid   ...                                                              \n101  ...                            CR                   2020.02.04   \n102  ...                            CR                   2019.12.18   \n103  ...                         -0.75                   2020.02.03   \n104  ...                            CR                   2021.01.30   \n105  ...                          -0.9                   2020.03.17   \n\n    early_response_status last_response_date     Өвчний  Last_follup_timing  \\\nid                                                                            \n101                   NaN         2022.05.18          CR                 27   \n102                   NaN         2022.05.18          CR                 29   \n103                   NaN                NaN           D                  6   \n104         Үсэрхийлэлтэй         2022.05.25  DM/verchov                 28   \n105                   NaN         2022.05.30          CR                 26   \n\n    Шулуун гэдэсний гаж нөлөөний зэрэг Last_rect_eval_date   id Насны ангилал  \nid                                                                             \n101                                NaN            1/5/2022  101         51-60  \n102                                NaN            1/5/2022  102         41-50  \n103                                NaN                 NaN  103         41-50  \n104                                1.0            1/5/2022  104         51-60  \n105                                NaN            1/5/2022  105         51-60  \n\n[5 rows x 55 columns]",
      "text/html": "<div>\n<style scoped>\n    .dataframe tbody tr th:only-of-type {\n        vertical-align: middle;\n    }\n\n    .dataframe tbody tr th {\n        vertical-align: top;\n    }\n\n    .dataframe thead th {\n        text-align: right;\n    }\n</style>\n<table border=\"1\" class=\"dataframe\">\n  <thead>\n    <tr style=\"text-align: right;\">\n      <th></th>\n      <th>Нас</th>\n      <th>Биеийн ерөнхий байдал</th>\n      <th>Хавсарсан өвчин</th>\n      <th>Үе шат (T)</th>\n      <th>N</th>\n      <th>M</th>\n      <th>FIGO үе шат</th>\n      <th>Эмгэг судлалын дүгнэлт</th>\n      <th>Оношлогдох үеийн хавдрын хэмжээ</th>\n      <th>Ургалтын хэлбэр</th>\n      <th>...</th>\n      <th>Хосолсон ТЭ-ий дараахь үр дүн</th>\n      <th>post_treatment_response_date</th>\n      <th>early_response_status</th>\n      <th>last_response_date</th>\n      <th>Өвчний</th>\n      <th>Last_follup_timing</th>\n      <th>Шулуун гэдэсний гаж нөлөөний зэрэг</th>\n      <th>Last_rect_eval_date</th>\n      <th>id</th>\n      <th>Насны ангилал</th>\n    </tr>\n    <tr>\n      <th>id</th>\n      <th></th>\n      <th></th>\n      <th></th>\n      <th></th>\n      <th></th>\n      <th></th>\n      <th></th>\n      <th></th>\n      <th></th>\n      <th></th>\n      <th></th>\n      <th></th>\n      <th></th>\n      <th></th>\n      <th></th>\n      <th></th>\n      <th></th>\n      <th></th>\n      <th></th>\n      <th></th>\n      <th></th>\n    </tr>\n  </thead>\n  <tbody>\n    <tr>\n      <th>101</th>\n      <td>51</td>\n      <td>1</td>\n      <td>Тийм</td>\n      <td>2B</td>\n      <td>1</td>\n      <td>0</td>\n      <td>IIIC1</td>\n      <td>SCC (NOS)</td>\n      <td>≤4см</td>\n      <td>1</td>\n      <td>...</td>\n      <td>CR</td>\n      <td>2020.02.04</td>\n      <td>NaN</td>\n      <td>2022.05.18</td>\n      <td>CR</td>\n      <td>27</td>\n      <td>NaN</td>\n      <td>1/5/2022</td>\n      <td>101</td>\n      <td>51-60</td>\n    </tr>\n    <tr>\n      <th>102</th>\n      <td>50</td>\n      <td>1</td>\n      <td>Үгүй</td>\n      <td>2B</td>\n      <td>1</td>\n      <td>0</td>\n      <td>IIIC1</td>\n      <td>SCC (NOS)</td>\n      <td>≤4см</td>\n      <td>2</td>\n      <td>...</td>\n      <td>CR</td>\n      <td>2019.12.18</td>\n      <td>NaN</td>\n      <td>2022.05.18</td>\n      <td>CR</td>\n      <td>29</td>\n      <td>NaN</td>\n      <td>1/5/2022</td>\n      <td>102</td>\n      <td>41-50</td>\n    </tr>\n    <tr>\n      <th>103</th>\n      <td>41</td>\n      <td>1</td>\n      <td>Үгүй</td>\n      <td>3B</td>\n      <td>1</td>\n      <td>0</td>\n      <td>IIIC1</td>\n      <td>SCC (NOS)</td>\n      <td>&gt;4см</td>\n      <td>2</td>\n      <td>...</td>\n      <td>-0.75</td>\n      <td>2020.02.03</td>\n      <td>NaN</td>\n      <td>NaN</td>\n      <td>D</td>\n      <td>6</td>\n      <td>NaN</td>\n      <td>NaN</td>\n      <td>103</td>\n      <td>41-50</td>\n    </tr>\n    <tr>\n      <th>104</th>\n      <td>51</td>\n      <td>1</td>\n      <td>Үгүй</td>\n      <td>2B</td>\n      <td>1</td>\n      <td>0</td>\n      <td>IIIC1</td>\n      <td>SCC (NOS)</td>\n      <td>&gt;4см</td>\n      <td>1</td>\n      <td>...</td>\n      <td>CR</td>\n      <td>2021.01.30</td>\n      <td>Үсэрхийлэлтэй</td>\n      <td>2022.05.25</td>\n      <td>DM/verchov</td>\n      <td>28</td>\n      <td>1.0</td>\n      <td>1/5/2022</td>\n      <td>104</td>\n      <td>51-60</td>\n    </tr>\n    <tr>\n      <th>105</th>\n      <td>59</td>\n      <td>1</td>\n      <td>Тийм</td>\n      <td>3B</td>\n      <td>1</td>\n      <td>0</td>\n      <td>IIIC1</td>\n      <td>SCC (NOS)</td>\n      <td>&gt;4см</td>\n      <td>1</td>\n      <td>...</td>\n      <td>-0.9</td>\n      <td>2020.03.17</td>\n      <td>NaN</td>\n      <td>2022.05.30</td>\n      <td>CR</td>\n      <td>26</td>\n      <td>NaN</td>\n      <td>1/5/2022</td>\n      <td>105</td>\n      <td>51-60</td>\n    </tr>\n  </tbody>\n</table>\n<p>5 rows × 55 columns</p>\n</div>"
     },
     "execution_count": 17,
     "metadata": {},
     "output_type": "execute_result"
    }
   ],
   "source": [
    "df.head()"
   ],
   "metadata": {
    "collapsed": false,
    "pycharm": {
     "name": "#%%\n"
    }
   }
  },
  {
   "cell_type": "code",
   "execution_count": 18,
   "outputs": [
    {
     "name": "stdout",
     "output_type": "stream",
     "text": [
      "2022-09-29 17:44:00,311 - kedro.io.data_catalog - INFO - Saving data to `Research data Mongolian` (CSVDataSet)...\n"
     ]
    }
   ],
   "source": [
    "catalog.save('Research data Mongolian', df)"
   ],
   "metadata": {
    "collapsed": false,
    "pycharm": {
     "name": "#%%\n"
    }
   }
  }
 ],
 "metadata": {
  "kernelspec": {
   "name": "kedro_cancer_data_analytics",
   "language": "python",
   "display_name": "Kedro (cancer_data_analytics)"
  },
  "language_info": {
   "codemirror_mode": {
    "name": "ipython",
    "version": 2
   },
   "file_extension": ".py",
   "mimetype": "text/x-python",
   "name": "python",
   "nbconvert_exporter": "python",
   "pygments_lexer": "ipython2",
   "version": "2.7.6"
  }
 },
 "nbformat": 4,
 "nbformat_minor": 4
}