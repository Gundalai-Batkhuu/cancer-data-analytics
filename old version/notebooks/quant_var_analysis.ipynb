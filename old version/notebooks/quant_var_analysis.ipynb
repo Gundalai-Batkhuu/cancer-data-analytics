{
 "cells": [
  {
   "cell_type": "code",
   "execution_count": 21,
   "metadata": {
    "pycharm": {
     "name": "#%%\n"
    }
   },
   "outputs": [],
   "source": [
    "import pandas as pd\n",
    "import matplotlib.pyplot as plt\n",
    "import seaborn as sns\n",
    "import numpy as np\n",
    "import statsmodels.api as sm\n",
    "%matplotlib inline\n",
    "pd.set_option('display.max_rows', None)\n",
    "import scipy.stats as stats\n",
    "from scipy.stats import shapiro\n",
    "import copy\n",
    "import statsmodels.stats.api as sms\n",
    "from scipy.stats import wilcoxon\n",
    "sns.set(style=\"darkgrid\")\n",
    "import test_mod as mod"
   ]
  },
  {
   "cell_type": "markdown",
   "metadata": {
    "pycharm": {
     "name": "#%% md\n"
    }
   },
   "source": [
    "### Importing data"
   ]
  },
  {
   "cell_type": "code",
   "execution_count": 22,
   "metadata": {
    "pycharm": {
     "name": "#%%\n"
    }
   },
   "outputs": [],
   "source": [
    "name = 'patient'\n",
    "var_name = 'age'"
   ]
  },
  {
   "cell_type": "code",
   "execution_count": 23,
   "metadata": {
    "pycharm": {
     "name": "#%%\n"
    }
   },
   "outputs": [
    {
     "data": {
      "text/html": [
       "<div>\n",
       "<style scoped>\n",
       "    .dataframe tbody tr th:only-of-type {\n",
       "        vertical-align: middle;\n",
       "    }\n",
       "\n",
       "    .dataframe tbody tr th {\n",
       "        vertical-align: top;\n",
       "    }\n",
       "\n",
       "    .dataframe thead th {\n",
       "        text-align: right;\n",
       "    }\n",
       "</style>\n",
       "<table border=\"1\" class=\"dataframe\">\n",
       "  <thead>\n",
       "    <tr style=\"text-align: right;\">\n",
       "      <th></th>\n",
       "      <th>id</th>\n",
       "      <th>card_no</th>\n",
       "      <th>name</th>\n",
       "      <th>age</th>\n",
       "      <th>reg_no</th>\n",
       "      <th>address</th>\n",
       "      <th>notes</th>\n",
       "    </tr>\n",
       "  </thead>\n",
       "  <tbody>\n",
       "    <tr>\n",
       "      <th>0</th>\n",
       "      <td>101</td>\n",
       "      <td>0681-19</td>\n",
       "      <td>Хад Цэнд</td>\n",
       "      <td>51.0</td>\n",
       "      <td>ЗП 68092304</td>\n",
       "      <td>Дундговь</td>\n",
       "      <td>NaN</td>\n",
       "    </tr>\n",
       "    <tr>\n",
       "      <th>1</th>\n",
       "      <td>102</td>\n",
       "      <td>0576-19</td>\n",
       "      <td>Цэрэнбалжир Сэдэд</td>\n",
       "      <td>50.0</td>\n",
       "      <td>НЭ 69072000</td>\n",
       "      <td>Төв аймаг</td>\n",
       "      <td>NaN</td>\n",
       "    </tr>\n",
       "    <tr>\n",
       "      <th>2</th>\n",
       "      <td>103</td>\n",
       "      <td>0646-19</td>\n",
       "      <td>Батцэцэг Буянтогтох</td>\n",
       "      <td>41.0</td>\n",
       "      <td>ДБ 78031401</td>\n",
       "      <td>СХД</td>\n",
       "      <td>NaN</td>\n",
       "    </tr>\n",
       "    <tr>\n",
       "      <th>3</th>\n",
       "      <td>104</td>\n",
       "      <td>0652-19</td>\n",
       "      <td>Баасанхүү Банди</td>\n",
       "      <td>51.0</td>\n",
       "      <td>ЧА 68031461</td>\n",
       "      <td>СХД</td>\n",
       "      <td>Химийн эмчилгээнд 2021.10.18нд эхэлсэн</td>\n",
       "    </tr>\n",
       "    <tr>\n",
       "      <th>4</th>\n",
       "      <td>105</td>\n",
       "      <td>0735-19</td>\n",
       "      <td>Нандин-Эрдэнэ Ичинхорлоо</td>\n",
       "      <td>59.0</td>\n",
       "      <td>ШБ 60052408</td>\n",
       "      <td>ХУД</td>\n",
       "      <td>NaN</td>\n",
       "    </tr>\n",
       "  </tbody>\n",
       "</table>\n",
       "</div>"
      ],
      "text/plain": [
       "    id  card_no                      name   age       reg_no    address  \\\n",
       "0  101  0681-19                  Хад Цэнд  51.0  ЗП 68092304   Дундговь   \n",
       "1  102  0576-19         Цэрэнбалжир Сэдэд  50.0  НЭ 69072000  Төв аймаг   \n",
       "2  103  0646-19       Батцэцэг Буянтогтох  41.0  ДБ 78031401        СХД   \n",
       "3  104  0652-19           Баасанхүү Банди  51.0  ЧА 68031461        СХД   \n",
       "4  105  0735-19  Нандин-Эрдэнэ Ичинхорлоо  59.0  ШБ 60052408        ХУД   \n",
       "\n",
       "                                    notes  \n",
       "0                                     NaN  \n",
       "1                                     NaN  \n",
       "2                                     NaN  \n",
       "3  Химийн эмчилгээнд 2021.10.18нд эхэлсэн  \n",
       "4                                     NaN  "
      ]
     },
     "execution_count": 23,
     "metadata": {},
     "output_type": "execute_result"
    }
   ],
   "source": [
    "df = pd.read_csv(r\"C:\\Users\\gdbt0\\OneDrive\\Documents\\GitHub\\Projects\\cancer\\data\\interim\\{}.csv\".format(name))\n",
    "df.head()"
   ]
  },
  {
   "cell_type": "code",
   "execution_count": 24,
   "metadata": {
    "pycharm": {
     "name": "#%%\n"
    }
   },
   "outputs": [
    {
     "data": {
      "text/html": [
       "<div>\n",
       "<style scoped>\n",
       "    .dataframe tbody tr th:only-of-type {\n",
       "        vertical-align: middle;\n",
       "    }\n",
       "\n",
       "    .dataframe tbody tr th {\n",
       "        vertical-align: top;\n",
       "    }\n",
       "\n",
       "    .dataframe thead th {\n",
       "        text-align: right;\n",
       "    }\n",
       "</style>\n",
       "<table border=\"1\" class=\"dataframe\">\n",
       "  <thead>\n",
       "    <tr style=\"text-align: right;\">\n",
       "      <th></th>\n",
       "      <th>id</th>\n",
       "      <th>age</th>\n",
       "    </tr>\n",
       "  </thead>\n",
       "  <tbody>\n",
       "    <tr>\n",
       "      <th>count</th>\n",
       "      <td>85.000000</td>\n",
       "      <td>85.000000</td>\n",
       "    </tr>\n",
       "    <tr>\n",
       "      <th>mean</th>\n",
       "      <td>143.000000</td>\n",
       "      <td>51.752941</td>\n",
       "    </tr>\n",
       "    <tr>\n",
       "      <th>std</th>\n",
       "      <td>24.681302</td>\n",
       "      <td>10.449317</td>\n",
       "    </tr>\n",
       "    <tr>\n",
       "      <th>min</th>\n",
       "      <td>101.000000</td>\n",
       "      <td>27.000000</td>\n",
       "    </tr>\n",
       "    <tr>\n",
       "      <th>25%</th>\n",
       "      <td>122.000000</td>\n",
       "      <td>45.000000</td>\n",
       "    </tr>\n",
       "    <tr>\n",
       "      <th>50%</th>\n",
       "      <td>143.000000</td>\n",
       "      <td>52.000000</td>\n",
       "    </tr>\n",
       "    <tr>\n",
       "      <th>75%</th>\n",
       "      <td>164.000000</td>\n",
       "      <td>59.000000</td>\n",
       "    </tr>\n",
       "    <tr>\n",
       "      <th>max</th>\n",
       "      <td>185.000000</td>\n",
       "      <td>78.000000</td>\n",
       "    </tr>\n",
       "  </tbody>\n",
       "</table>\n",
       "</div>"
      ],
      "text/plain": [
       "               id        age\n",
       "count   85.000000  85.000000\n",
       "mean   143.000000  51.752941\n",
       "std     24.681302  10.449317\n",
       "min    101.000000  27.000000\n",
       "25%    122.000000  45.000000\n",
       "50%    143.000000  52.000000\n",
       "75%    164.000000  59.000000\n",
       "max    185.000000  78.000000"
      ]
     },
     "execution_count": 24,
     "metadata": {},
     "output_type": "execute_result"
    }
   ],
   "source": [
    "quant_var = df[['id','{}'.format(var_name)]].copy()\n",
    "quant_var.dropna(inplace=True)\n",
    "quant_var.describe()"
   ]
  },
  {
   "cell_type": "code",
   "execution_count": 25,
   "metadata": {
    "pycharm": {
     "name": "#%%\n"
    }
   },
   "outputs": [
    {
     "data": {
      "image/png": "[encoded data removed]",
      "text/plain": [
       "<Figure size 720x504 with 1 Axes>"
      ]
     },
     "metadata": {},
     "output_type": "display_data"
    }
   ],
   "source": [
    "# Plotting a histogram\n",
    "plt.figure(figsize=(10,7))\n",
    "sns.histplot(quant_var['{}'.format(var_name)],kde=True,bins=10)\n",
    "plt.title(\"Frequency distribution of {}\".format(var_name))\n",
    "plt.ylabel('Number of Occurrences', fontsize=12)\n",
    "plt.xlabel('{}'.format(var_name),fontsize=12)\n",
    "plt.show()"
   ]
  },
  {
   "cell_type": "code",
   "execution_count": 26,
   "metadata": {
    "pycharm": {
     "name": "#%%\n"
    }
   },
   "outputs": [],
   "source": [
    "#Assigning groups by age limit\n",
    "age_groups = {'20':quant_var.loc[quant_var['{}'.format(var_name)]<30],\n",
    "          '30':quant_var.loc[(quant_var['{}'.format(var_name)]<40) & (quant_var['{}'.format(var_name)] >=30)],\n",
    "          '40':quant_var.loc[(quant_var['{}'.format(var_name)]<50) & (quant_var['{}'.format(var_name)] >=40)],\n",
    "          '50':quant_var.loc[(quant_var['{}'.format(var_name)]<60) & (quant_var['{}'.format(var_name)] >=50)],\n",
    "          '60':quant_var.loc[(quant_var['{}'.format(var_name)]<70) & (quant_var['{}'.format(var_name)] >=60)],\n",
    "          '70':quant_var.loc[(quant_var['{}'.format(var_name)]<80) & (quant_var['{}'.format(var_name)] >=70)],\n",
    "          '80':quant_var.loc[(quant_var['{}'.format(var_name)]<90) & (quant_var['{}'.format(var_name)] >=80)]\n",
    "          }"
   ]
  },
  {
   "cell_type": "code",
   "execution_count": 27,
   "metadata": {
    "pycharm": {
     "name": "#%%\n"
    }
   },
   "outputs": [
    {
     "name": "stdout",
     "output_type": "stream",
     "text": [
      "     id   age\n",
      "5   106  68.0\n",
      "12  113  63.0\n",
      "23  124  66.0\n",
      "24  125  63.0\n",
      "28  129  63.0\n",
      "40  141  68.0\n",
      "41  142  61.0\n",
      "43  144  60.0\n",
      "53  154  61.0\n",
      "54  155  67.0\n",
      "61  162  64.0\n",
      "64  165  65.0\n",
      "66  167  68.0\n",
      "68  169  61.0\n",
      "77  178  62.0\n"
     ]
    }
   ],
   "source": [
    "print(age_groups.get('60'))\n",
    "\n"
   ]
  },
  {
   "cell_type": "code",
   "execution_count": 28,
   "metadata": {
    "pycharm": {
     "name": "#%%\n"
    }
   },
   "outputs": [
    {
     "data": {
      "text/html": [
       "<div>\n",
       "<style scoped>\n",
       "    .dataframe tbody tr th:only-of-type {\n",
       "        vertical-align: middle;\n",
       "    }\n",
       "\n",
       "    .dataframe tbody tr th {\n",
       "        vertical-align: top;\n",
       "    }\n",
       "\n",
       "    .dataframe thead th {\n",
       "        text-align: right;\n",
       "    }\n",
       "</style>\n",
       "<table border=\"1\" class=\"dataframe\">\n",
       "  <thead>\n",
       "    <tr style=\"text-align: right;\">\n",
       "      <th></th>\n",
       "      <th>age group</th>\n",
       "      <th>Count</th>\n",
       "    </tr>\n",
       "  </thead>\n",
       "  <tbody>\n",
       "    <tr>\n",
       "      <th>0</th>\n",
       "      <td>20</td>\n",
       "      <td>1</td>\n",
       "    </tr>\n",
       "    <tr>\n",
       "      <th>1</th>\n",
       "      <td>30</td>\n",
       "      <td>9</td>\n",
       "    </tr>\n",
       "    <tr>\n",
       "      <th>2</th>\n",
       "      <td>40</td>\n",
       "      <td>22</td>\n",
       "    </tr>\n",
       "    <tr>\n",
       "      <th>3</th>\n",
       "      <td>50</td>\n",
       "      <td>35</td>\n",
       "    </tr>\n",
       "    <tr>\n",
       "      <th>4</th>\n",
       "      <td>60</td>\n",
       "      <td>15</td>\n",
       "    </tr>\n",
       "  </tbody>\n",
       "</table>\n",
       "</div>"
      ],
      "text/plain": [
       "  age group  Count\n",
       "0        20      1\n",
       "1        30      9\n",
       "2        40     22\n",
       "3        50     35\n",
       "4        60     15"
      ]
     },
     "execution_count": 28,
     "metadata": {},
     "output_type": "execute_result"
    }
   ],
   "source": [
    "#Creating a dataframe with counts of patients in each age group\n",
    "value_counts_list = []\n",
    "for key, value in age_groups.items():\n",
    "    value_counts_list.append((key,value['age'].count()))\n",
    "value_counts_dict = {}\n",
    "value_counts_dict.update(value_counts_list)\n",
    "value_counts = pd.DataFrame(list(value_counts_dict.items()), columns=['{} group'.format(var_name),'Count'])\n",
    "value_counts.head()"
   ]
  },
  {
   "cell_type": "code",
   "execution_count": 29,
   "metadata": {
    "pycharm": {
     "name": "#%%\n"
    }
   },
   "outputs": [
    {
     "data": {
      "image/png": "[encoded data removed]",
      "text/plain": [
       "<Figure size 432x288 with 1 Axes>"
      ]
     },
     "metadata": {},
     "output_type": "display_data"
    }
   ],
   "source": [
    "#Making a barplot\n",
    "plot = sns.barplot(data=value_counts, x='{} group'.format(var_name), y = 'Count', ci=None)\n",
    "mod.show_values(plot)\n",
    "plt.title(\"Frequency distribution of {}s\".format(var_name))\n",
    "plt.ylabel('Number of Occurences', fontsize=12)\n",
    "plt.xlabel('{} group'.format(var_name),fontsize=12)\n",
    "plt.show()\n"
   ]
  },
  {
   "cell_type": "code",
   "execution_count": null,
   "metadata": {
    "pycharm": {
     "name": "#%%\n"
    }
   },
   "outputs": [],
   "source": []
  }
 ],
 "metadata": {
  "kernelspec": {
   "display_name": "PyCharm (cancer)",
   "language": "python",
   "name": "pycharm-85d82135"
  },
  "language_info": {
   "codemirror_mode": {
    "name": "ipython",
    "version": 2
   },
   "file_extension": ".py",
   "mimetype": "text/x-python",
   "name": "python",
   "nbconvert_exporter": "python",
   "pygments_lexer": "ipython2",
   "version": "2.7.6"
  }
 },
 "nbformat": 4,
 "nbformat_minor": 1
}