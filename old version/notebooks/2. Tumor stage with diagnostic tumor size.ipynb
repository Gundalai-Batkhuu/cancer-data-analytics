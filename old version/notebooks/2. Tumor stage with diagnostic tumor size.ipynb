{
 "cells": [
  {
   "cell_type": "code",
   "execution_count": 1,
   "metadata": {},
   "outputs": [],
   "source": [
    "import pandas as pd\n",
    "import matplotlib.pyplot as plt\n",
    "import seaborn as sns\n",
    "import numpy as np\n",
    "import statsmodels.api as sm\n",
    "%matplotlib inline\n",
    "pd.set_option('display.max_rows', None)\n",
    "import scipy.stats as stats\n",
    "from scipy.stats import shapiro\n",
    "import copy\n",
    "import statsmodels.stats.api as sms\n",
    "from scipy.stats import wilcoxon\n",
    "sns.set(style=\"darkgrid\")\n",
    "import test_mod as mod\n",
    "from scipy.stats import chi2_contingency"
   ]
  },
  {
   "cell_type": "markdown",
   "metadata": {
    "pycharm": {
     "name": "#%% md\n"
    }
   },
   "source": [
    "# Descriptive analysis of attributes\n",
    "## Importing data"
   ]
  },
  {
   "cell_type": "code",
   "execution_count": 2,
   "metadata": {
    "pycharm": {
     "name": "#%%\n"
    }
   },
   "outputs": [
    {
     "data": {
      "text/html": [
       "<div>\n",
       "<style scoped>\n",
       "    .dataframe tbody tr th:only-of-type {\n",
       "        vertical-align: middle;\n",
       "    }\n",
       "\n",
       "    .dataframe tbody tr th {\n",
       "        vertical-align: top;\n",
       "    }\n",
       "\n",
       "    .dataframe thead th {\n",
       "        text-align: right;\n",
       "    }\n",
       "</style>\n",
       "<table border=\"1\" class=\"dataframe\">\n",
       "  <thead>\n",
       "    <tr style=\"text-align: right;\">\n",
       "      <th></th>\n",
       "      <th>id</th>\n",
       "      <th>tumour_stage</th>\n",
       "      <th>diagnos_tumor_size</th>\n",
       "      <th>after EBRT_tumor_size</th>\n",
       "      <th>before_brachy_categor</th>\n",
       "      <th>post_treatment_response</th>\n",
       "    </tr>\n",
       "  </thead>\n",
       "  <tbody>\n",
       "    <tr>\n",
       "      <th>0</th>\n",
       "      <td>101</td>\n",
       "      <td>2B</td>\n",
       "      <td>≤4см</td>\n",
       "      <td>Арилсан</td>\n",
       "      <td>1</td>\n",
       "      <td>0</td>\n",
       "    </tr>\n",
       "    <tr>\n",
       "      <th>1</th>\n",
       "      <td>102</td>\n",
       "      <td>2B</td>\n",
       "      <td>≤4см</td>\n",
       "      <td>≤2см</td>\n",
       "      <td>1</td>\n",
       "      <td>0</td>\n",
       "    </tr>\n",
       "    <tr>\n",
       "      <th>2</th>\n",
       "      <td>103</td>\n",
       "      <td>3B</td>\n",
       "      <td>&gt;4см</td>\n",
       "      <td>&gt;2см</td>\n",
       "      <td>2</td>\n",
       "      <td>2</td>\n",
       "    </tr>\n",
       "    <tr>\n",
       "      <th>3</th>\n",
       "      <td>104</td>\n",
       "      <td>2B</td>\n",
       "      <td>&gt;4см</td>\n",
       "      <td>&gt;2см</td>\n",
       "      <td>2</td>\n",
       "      <td>0</td>\n",
       "    </tr>\n",
       "    <tr>\n",
       "      <th>4</th>\n",
       "      <td>105</td>\n",
       "      <td>3B</td>\n",
       "      <td>&gt;4см</td>\n",
       "      <td>≤2см</td>\n",
       "      <td>2</td>\n",
       "      <td>1</td>\n",
       "    </tr>\n",
       "  </tbody>\n",
       "</table>\n",
       "</div>"
      ],
      "text/plain": [
       "    id tumour_stage diagnos_tumor_size after EBRT_tumor_size  \\\n",
       "0  101           2B               ≤4см               Арилсан   \n",
       "1  102           2B               ≤4см                  ≤2см   \n",
       "2  103           3B               >4см                  >2см   \n",
       "3  104           2B               >4см                  >2см   \n",
       "4  105           3B               >4см                  ≤2см   \n",
       "\n",
       "   before_brachy_categor  post_treatment_response  \n",
       "0                      1                        0  \n",
       "1                      1                        0  \n",
       "2                      2                        2  \n",
       "3                      2                        0  \n",
       "4                      2                        1  "
      ]
     },
     "execution_count": 2,
     "metadata": {},
     "output_type": "execute_result"
    }
   ],
   "source": [
    "df = pd.read_csv(r\"C:\\Users\\gdbt0\\OneDrive\\GitHub\\Projects\\cancer research\\data\\processed\\research_variables.csv\")\n",
    "df.head()"
   ]
  },
  {
   "cell_type": "code",
   "execution_count": 3,
   "metadata": {
    "pycharm": {
     "name": "#%%\n"
    }
   },
   "outputs": [
    {
     "name": "stdout",
     "output_type": "stream",
     "text": [
      "<class 'pandas.core.frame.DataFrame'>\n",
      "RangeIndex: 120 entries, 0 to 119\n",
      "Data columns (total 6 columns):\n",
      " #   Column                   Non-Null Count  Dtype \n",
      "---  ------                   --------------  ----- \n",
      " 0   id                       120 non-null    int64 \n",
      " 1   tumour_stage             120 non-null    object\n",
      " 2   diagnos_tumor_size       120 non-null    object\n",
      " 3   after EBRT_tumor_size    120 non-null    object\n",
      " 4   before_brachy_categor    120 non-null    int64 \n",
      " 5   post_treatment_response  120 non-null    int64 \n",
      "dtypes: int64(3), object(3)\n",
      "memory usage: 5.8+ KB\n"
     ]
    }
   ],
   "source": [
    "df.info()"
   ]
  },
  {
   "cell_type": "markdown",
   "metadata": {},
   "source": [
    "## diagnos_tumor_size and tumour_stage"
   ]
  },
  {
   "cell_type": "code",
   "execution_count": 4,
   "metadata": {
    "pycharm": {
     "name": "#%%\n"
    }
   },
   "outputs": [],
   "source": [
    "#Transforming data\n",
    "primary_var_name = 'diagnos_tumor_size'\n",
    "secondary_var_name = 'tumour_stage'\n",
    "\n",
    "primary_vs_secondary = df[[primary_var_name,secondary_var_name]].copy()\n",
    "primary_vs_secondary.dropna(inplace=True)\n",
    "primary_vs_secondary[primary_var_name] = primary_vs_secondary[primary_var_name].astype('category')"
   ]
  },
  {
   "cell_type": "markdown",
   "metadata": {},
   "source": [
    "###  Diagnostic tumor size"
   ]
  },
  {
   "cell_type": "code",
   "execution_count": 5,
   "metadata": {
    "pycharm": {
     "name": "#%%\n"
    }
   },
   "outputs": [],
   "source": [
    "# Declaration of the variable \n",
    "primary_var = df[primary_var_name].copy()\n",
    "primary_var.dropna(inplace=True)\n",
    "primary_var_value_counts = primary_var.value_counts()"
   ]
  },
  {
   "cell_type": "code",
   "execution_count": 6,
   "metadata": {
    "pycharm": {
     "name": "#%%\n"
    }
   },
   "outputs": [
    {
     "name": "stdout",
     "output_type": "stream",
     "text": [
      "The frequency distribution of categories  in diagnos_tumor_size.\n",
      "In total, there are 2 categories.\n"
     ]
    },
    {
     "data": {
      "text/plain": [
       ">4см    63\n",
       "≤4см    57\n",
       "Name: diagnos_tumor_size, dtype: int64"
      ]
     },
     "execution_count": 6,
     "metadata": {},
     "output_type": "execute_result"
    }
   ],
   "source": [
    "## Finding the frequency distribution of categories in the variable\n",
    "print(\"The frequency distribution of categories  in {}.\".format(primary_var_name))\n",
    "print(\"In total, there are {} categories.\".format(primary_var.value_counts().count()))\n",
    "primary_var.value_counts()"
   ]
  },
  {
   "cell_type": "code",
   "execution_count": 7,
   "metadata": {
    "pycharm": {
     "name": "#%%\n"
    }
   },
   "outputs": [
    {
     "name": "stderr",
     "output_type": "stream",
     "text": [
      "C:\\Users\\gdbt0\\anaconda3\\lib\\site-packages\\seaborn\\_decorators.py:36: FutureWarning: Pass the following variable as a keyword arg: x. From version 0.12, the only valid positional argument will be `data`, and passing other arguments without an explicit keyword will result in an error or misinterpretation.\n",
      "  warnings.warn(\n"
     ]
    },
    {
     "data": {
      "image/png": "[encoded data removed]",
      "text/plain": [
       "<Figure size 432x288 with 1 Axes>"
      ]
     },
     "metadata": {},
     "output_type": "display_data"
    }
   ],
   "source": [
    "# Barplot\n",
    "plot = sns.countplot(primary_var)\n",
    "mod.show_values(plot)\n",
    "plt.title(\"Frequency distribution of {}\".format(primary_var_name))\n",
    "plt.ylabel('Number of Occurences', fontsize=12)\n",
    "plt.xlabel('{}'.format(primary_var_name),fontsize=12)\n",
    "plt.show()"
   ]
  },
  {
   "cell_type": "code",
   "execution_count": 8,
   "metadata": {
    "pycharm": {
     "name": "#%%\n"
    }
   },
   "outputs": [
    {
     "data": {
      "image/png": "[encoded data removed]",
      "text/plain": [
       "<Figure size 432x288 with 1 Axes>"
      ]
     },
     "metadata": {},
     "output_type": "display_data"
    }
   ],
   "source": [
    "#Making a pie chart\n",
    "plt.title(\"Percentage distribution of {}\".format(primary_var_name))\n",
    "plt.pie(primary_var_value_counts, labels=primary_var_value_counts.index, autopct='%.0f%%')\n",
    "plt.show()"
   ]
  },
  {
   "cell_type": "markdown",
   "metadata": {
    "pycharm": {
     "name": "#%%\n"
    }
   },
   "source": [
    "### Tumor stage"
   ]
  },
  {
   "cell_type": "code",
   "execution_count": 9,
   "metadata": {
    "pycharm": {
     "name": "#%%\n"
    }
   },
   "outputs": [],
   "source": [
    "# Declaration of the variable \n",
    "secondary_var = df[secondary_var_name].copy()\n",
    "secondary_var.dropna(axis=0,inplace=True)\n",
    "secondary_var_value_counts = secondary_var.value_counts()"
   ]
  },
  {
   "cell_type": "code",
   "execution_count": 10,
   "metadata": {},
   "outputs": [
    {
     "name": "stdout",
     "output_type": "stream",
     "text": [
      "The frequency distribution of categories  in tumour_stage.\n",
      "In total, there are 4 categories.\n"
     ]
    },
    {
     "data": {
      "text/plain": [
       "2B    69\n",
       "3B    46\n",
       "4A     3\n",
       "2A     2\n",
       "Name: tumour_stage, dtype: int64"
      ]
     },
     "execution_count": 10,
     "metadata": {},
     "output_type": "execute_result"
    }
   ],
   "source": [
    "## Finding the frequency distribution of categories in the variable\n",
    "print(\"The frequency distribution of categories  in {}.\".format(secondary_var_name))\n",
    "print(\"In total, there are {} categories.\".format(secondary_var.value_counts().count()))\n",
    "secondary_var.value_counts()"
   ]
  },
  {
   "cell_type": "code",
   "execution_count": 11,
   "metadata": {},
   "outputs": [
    {
     "name": "stderr",
     "output_type": "stream",
     "text": [
      "C:\\Users\\gdbt0\\anaconda3\\lib\\site-packages\\seaborn\\_decorators.py:36: FutureWarning: Pass the following variable as a keyword arg: x. From version 0.12, the only valid positional argument will be `data`, and passing other arguments without an explicit keyword will result in an error or misinterpretation.\n",
      "  warnings.warn(\n"
     ]
    },
    {
     "data": {
      "image/png": "[encoded data removed]",
      "text/plain": [
       "<Figure size 432x288 with 1 Axes>"
      ]
     },
     "metadata": {},
     "output_type": "display_data"
    }
   ],
   "source": [
    "# Barplot\n",
    "plot = sns.countplot(secondary_var)\n",
    "mod.show_values(plot)\n",
    "plt.title(\"Frequency distribution of {}\".format(secondary_var_name))\n",
    "plt.ylabel('Number of Occurences', fontsize=12)\n",
    "plt.xlabel('{}'.format(secondary_var_name),fontsize=12)\n",
    "plt.show()"
   ]
  },
  {
   "cell_type": "code",
   "execution_count": 12,
   "metadata": {},
   "outputs": [
    {
     "data": {
      "image/png": "[encoded data removed]",
      "text/plain": [
       "<Figure size 432x288 with 1 Axes>"
      ]
     },
     "metadata": {},
     "output_type": "display_data"
    }
   ],
   "source": [
    "#Pie chart\n",
    "plt.title(\"Percentage distribution of {}\".format(secondary_var_name))\n",
    "plt.pie(secondary_var_value_counts, labels=secondary_var_value_counts.index, autopct='%.0f%%')\n",
    "plt.show()"
   ]
  },
  {
   "cell_type": "markdown",
   "metadata": {},
   "source": [
    "### Analysis of groups\n",
    "Creates groups by tumour_stage"
   ]
  },
  {
   "cell_type": "code",
   "execution_count": 13,
   "metadata": {},
   "outputs": [],
   "source": [
    "firstGroup = primary_vs_secondary[primary_vs_secondary[secondary_var_name] == \"2B\"][primary_var_name]\n",
    "secondGroup = primary_vs_secondary[primary_vs_secondary[secondary_var_name] == \"3B\"][primary_var_name]"
   ]
  },
  {
   "cell_type": "markdown",
   "metadata": {},
   "source": [
    "### 2B\n",
    "The group where the values of tumour stage is 2B."
   ]
  },
  {
   "cell_type": "code",
   "execution_count": 14,
   "metadata": {},
   "outputs": [
    {
     "name": "stdout",
     "output_type": "stream",
     "text": [
      "The frequency distribution of categories in the group 2B.\n",
      "In total, there are 2 categories.\n"
     ]
    },
    {
     "data": {
      "text/plain": [
       "≤4см    49\n",
       ">4см    20\n",
       "Name: diagnos_tumor_size, dtype: int64"
      ]
     },
     "execution_count": 14,
     "metadata": {},
     "output_type": "execute_result"
    }
   ],
   "source": [
    "## Finding the frequency distribution of categories in the variable\n",
    "print(\"The frequency distribution of categories in the group 2B.\")\n",
    "print(\"In total, there are {} categories.\".format(firstGroup.value_counts().count()))\n",
    "firstGroup.value_counts()"
   ]
  },
  {
   "cell_type": "code",
   "execution_count": 15,
   "metadata": {},
   "outputs": [
    {
     "name": "stderr",
     "output_type": "stream",
     "text": [
      "C:\\Users\\gdbt0\\anaconda3\\lib\\site-packages\\seaborn\\_decorators.py:36: FutureWarning: Pass the following variable as a keyword arg: x. From version 0.12, the only valid positional argument will be `data`, and passing other arguments without an explicit keyword will result in an error or misinterpretation.\n",
      "  warnings.warn(\n"
     ]
    },
    {
     "data": {
      "image/png": "[encoded data removed]",
      "text/plain": [
       "<Figure size 432x288 with 1 Axes>"
      ]
     },
     "metadata": {},
     "output_type": "display_data"
    }
   ],
   "source": [
    "# Barplot\n",
    "plot = sns.countplot(firstGroup)\n",
    "mod.show_values(plot)\n",
    "plt.title(\"The frequency distribution of categories in the group 2B.\")\n",
    "plt.ylabel('Number of Occurences', fontsize=12)\n",
    "plt.xlabel('{}'.format(primary_var_name),fontsize=12)\n",
    "plt.show()"
   ]
  },
  {
   "cell_type": "code",
   "execution_count": 16,
   "metadata": {},
   "outputs": [
    {
     "data": {
      "image/png": "[encoded data removed]",
      "text/plain": [
       "<Figure size 432x288 with 1 Axes>"
      ]
     },
     "metadata": {},
     "output_type": "display_data"
    }
   ],
   "source": [
    "#Pie chart\n",
    "plt.title(\"Percentage distribution of categories in the group 2B\")\n",
    "plt.pie(firstGroup.value_counts(), labels=firstGroup.value_counts().index, autopct='%.0f%%')\n",
    "plt.show()"
   ]
  },
  {
   "cell_type": "markdown",
   "metadata": {},
   "source": [
    "### 3B\n",
    "The group where the values of tumour stage is 3B."
   ]
  },
  {
   "cell_type": "code",
   "execution_count": 17,
   "metadata": {},
   "outputs": [
    {
     "name": "stdout",
     "output_type": "stream",
     "text": [
      "The frequency distribution of categories in the group 3B.\n",
      "In total, there are 2 categories.\n"
     ]
    },
    {
     "data": {
      "text/plain": [
       ">4см    40\n",
       "≤4см     6\n",
       "Name: diagnos_tumor_size, dtype: int64"
      ]
     },
     "execution_count": 17,
     "metadata": {},
     "output_type": "execute_result"
    }
   ],
   "source": [
    "## Finding the frequency distribution of categories in the variable\n",
    "print(\"The frequency distribution of categories in the group 3B.\")\n",
    "print(\"In total, there are {} categories.\".format(secondGroup.value_counts().count()))\n",
    "secondGroup.value_counts()"
   ]
  },
  {
   "cell_type": "code",
   "execution_count": 18,
   "metadata": {},
   "outputs": [
    {
     "data": {
      "image/png": "[encoded data removed]",
      "text/plain": [
       "<Figure size 432x288 with 1 Axes>"
      ]
     },
     "metadata": {},
     "output_type": "display_data"
    }
   ],
   "source": [
    "# Barplot\n",
    "plot = sns.countplot(secondGroup)\n",
    "mod.show_values(plot)\n",
    "plt.title(\"The frequency distribution of categories in the group 3B.\")\n",
    "plt.ylabel('Number of Occurences', fontsize=12)\n",
    "plt.xlabel('{}'.format(primary_var_name),fontsize=12)\n",
    "plt.show()"
   ]
  },
  {
   "cell_type": "code",
   "execution_count": 19,
   "metadata": {},
   "outputs": [
    {
     "data": {
      "image/png": "[encoded data removed]",
      "text/plain": [
       "<Figure size 432x288 with 1 Axes>"
      ]
     },
     "metadata": {},
     "output_type": "display_data"
    }
   ],
   "source": [
    "#Pie chart\n",
    "plt.title(\"The percentage distribution of categories in the group 3B.\")\n",
    "plt.pie(secondGroup.value_counts(), labels=secondGroup.value_counts().index, autopct='%.0f%%')\n",
    "plt.show()"
   ]
  },
  {
   "cell_type": "markdown",
   "metadata": {},
   "source": [
    "### Chi square test for Independence\n",
    "\n",
    "Test that the categorical values of the two groups are different to each other. \n",
    "\n",
    "Reference\n",
    "\n",
    "[1] Chi-Bar-Squared. Retrieved March 9, 2022 from:\n",
    "\n",
    "[2] Johns Hopkins.\n",
    "\n",
    "[3] Kenney, J. F. and Keeping, E. S. Mathematics of Statistics, Pt. 2, 2nd ed. Princeton, NJ: Van Nostrand, 1951.\n",
    "\n",
    "[4] https://www.statisticshowto.com/probability-and-statistics/chi-square/\n",
    "\n",
    "[5] https://www.askpython.com/python/examples/chi-square-test"
   ]
  },
  {
   "cell_type": "markdown",
   "metadata": {},
   "source": [
    "### Uses the pandas crosstab() function to create a contingency table of the two selected variables"
   ]
  },
  {
   "cell_type": "code",
   "execution_count": 20,
   "metadata": {},
   "outputs": [
    {
     "name": "stdout",
     "output_type": "stream",
     "text": [
      "tumour_stage        2A  2B  3B  4A  All\n",
      "diagnos_tumor_size                     \n",
      ">4см                 0  20  40   3   63\n",
      "≤4см                 2  49   6   0   57\n",
      "All                  2  69  46   3  120\n"
     ]
    }
   ],
   "source": [
    "chisqt = pd.crosstab(primary_var, secondary_var, margins=True)\n",
    "print(chisqt)"
   ]
  },
  {
   "cell_type": "code",
   "execution_count": 21,
   "metadata": {},
   "outputs": [
    {
     "name": "stdout",
     "output_type": "stream",
     "text": [
      "[[ 0 20 40  3 63]\n",
      " [ 2 49  6  0 57]]\n"
     ]
    }
   ],
   "source": [
    "value = np.array([chisqt.iloc[0][0:6].values, chisqt.iloc[1][0:6].values])\n",
    "print(value)"
   ]
  },
  {
   "cell_type": "code",
   "execution_count": 22,
   "metadata": {},
   "outputs": [],
   "source": [
    "chi_stat = chi2_contingency(value)[0]\n",
    "p_value = chi2_contingency(value)[1]\n",
    "degrees_of_freedom = chi2_contingency(value)[2]\n",
    "significance_level = 0.05"
   ]
  },
  {
   "cell_type": "markdown",
   "metadata": {},
   "source": [
    "#### The null hypothesis: \n",
    "The grouping variables have no association or correlation amongst them.\n",
    "#### The alternate hypothesis\n",
    "The variables are associated with each other and happen to have a correlation between the variables."
   ]
  },
  {
   "cell_type": "code",
   "execution_count": 23,
   "metadata": {},
   "outputs": [
    {
     "name": "stdout",
     "output_type": "stream",
     "text": [
      "The p-value of the test is: 1.5721834067215158e-08\n",
      "The test statistic is: 42.124150957102906\n",
      "The degrees of freedom is: 4\n"
     ]
    }
   ],
   "source": [
    "print(\"The p-value of the test is: {}\".format(p_value) + \"\\nThe test statistic is: {}\".format(chi_stat) + \"\\nThe degrees of freedom is: {}\".format(degrees_of_freedom) \n",
    "    )"
   ]
  },
  {
   "cell_type": "code",
   "execution_count": 24,
   "metadata": {},
   "outputs": [
    {
     "name": "stdout",
     "output_type": "stream",
     "text": [
      "Reject NULL HYPOTHESIS\n"
     ]
    }
   ],
   "source": [
    "if p_value <= significance_level: \n",
    "    print('Reject NULL HYPOTHESIS') \n",
    "else: \n",
    "    print('Accept NULL HYPOTHESIS')"
   ]
  }
 ],
 "metadata": {
  "kernelspec": {
   "display_name": "Python 3",
   "language": "python",
   "name": "python3"
  },
  "language_info": {
   "codemirror_mode": {
    "name": "ipython",
    "version": 3
   },
   "file_extension": ".py",
   "mimetype": "text/x-python",
   "name": "python",
   "nbconvert_exporter": "python",
   "pygments_lexer": "ipython3",
   "version": "3.8.8"
  }
 },
 "nbformat": 4,
 "nbformat_minor": 1
}
