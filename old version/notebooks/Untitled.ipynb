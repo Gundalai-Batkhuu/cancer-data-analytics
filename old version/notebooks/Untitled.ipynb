{
 "cells": [
  {
   "cell_type": "code",
   "execution_count": 2,
   "id": "d59ab548",
   "metadata": {},
   "outputs": [
    {
     "name": "stdout",
     "output_type": "stream",
     "text": [
      "Requirement already satisfied: mkl-service in c:\\users\\gdbt0\\anaconda3\\lib\\site-packages (2.3.0)\n",
      "Requirement already satisfied: six in c:\\users\\gdbt0\\anaconda3\\lib\\site-packages (from mkl-service) (1.15.0)\n",
      "Note: you may need to restart the kernel to use updated packages.\n"
     ]
    }
   ],
   "source": [
    "pip install mkl-service"
   ]
  },
  {
   "cell_type": "code",
   "execution_count": 6,
   "id": "095339f6",
   "metadata": {},
   "outputs": [
    {
     "name": "stdout",
     "output_type": "stream",
     "text": [
      "Collecting package metadata (current_repodata.json): ...working... done\n",
      "Solving environment: ...working... done\n",
      "\n",
      "# All requested packages already installed.\n",
      "\n",
      "\n",
      "Note: you may need to restart the kernel to use updated packages.\n"
     ]
    }
   ],
   "source": [
    "conda install -c intel mkl-service"
   ]
  },
  {
   "cell_type": "code",
   "execution_count": 5,
   "id": "139b0354",
   "metadata": {},
   "outputs": [
    {
     "name": "stdout",
     "output_type": "stream",
     "text": [
      "Collecting package metadata (current_repodata.json): ...working... done\n",
      "Solving environment: ...working... done\n",
      "\n",
      "## Package Plan ##\n",
      "\n",
      "  environment location: C:\\Users\\gdbt0\\anaconda3\n",
      "\n",
      "  added / updated specs:\n",
      "    - conda\n",
      "\n",
      "\n",
      "The following packages will be downloaded:\n",
      "\n",
      "    package                    |            build\n",
      "    ---------------------------|-----------------\n",
      "    conda-4.11.0               |   py38haa95532_0        14.4 MB\n",
      "    xmltodict-0.12.0           |     pyhd3eb1b0_0          13 KB\n",
      "    ------------------------------------------------------------\n",
      "                                           Total:        14.5 MB\n",
      "\n",
      "The following packages will be REMOVED:\n",
      "\n",
      "  intelpython-2021.4.0-0\n",
      "\n",
      "The following packages will be UPDATED:\n",
      "\n",
      "  conda                  intel::conda-4.10.3-py38h5af9ea9_0 --> pkgs/main::conda-4.11.0-py38haa95532_0\n",
      "\n",
      "The following packages will be DOWNGRADED:\n",
      "\n",
      "  xmltodict                                     0.12.0-py_0 --> 0.12.0-pyhd3eb1b0_0\n",
      "\n",
      "\n",
      "\n",
      "Downloading and Extracting Packages\n",
      "\n",
      "conda-4.11.0         | 14.4 MB   |            |   0% \n",
      "conda-4.11.0         | 14.4 MB   |            |   0% \n",
      "conda-4.11.0         | 14.4 MB   |            |   1% \n",
      "conda-4.11.0         | 14.4 MB   | 1          |   2% \n",
      "conda-4.11.0         | 14.4 MB   | 3          |   3% \n",
      "conda-4.11.0         | 14.4 MB   | 5          |   5% \n",
      "conda-4.11.0         | 14.4 MB   | 7          |   8% \n",
      "conda-4.11.0         | 14.4 MB   | 9          |   9% \n",
      "conda-4.11.0         | 14.4 MB   | #1         |  11% \n",
      "conda-4.11.0         | 14.4 MB   | #3         |  14% \n",
      "conda-4.11.0         | 14.4 MB   | #7         |  17% \n",
      "conda-4.11.0         | 14.4 MB   | #9         |  20% \n",
      "conda-4.11.0         | 14.4 MB   | ##4        |  24% \n",
      "conda-4.11.0         | 14.4 MB   | ##7        |  28% \n",
      "conda-4.11.0         | 14.4 MB   | ###1       |  32% \n",
      "conda-4.11.0         | 14.4 MB   | ###5       |  36% \n",
      "conda-4.11.0         | 14.4 MB   | ###9       |  40% \n",
      "conda-4.11.0         | 14.4 MB   | ####3      |  43% \n",
      "conda-4.11.0         | 14.4 MB   | ####7      |  47% \n",
      "conda-4.11.0         | 14.4 MB   | #####      |  51% \n",
      "conda-4.11.0         | 14.4 MB   | #####4     |  54% \n",
      "conda-4.11.0         | 14.4 MB   | #####7     |  58% \n",
      "conda-4.11.0         | 14.4 MB   | ######1    |  61% \n",
      "conda-4.11.0         | 14.4 MB   | ######4    |  64% \n",
      "conda-4.11.0         | 14.4 MB   | ######7    |  68% \n",
      "conda-4.11.0         | 14.4 MB   | #######1   |  72% \n",
      "conda-4.11.0         | 14.4 MB   | #######4   |  75% \n",
      "conda-4.11.0         | 14.4 MB   | #######8   |  79% \n",
      "conda-4.11.0         | 14.4 MB   | ########2  |  83% \n",
      "conda-4.11.0         | 14.4 MB   | ########6  |  86% \n",
      "conda-4.11.0         | 14.4 MB   | ########9  |  90% \n",
      "conda-4.11.0         | 14.4 MB   | #########3 |  93% \n",
      "conda-4.11.0         | 14.4 MB   | #########6 |  97% \n",
      "conda-4.11.0         | 14.4 MB   | ########## | 100% \n",
      "\n",
      "xmltodict-0.12.0     | 13 KB     |            |   0% \n",
      "xmltodict-0.12.0     | 13 KB     | ########## | 100% \n",
      "xmltodict-0.12.0     | 13 KB     | ########## | 100% \n",
      "Preparing transaction: ...working... done\n",
      "Verifying transaction: ...working... done\n",
      "Executing transaction: ...working... done\n",
      "\n",
      "Note: you may need to restart the kernel to use updated packages.\n"
     ]
    }
   ],
   "source": [
    "conda update -n base -c defaults conda"
   ]
  },
  {
   "cell_type": "code",
   "execution_count": null,
   "id": "d0779555",
   "metadata": {},
   "outputs": [],
   "source": []
  }
 ],
 "metadata": {
  "kernelspec": {
   "display_name": "Python 3",
   "language": "python",
   "name": "python3"
  },
  "language_info": {
   "codemirror_mode": {
    "name": "ipython",
    "version": 3
   },
   "file_extension": ".py",
   "mimetype": "text/x-python",
   "name": "python",
   "nbconvert_exporter": "python",
   "pygments_lexer": "ipython3",
   "version": "3.8.8"
  }
 },
 "nbformat": 4,
 "nbformat_minor": 5
}
