{
 "cells": [
  {
   "cell_type": "code",
   "execution_count": 2,
   "metadata": {
    "collapsed": true,
    "pycharm": {
     "name": "#%%\n"
    }
   },
   "outputs": [],
   "source": [
    "import pandas as pd\n",
    "import matplotlib.pyplot as plt\n",
    "import seaborn as sns\n",
    "import numpy as np\n",
    "import statsmodels.api as sm\n",
    "%matplotlib inline\n",
    "pd.set_option('display.max_rows', None)\n",
    "import scipy.stats as stats\n",
    "from scipy.stats import shapiro\n",
    "import copy\n",
    "import statsmodels.stats.api as sms\n",
    "from scipy.stats import wilcoxon\n",
    "sns.set(style=\"darkgrid\")\n",
    "import test_mod as mod"
   ]
  },
  {
   "cell_type": "markdown",
   "metadata": {
    "pycharm": {
     "name": "#%% md\n"
    }
   },
   "source": [
    "## Descriptive statistics of attributes in the Diagnosis spreadsheet.\n",
    "### Importing data"
   ]
  },
  {
   "cell_type": "code",
   "execution_count": 3,
   "metadata": {
    "pycharm": {
     "name": "#%%\n"
    }
   },
   "outputs": [
    {
     "data": {
      "text/plain": "    id  perfor_status has_concom            concom_name   T    N   M    figo  \\\n0  101            1.0          Т      В вирусны гепатит  2B  1.0  0.0  IIIC1   \n1  102            1.0          Ү                    NaN  2B  1.0  0.0  IIIC1   \n2  103            1.0          Ү                    NaN  2B  1.0  0.0  IIIC1   \n3  104            1.0          Ү                    NaN  2B  1.0  0.0  IIIC1   \n4  105            1.0          Т  Артерийн даралт ихдэх  3B  1.0  0.0  IIIC1   \n\n   PT  tumor_size  growth_type   VI   PaR  PaL UI ct_abdomen ct_pelvic  \\\n0  1.0          Д          1.0  0.0   IIB  IIB  Т          Т         Т   \n1  1.0          Д          2.0  0.0   IIB  IIB  Ү          Т         Т   \n2  1.0          Д          2.0  0.0   IIB  IIB  Т          Т         Т   \n3  1.0          Д          1.0  0.0   IIB  IIB  Ү          Т         Т   \n4  1.0          Т          2.0  0.0  IIIB  IIB  Ү          Т         Т   \n\n  mri_pelvic  \n0          Ү  \n1          Т  \n2          Ү  \n3          Т  \n4          Т  ",
      "text/html": "<div>\n<style scoped>\n    .dataframe tbody tr th:only-of-type {\n        vertical-align: middle;\n    }\n\n    .dataframe tbody tr th {\n        vertical-align: top;\n    }\n\n    .dataframe thead th {\n        text-align: right;\n    }\n</style>\n<table border=\"1\" class=\"dataframe\">\n  <thead>\n    <tr style=\"text-align: right;\">\n      <th></th>\n      <th>id</th>\n      <th>perfor_status</th>\n      <th>has_concom</th>\n      <th>concom_name</th>\n      <th>T</th>\n      <th>N</th>\n      <th>M</th>\n      <th>figo</th>\n      <th>PT</th>\n      <th>tumor_size</th>\n      <th>growth_type</th>\n      <th>VI</th>\n      <th>PaR</th>\n      <th>PaL</th>\n      <th>UI</th>\n      <th>ct_abdomen</th>\n      <th>ct_pelvic</th>\n      <th>mri_pelvic</th>\n    </tr>\n  </thead>\n  <tbody>\n    <tr>\n      <th>0</th>\n      <td>101</td>\n      <td>1.0</td>\n      <td>Т</td>\n      <td>В вирусны гепатит</td>\n      <td>2B</td>\n      <td>1.0</td>\n      <td>0.0</td>\n      <td>IIIC1</td>\n      <td>1.0</td>\n      <td>Д</td>\n      <td>1.0</td>\n      <td>0.0</td>\n      <td>IIB</td>\n      <td>IIB</td>\n      <td>Т</td>\n      <td>Т</td>\n      <td>Т</td>\n      <td>Ү</td>\n    </tr>\n    <tr>\n      <th>1</th>\n      <td>102</td>\n      <td>1.0</td>\n      <td>Ү</td>\n      <td>NaN</td>\n      <td>2B</td>\n      <td>1.0</td>\n      <td>0.0</td>\n      <td>IIIC1</td>\n      <td>1.0</td>\n      <td>Д</td>\n      <td>2.0</td>\n      <td>0.0</td>\n      <td>IIB</td>\n      <td>IIB</td>\n      <td>Ү</td>\n      <td>Т</td>\n      <td>Т</td>\n      <td>Т</td>\n    </tr>\n    <tr>\n      <th>2</th>\n      <td>103</td>\n      <td>1.0</td>\n      <td>Ү</td>\n      <td>NaN</td>\n      <td>2B</td>\n      <td>1.0</td>\n      <td>0.0</td>\n      <td>IIIC1</td>\n      <td>1.0</td>\n      <td>Д</td>\n      <td>2.0</td>\n      <td>0.0</td>\n      <td>IIB</td>\n      <td>IIB</td>\n      <td>Т</td>\n      <td>Т</td>\n      <td>Т</td>\n      <td>Ү</td>\n    </tr>\n    <tr>\n      <th>3</th>\n      <td>104</td>\n      <td>1.0</td>\n      <td>Ү</td>\n      <td>NaN</td>\n      <td>2B</td>\n      <td>1.0</td>\n      <td>0.0</td>\n      <td>IIIC1</td>\n      <td>1.0</td>\n      <td>Д</td>\n      <td>1.0</td>\n      <td>0.0</td>\n      <td>IIB</td>\n      <td>IIB</td>\n      <td>Ү</td>\n      <td>Т</td>\n      <td>Т</td>\n      <td>Т</td>\n    </tr>\n    <tr>\n      <th>4</th>\n      <td>105</td>\n      <td>1.0</td>\n      <td>Т</td>\n      <td>Артерийн даралт ихдэх</td>\n      <td>3B</td>\n      <td>1.0</td>\n      <td>0.0</td>\n      <td>IIIC1</td>\n      <td>1.0</td>\n      <td>Т</td>\n      <td>2.0</td>\n      <td>0.0</td>\n      <td>IIIB</td>\n      <td>IIB</td>\n      <td>Ү</td>\n      <td>Т</td>\n      <td>Т</td>\n      <td>Т</td>\n    </tr>\n  </tbody>\n</table>\n</div>"
     },
     "execution_count": 3,
     "metadata": {},
     "output_type": "execute_result"
    }
   ],
   "source": [
    "diagnosis = pd.read_csv(r\"C:\\Users\\gdbt0\\OneDrive\\Documents\\GitHub\\Projects\\cancer\\data\\interim\\diagnosis.csv\")\n",
    "diagnosis.head()"
   ]
  },
  {
   "cell_type": "code",
   "execution_count": 4,
   "metadata": {
    "pycharm": {
     "name": "#%%\n"
    }
   },
   "outputs": [
    {
     "name": "stdout",
     "output_type": "stream",
     "text": [
      "<class 'pandas.core.frame.DataFrame'>\n",
      "RangeIndex: 98 entries, 0 to 97\n",
      "Data columns (total 18 columns):\n",
      " #   Column         Non-Null Count  Dtype  \n",
      "---  ------         --------------  -----  \n",
      " 0   id             98 non-null     int64  \n",
      " 1   perfor_status  84 non-null     float64\n",
      " 2   has_concom     85 non-null     object \n",
      " 3   concom_name    32 non-null     object \n",
      " 4   T              85 non-null     object \n",
      " 5   N              85 non-null     float64\n",
      " 6   M              84 non-null     float64\n",
      " 7   figo           85 non-null     object \n",
      " 8   PT             85 non-null     float64\n",
      " 9   tumor_size     85 non-null     object \n",
      " 10  growth_type    85 non-null     float64\n",
      " 11  VI             85 non-null     float64\n",
      " 12  PaR            85 non-null     object \n",
      " 13   PaL           85 non-null     object \n",
      " 14  UI             85 non-null     object \n",
      " 15  ct_abdomen     85 non-null     object \n",
      " 16  ct_pelvic      85 non-null     object \n",
      " 17  mri_pelvic     85 non-null     object \n",
      "dtypes: float64(6), int64(1), object(11)\n",
      "memory usage: 13.9+ KB\n"
     ]
    }
   ],
   "source": [
    "diagnosis.info()"
   ]
  },
  {
   "cell_type": "code",
   "execution_count": 5,
   "metadata": {
    "pycharm": {
     "name": "#%%\n"
    }
   },
   "outputs": [
    {
     "data": {
      "text/plain": "    id last_brachy_date applicator_name  total_apoint_left  \\\n0  101       2020.01.16     LCT 42-8-2L               74.2   \n1  102       2019.12.03     LCT 42-8-3L               63.6   \n2  103       2020.01.16   LAR 01-01 D25               79.6   \n3  104       2020.01.15     LCT 42-8-2L               80.0   \n4  105       2019.03.04   LAR 04-01 D25               67.9   \n\n   total_apoint_right  icru_rectum  icru_bladder  hrctv_volume  eqd2_bladder  \\\n0                74.2         51.8          51.7          33.0          66.4   \n1                65.2         60.9          49.5          26.5          69.2   \n2                80.3          NaN          77.1          42.1          83.6   \n3                79.9         72.3          68.1          35.0          79.0   \n4                67.4         64.3          65.3          20.7          78.6   \n\n   eqd2_rectum  eqd2_sigmoid  eqd2_hrbrachy_dose  eqd2_total_dose  \n0         51.8          67.4                35.8             80.3  \n1         54.5          63.6                39.1             83.7  \n2         64.3          68.0                36.7             86.7  \n3         68.7          72.3                35.8             85.8  \n4         68.4          66.0                37.7             87.7  ",
      "text/html": "<div>\n<style scoped>\n    .dataframe tbody tr th:only-of-type {\n        vertical-align: middle;\n    }\n\n    .dataframe tbody tr th {\n        vertical-align: top;\n    }\n\n    .dataframe thead th {\n        text-align: right;\n    }\n</style>\n<table border=\"1\" class=\"dataframe\">\n  <thead>\n    <tr style=\"text-align: right;\">\n      <th></th>\n      <th>id</th>\n      <th>last_brachy_date</th>\n      <th>applicator_name</th>\n      <th>total_apoint_left</th>\n      <th>total_apoint_right</th>\n      <th>icru_rectum</th>\n      <th>icru_bladder</th>\n      <th>hrctv_volume</th>\n      <th>eqd2_bladder</th>\n      <th>eqd2_rectum</th>\n      <th>eqd2_sigmoid</th>\n      <th>eqd2_hrbrachy_dose</th>\n      <th>eqd2_total_dose</th>\n    </tr>\n  </thead>\n  <tbody>\n    <tr>\n      <th>0</th>\n      <td>101</td>\n      <td>2020.01.16</td>\n      <td>LCT 42-8-2L</td>\n      <td>74.2</td>\n      <td>74.2</td>\n      <td>51.8</td>\n      <td>51.7</td>\n      <td>33.0</td>\n      <td>66.4</td>\n      <td>51.8</td>\n      <td>67.4</td>\n      <td>35.8</td>\n      <td>80.3</td>\n    </tr>\n    <tr>\n      <th>1</th>\n      <td>102</td>\n      <td>2019.12.03</td>\n      <td>LCT 42-8-3L</td>\n      <td>63.6</td>\n      <td>65.2</td>\n      <td>60.9</td>\n      <td>49.5</td>\n      <td>26.5</td>\n      <td>69.2</td>\n      <td>54.5</td>\n      <td>63.6</td>\n      <td>39.1</td>\n      <td>83.7</td>\n    </tr>\n    <tr>\n      <th>2</th>\n      <td>103</td>\n      <td>2020.01.16</td>\n      <td>LAR 01-01 D25</td>\n      <td>79.6</td>\n      <td>80.3</td>\n      <td>NaN</td>\n      <td>77.1</td>\n      <td>42.1</td>\n      <td>83.6</td>\n      <td>64.3</td>\n      <td>68.0</td>\n      <td>36.7</td>\n      <td>86.7</td>\n    </tr>\n    <tr>\n      <th>3</th>\n      <td>104</td>\n      <td>2020.01.15</td>\n      <td>LCT 42-8-2L</td>\n      <td>80.0</td>\n      <td>79.9</td>\n      <td>72.3</td>\n      <td>68.1</td>\n      <td>35.0</td>\n      <td>79.0</td>\n      <td>68.7</td>\n      <td>72.3</td>\n      <td>35.8</td>\n      <td>85.8</td>\n    </tr>\n    <tr>\n      <th>4</th>\n      <td>105</td>\n      <td>2019.03.04</td>\n      <td>LAR 04-01 D25</td>\n      <td>67.9</td>\n      <td>67.4</td>\n      <td>64.3</td>\n      <td>65.3</td>\n      <td>20.7</td>\n      <td>78.6</td>\n      <td>68.4</td>\n      <td>66.0</td>\n      <td>37.7</td>\n      <td>87.7</td>\n    </tr>\n  </tbody>\n</table>\n</div>"
     },
     "execution_count": 5,
     "metadata": {},
     "output_type": "execute_result"
    }
   ],
   "source": [
    "brachytherapy = pd.read_csv(r\"C:\\Users\\gdbt0\\OneDrive\\Documents\\GitHub\\Projects\\cancer\\data\\interim\\brachytherapy.csv\")\n",
    "brachytherapy.head()"
   ]
  },
  {
   "cell_type": "code",
   "execution_count": 6,
   "metadata": {
    "pycharm": {
     "name": "#%%\n"
    }
   },
   "outputs": [
    {
     "name": "stdout",
     "output_type": "stream",
     "text": [
      "<class 'pandas.core.frame.DataFrame'>\n",
      "RangeIndex: 98 entries, 0 to 97\n",
      "Data columns (total 13 columns):\n",
      " #   Column              Non-Null Count  Dtype  \n",
      "---  ------              --------------  -----  \n",
      " 0   id                  98 non-null     int64  \n",
      " 1   last_brachy_date    85 non-null     object \n",
      " 2   applicator_name     85 non-null     object \n",
      " 3   total_apoint_left   80 non-null     float64\n",
      " 4   total_apoint_right  80 non-null     float64\n",
      " 5   icru_rectum         80 non-null     float64\n",
      " 6   icru_bladder        83 non-null     float64\n",
      " 7   hrctv_volume        85 non-null     float64\n",
      " 8   eqd2_bladder        85 non-null     float64\n",
      " 9   eqd2_rectum         85 non-null     float64\n",
      " 10  eqd2_sigmoid        85 non-null     float64\n",
      " 11  eqd2_hrbrachy_dose  85 non-null     float64\n",
      " 12  eqd2_total_dose     85 non-null     float64\n",
      "dtypes: float64(10), int64(1), object(2)\n",
      "memory usage: 10.1+ KB\n"
     ]
    }
   ],
   "source": [
    "brachytherapy.info()"
   ]
  },
  {
   "cell_type": "code",
   "execution_count": 7,
   "metadata": {
    "pycharm": {
     "name": "#%%\n"
    }
   },
   "outputs": [
    {
     "name": "stdout",
     "output_type": "stream",
     "text": [
      "<class 'pandas.core.frame.DataFrame'>\n",
      "Int64Index: 98 entries, 0 to 97\n",
      "Data columns (total 30 columns):\n",
      " #   Column              Non-Null Count  Dtype  \n",
      "---  ------              --------------  -----  \n",
      " 0   id                  98 non-null     int64  \n",
      " 1   perfor_status       84 non-null     float64\n",
      " 2   has_concom          85 non-null     object \n",
      " 3   concom_name         32 non-null     object \n",
      " 4   T                   85 non-null     object \n",
      " 5   N                   85 non-null     float64\n",
      " 6   M                   84 non-null     float64\n",
      " 7   figo                85 non-null     object \n",
      " 8   PT                  85 non-null     float64\n",
      " 9   tumor_size          85 non-null     object \n",
      " 10  growth_type         85 non-null     float64\n",
      " 11  VI                  85 non-null     float64\n",
      " 12  PaR                 85 non-null     object \n",
      " 13   PaL                85 non-null     object \n",
      " 14  UI                  85 non-null     object \n",
      " 15  ct_abdomen          85 non-null     object \n",
      " 16  ct_pelvic           85 non-null     object \n",
      " 17  mri_pelvic          85 non-null     object \n",
      " 18  last_brachy_date    85 non-null     object \n",
      " 19  applicator_name     85 non-null     object \n",
      " 20  total_apoint_left   80 non-null     float64\n",
      " 21  total_apoint_right  80 non-null     float64\n",
      " 22  icru_rectum         80 non-null     float64\n",
      " 23  icru_bladder        83 non-null     float64\n",
      " 24  hrctv_volume        85 non-null     float64\n",
      " 25  eqd2_bladder        85 non-null     float64\n",
      " 26  eqd2_rectum         85 non-null     float64\n",
      " 27  eqd2_sigmoid        85 non-null     float64\n",
      " 28  eqd2_hrbrachy_dose  85 non-null     float64\n",
      " 29  eqd2_total_dose     85 non-null     float64\n",
      "dtypes: float64(16), int64(1), object(13)\n",
      "memory usage: 23.7+ KB\n"
     ]
    }
   ],
   "source": [
    "df = diagnosis.merge(brachytherapy, on='id')\n",
    "df.info()\n"
   ]
  },
  {
   "cell_type": "markdown",
   "metadata": {
    "pycharm": {
     "name": "#%% md\n"
    }
   },
   "source": [
    "### Exploratory data analysis"
   ]
  },
  {
   "cell_type": "code",
   "execution_count": 8,
   "metadata": {
    "pycharm": {
     "name": "#%%\n"
    }
   },
   "outputs": [],
   "source": [
    "#Transforming data data\n",
    "primary_var_name = 'UI'\n",
    "secondary_var_name = 'eqd2_total_dose'\n",
    "\n",
    "primary_vs_secondary = df[[primary_var_name,secondary_var_name]].copy()\n",
    "primary_vs_secondary.dropna(inplace=True)\n",
    "primary_vs_secondary[primary_var_name] = primary_vs_secondary[primary_var_name].astype('category')\n",
    "primary_var = df[primary_var_name].copy()\n",
    "primary_var.dropna(inplace=True)\n",
    "primary_var_value_counts = primary_var.value_counts()"
   ]
  },
  {
   "cell_type": "code",
   "execution_count": 9,
   "metadata": {
    "pycharm": {
     "name": "#%%\n"
    }
   },
   "outputs": [
    {
     "data": {
      "text/plain": "0    Т\n1    Ү\n2    Т\n3    Ү\n4    Ү\nName: UI, dtype: object"
     },
     "execution_count": 9,
     "metadata": {},
     "output_type": "execute_result"
    }
   ],
   "source": [
    "primary_var.head()"
   ]
  },
  {
   "cell_type": "code",
   "execution_count": 10,
   "metadata": {
    "pycharm": {
     "name": "#%%\n"
    }
   },
   "outputs": [
    {
     "name": "stdout",
     "output_type": "stream",
     "text": [
      "The frequency distribution of categories in UI.\n",
      "In total, there are 2 categories.\n"
     ]
    },
    {
     "data": {
      "text/plain": "Ү    57\nТ    28\nName: UI, dtype: int64"
     },
     "execution_count": 10,
     "metadata": {},
     "output_type": "execute_result"
    }
   ],
   "source": [
    "print(\"The frequency distribution of categories in {}.\".format(primary_var_name))\n",
    "print(\"In total, there are {} categories.\".format(primary_var.value_counts().count()))\n",
    "primary_var.value_counts()"
   ]
  },
  {
   "cell_type": "code",
   "execution_count": 11,
   "metadata": {
    "pycharm": {
     "name": "#%%\n"
    }
   },
   "outputs": [
    {
     "data": {
      "text/plain": "<AxesSubplot:xlabel='eqd2_total_dose', ylabel='UI'>"
     },
     "execution_count": 11,
     "metadata": {},
     "output_type": "execute_result"
    },
    {
     "data": {
      "text/plain": "<Figure size 432x288 with 1 Axes>",
      "image/png": "[encoded data removed]"
     },
     "metadata": {},
     "output_type": "display_data"
    }
   ],
   "source": [
    "sns.boxplot(data=primary_vs_secondary,x=secondary_var_name, y=primary_var_name)\n"
   ]
  },
  {
   "cell_type": "markdown",
   "metadata": {
    "pycharm": {
     "name": "#%% md\n"
    }
   },
   "source": [
    "Let's graph the frequency distribution of the categorical features to a barplot."
   ]
  },
  {
   "cell_type": "code",
   "execution_count": 12,
   "metadata": {
    "pycharm": {
     "name": "#%%\n"
    }
   },
   "outputs": [
    {
     "name": "stderr",
     "output_type": "stream",
     "text": [
      "C:\\Users\\gdbt0\\anaconda3\\envs\\cancer\\lib\\site-packages\\seaborn\\_decorators.py:36: FutureWarning: Pass the following variable as a keyword arg: x. From version 0.12, the only valid positional argument will be `data`, and passing other arguments without an explicit keyword will result in an error or misinterpretation.\n",
      "  warnings.warn(\n"
     ]
    },
    {
     "data": {
      "text/plain": "<Figure size 432x288 with 1 Axes>",
      "image/png": "[encoded data removed]"
     },
     "metadata": {},
     "output_type": "display_data"
    }
   ],
   "source": [
    "#Making a barplot\n",
    "plot = sns.countplot(primary_var)\n",
    "mod.show_values(plot)\n",
    "plt.title(\"Frequency distribution of {}\".format(primary_var_name))\n",
    "plt.ylabel('Number of Occurences', fontsize=12)\n",
    "plt.xlabel('{}'.format(primary_var_name),fontsize=12)\n",
    "plt.show()"
   ]
  },
  {
   "cell_type": "code",
   "execution_count": 15,
   "metadata": {
    "pycharm": {
     "name": "#%%\n"
    }
   },
   "outputs": [
    {
     "data": {
      "text/plain": "<Figure size 432x288 with 1 Axes>",
      "image/png": "[encoded data removed]"
     },
     "metadata": {},
     "output_type": "display_data"
    }
   ],
   "source": [
    "#Making a pie chart\n",
    "plt.title(\"Percentage distribution of {}\".format(primary_var_name))\n",
    "plt.pie(primary_var_value_counts, labels=primary_var_value_counts.index, autopct='%.0f%%')\n",
    "plt.show()"
   ]
  },
  {
   "cell_type": "code",
   "execution_count": 63,
   "metadata": {
    "pycharm": {
     "name": "#%%\n"
    }
   },
   "outputs": [],
   "source": []
  },
  {
   "cell_type": "code",
   "execution_count": null,
   "metadata": {
    "pycharm": {
     "name": "#%%\n"
    }
   },
   "outputs": [],
   "source": []
  }
 ],
 "metadata": {
  "kernelspec": {
   "display_name": "Python 3",
   "language": "python",
   "name": "python3"
  },
  "language_info": {
   "codemirror_mode": {
    "name": "ipython",
    "version": 3
   },
   "file_extension": ".py",
   "mimetype": "text/x-python",
   "name": "python",
   "nbconvert_exporter": "python",
   "pygments_lexer": "ipython3",
   "version": "3.8.8"
  }
 },
 "nbformat": 4,
 "nbformat_minor": 1
}