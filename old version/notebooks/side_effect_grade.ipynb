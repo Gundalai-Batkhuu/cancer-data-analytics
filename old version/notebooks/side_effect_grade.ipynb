{
 "cells": [
  {
   "cell_type": "code",
   "execution_count": 33,
   "metadata": {},
   "outputs": [],
   "source": [
    "import pandas as pd\n",
    "import matplotlib.pyplot as plt\n",
    "import seaborn as sns\n",
    "import numpy as np\n",
    "import statsmodels.api as sm\n",
    "%matplotlib inline\n",
    "pd.set_option('display.max_rows', None)\n",
    "import scipy.stats as stats\n",
    "from scipy.stats import shapiro\n",
    "import copy\n",
    "import statsmodels.stats.api as sms\n",
    "from scipy.stats import wilcoxon\n",
    "sns.set(style=\"darkgrid\")\n",
    "import test_mod as mod\n",
    "from sklearn.linear_model import LogisticRegression\n",
    "from sklearn.model_selection import train_test_split\n",
    "from sklearn import preprocessing\n",
    "from scipy.stats import f_oneway\n",
    "from sklearn.metrics import accuracy_score\n",
    "from sklearn.model_selection import cross_val_score\n",
    "from sklearn.metrics import confusion_matrix\n",
    "import statsmodels.formula.api as smf\n",
    "from lifelines import KaplanMeierFitter\n",
    "from matplotlib.pyplot import figure"
   ]
  },
  {
   "cell_type": "code",
   "execution_count": 4,
   "metadata": {
    "pycharm": {
     "name": "#%%\n"
    }
   },
   "outputs": [],
   "source": [
    "# Importing data\n",
    "\n",
    "df = pd.read_csv(r\"C:\\Users\\gdbt0\\OneDrive\\Documents\\GitHub\\Projects\\cancer\\data\\processed\\research_group.csv\")"
   ]
  },
  {
   "cell_type": "markdown",
   "metadata": {
    "pycharm": {
     "name": "#%% md\n"
    }
   },
   "source": [
    "### Rectum_sig_grade analysis"
   ]
  },
  {
   "cell_type": "code",
   "execution_count": 5,
   "metadata": {
    "pycharm": {
     "name": "#%%\n"
    }
   },
   "outputs": [],
   "source": [
    "# Assigning independent and dependent variables\n",
    "indep_var = df[['followup_timing','eqd2_rectum']]\n",
    "dep_var = df['rect_sig_grade']\n"
   ]
  },
  {
   "cell_type": "code",
   "execution_count": 6,
   "metadata": {
    "pycharm": {
     "name": "#%%\n"
    }
   },
   "outputs": [
    {
     "name": "stderr",
     "output_type": "stream",
     "text": [
      "C:\\Users\\gdbt0\\anaconda3\\lib\\site-packages\\seaborn\\_decorators.py:36: FutureWarning: Pass the following variable as a keyword arg: x. From version 0.12, the only valid positional argument will be `data`, and passing other arguments without an explicit keyword will result in an error or misinterpretation.\n",
      "  warnings.warn(\n"
     ]
    },
    {
     "data": {
      "image/png": "[encoded data removed]",
      "text/plain": [
       "<Figure size 432x288 with 1 Axes>"
      ]
     },
     "metadata": {},
     "output_type": "display_data"
    }
   ],
   "source": [
    "#Making a barplot\n",
    "plot = sns.countplot(dep_var)\n",
    "mod.show_values(plot)\n",
    "plt.title(\"Frequency distribution of {}\".format('rect_sig_grade'))\n",
    "plt.ylabel('Number of Occurences', fontsize=12)\n",
    "plt.xlabel('{}'.format('rect_sig_grade'),fontsize=12)\n",
    "plt.show()"
   ]
  },
  {
   "cell_type": "code",
   "execution_count": 7,
   "metadata": {
    "pycharm": {
     "name": "#%%\n"
    }
   },
   "outputs": [
    {
     "data": {
      "text/plain": [
       "<AxesSubplot:xlabel='rect_sig_grade', ylabel='eqd2_rectum'>"
      ]
     },
     "execution_count": 7,
     "metadata": {},
     "output_type": "execute_result"
    },
    {
     "data": {
      "image/png": "[encoded data removed]",
      "text/plain": [
       "<Figure size 432x288 with 1 Axes>"
      ]
     },
     "metadata": {},
     "output_type": "display_data"
    }
   ],
   "source": [
    "#Creating a boxplot between late_response_status and eqd2_total_dose\n",
    "sns.boxplot(data=df,x='rect_sig_grade', y='eqd2_rectum')"
   ]
  },
  {
   "cell_type": "code",
   "execution_count": 8,
   "metadata": {
    "pycharm": {
     "name": "#%% Finding descriptive statistics of eqd2_rectum for rect_sig_grade = 0\n"
    }
   },
   "outputs": [
    {
     "data": {
      "text/plain": [
       "1    56.2\n",
       "2    60.6\n",
       "4    66.9\n",
       "5    64.4\n",
       "6    70.7\n",
       "Name: eqd2_rectum, dtype: float64"
      ]
     },
     "execution_count": 8,
     "metadata": {},
     "output_type": "execute_result"
    }
   ],
   "source": [
    "df_bg_0_eqd2_rectum = df.loc[(df['rect_sig_grade'] == 0)]['eqd2_rectum']\n",
    "df_bg_0_eqd2_rectum.head()"
   ]
  },
  {
   "cell_type": "code",
   "execution_count": 9,
   "metadata": {
    "pycharm": {
     "name": "#%%\n"
    }
   },
   "outputs": [
    {
     "data": {
      "text/plain": [
       "count    27.000000\n",
       "mean     62.440741\n",
       "std       6.102916\n",
       "min      48.900000\n",
       "25%      57.800000\n",
       "50%      60.800000\n",
       "75%      66.350000\n",
       "max      75.100000\n",
       "Name: eqd2_rectum, dtype: float64"
      ]
     },
     "execution_count": 9,
     "metadata": {},
     "output_type": "execute_result"
    }
   ],
   "source": [
    "df_bg_0_eqd2_rectum.describe()"
   ]
  },
  {
   "cell_type": "code",
   "execution_count": 10,
   "metadata": {
    "pycharm": {
     "name": "#%%\n"
    }
   },
   "outputs": [
    {
     "data": {
      "text/plain": [
       "(60.02650756651184, 64.85497391496963)"
      ]
     },
     "execution_count": 10,
     "metadata": {},
     "output_type": "execute_result"
    }
   ],
   "source": [
    "data = df_bg_0_eqd2_rectum\n",
    "stats.t.interval(alpha=0.95, df=len(data)-1, loc=np.mean(data), scale=stats.sem(data))"
   ]
  },
  {
   "cell_type": "code",
   "execution_count": 11,
   "metadata": {
    "pycharm": {
     "name": "#%% Finding descriptive statistics of eqd2_rectum for rect_sig_grade = 1\n"
    }
   },
   "outputs": [
    {
     "data": {
      "text/plain": [
       "0     68.7\n",
       "14    55.4\n",
       "15    65.4\n",
       "19    59.8\n",
       "20    71.5\n",
       "Name: eqd2_rectum, dtype: float64"
      ]
     },
     "execution_count": 11,
     "metadata": {},
     "output_type": "execute_result"
    }
   ],
   "source": [
    "df_bg_0_eqd2_rectum = df.loc[(df['rect_sig_grade'] == 1)]['eqd2_rectum']\n",
    "df_bg_0_eqd2_rectum.head()"
   ]
  },
  {
   "cell_type": "code",
   "execution_count": 12,
   "metadata": {
    "pycharm": {
     "name": "#%%\n"
    }
   },
   "outputs": [
    {
     "data": {
      "text/plain": [
       "count    14.000000\n",
       "mean     59.292857\n",
       "std       6.259696\n",
       "min      51.300000\n",
       "25%      54.575000\n",
       "50%      58.450000\n",
       "75%      62.675000\n",
       "max      71.500000\n",
       "Name: eqd2_rectum, dtype: float64"
      ]
     },
     "execution_count": 12,
     "metadata": {},
     "output_type": "execute_result"
    }
   ],
   "source": [
    "df_bg_0_eqd2_rectum.describe()"
   ]
  },
  {
   "cell_type": "code",
   "execution_count": 13,
   "metadata": {
    "pycharm": {
     "name": "#%%\n"
    }
   },
   "outputs": [
    {
     "data": {
      "text/plain": [
       "(55.67861640521558, 62.90709788049871)"
      ]
     },
     "execution_count": 13,
     "metadata": {},
     "output_type": "execute_result"
    }
   ],
   "source": [
    "data = df_bg_0_eqd2_rectum\n",
    "stats.t.interval(alpha=0.95, df=len(data)-1, loc=np.mean(data), scale=stats.sem(data))\n"
   ]
  },
  {
   "cell_type": "code",
   "execution_count": 14,
   "metadata": {
    "pycharm": {
     "name": "#%% Finding descriptive statistics of eqd2_rectum for rect_sig_grade = 2\n"
    }
   },
   "outputs": [
    {
     "data": {
      "text/plain": [
       "3     54.7\n",
       "17    60.6\n",
       "18    60.3\n",
       "Name: eqd2_rectum, dtype: float64"
      ]
     },
     "execution_count": 14,
     "metadata": {},
     "output_type": "execute_result"
    }
   ],
   "source": [
    "df_bg_0_eqd2_rectum = df.loc[(df['rect_sig_grade'] == 2)]['eqd2_rectum']\n",
    "df_bg_0_eqd2_rectum.head()"
   ]
  },
  {
   "cell_type": "code",
   "execution_count": 15,
   "metadata": {
    "pycharm": {
     "name": "#%%\n"
    }
   },
   "outputs": [
    {
     "data": {
      "text/plain": [
       "count     3.000000\n",
       "mean     58.533333\n",
       "std       3.323151\n",
       "min      54.700000\n",
       "25%      57.500000\n",
       "50%      60.300000\n",
       "75%      60.450000\n",
       "max      60.600000\n",
       "Name: eqd2_rectum, dtype: float64"
      ]
     },
     "execution_count": 15,
     "metadata": {},
     "output_type": "execute_result"
    }
   ],
   "source": [
    "df_bg_0_eqd2_rectum.describe()"
   ]
  },
  {
   "cell_type": "code",
   "execution_count": 16,
   "metadata": {
    "pycharm": {
     "name": "#%%\n"
    }
   },
   "outputs": [
    {
     "data": {
      "text/plain": [
       "(50.27816832632864, 66.78849834033804)"
      ]
     },
     "execution_count": 16,
     "metadata": {},
     "output_type": "execute_result"
    }
   ],
   "source": [
    "data = df_bg_0_eqd2_rectum\n",
    "stats.t.interval(alpha=0.95, df=len(data)-1, loc=np.mean(data), scale=stats.sem(data))"
   ]
  },
  {
   "cell_type": "code",
   "execution_count": 17,
   "metadata": {
    "pycharm": {
     "name": "#%%\n"
    }
   },
   "outputs": [
    {
     "data": {
      "image/png": "[encoded data removed]",
      "text/plain": [
       "<Figure size 432x288 with 1 Axes>"
      ]
     },
     "metadata": {},
     "output_type": "display_data"
    }
   ],
   "source": [
    "#Making a pie chart\n",
    "rect_sig_grade_value_counts = df['rect_sig_grade'].value_counts()\n",
    "plt.title(\"Percentage distribution of {}\".format('rect_sig_grade'))\n",
    "plt.pie(rect_sig_grade_value_counts, labels=rect_sig_grade_value_counts.index, autopct='%.0f%%')\n",
    "plt.show()"
   ]
  },
  {
   "cell_type": "markdown",
   "metadata": {
    "pycharm": {
     "name": "#%% md\n"
    }
   },
   "source": [
    "### Logistic ordinal regression model test\n",
    "#### Testing the correlation between rect_sig_grade and independent variables"
   ]
  },
  {
   "cell_type": "code",
   "execution_count": 18,
   "metadata": {
    "pycharm": {
     "name": "#%%\n"
    }
   },
   "outputs": [
    {
     "ename": "NameError",
     "evalue": "name 'OrderedModel' is not defined",
     "output_type": "error",
     "traceback": [
      "\u001B[1;31m---------------------------------------------------------------------------\u001B[0m",
      "\u001B[1;31mNameError\u001B[0m                                 Traceback (most recent call last)",
      "\u001B[1;32m<ipython-input-18-e6f8a78c7699>\u001B[0m in \u001B[0;36m<module>\u001B[1;34m\u001B[0m\n\u001B[0;32m      2\u001B[0m \u001B[0mY\u001B[0m \u001B[1;33m=\u001B[0m \u001B[0mdep_var\u001B[0m\u001B[1;33m\u001B[0m\u001B[1;33m\u001B[0m\u001B[0m\n\u001B[0;32m      3\u001B[0m \u001B[0mX\u001B[0m \u001B[1;33m=\u001B[0m \u001B[0mindep_var\u001B[0m\u001B[1;33m\u001B[0m\u001B[1;33m\u001B[0m\u001B[0m\n\u001B[1;32m----> 4\u001B[1;33m \u001B[0mord_logit_model\u001B[0m \u001B[1;33m=\u001B[0m \u001B[0mOrderedModel\u001B[0m\u001B[1;33m(\u001B[0m\u001B[0mY\u001B[0m\u001B[1;33m,\u001B[0m\u001B[0mX\u001B[0m\u001B[1;33m,\u001B[0m \u001B[0mdistr\u001B[0m\u001B[1;33m=\u001B[0m\u001B[1;34m'logit'\u001B[0m\u001B[1;33m)\u001B[0m\u001B[1;33m\u001B[0m\u001B[1;33m\u001B[0m\u001B[0m\n\u001B[0m\u001B[0;32m      5\u001B[0m \u001B[0mord_logit_fit\u001B[0m \u001B[1;33m=\u001B[0m \u001B[0mord_logit_model\u001B[0m\u001B[1;33m.\u001B[0m\u001B[0mfit\u001B[0m\u001B[1;33m(\u001B[0m\u001B[0mmethod\u001B[0m\u001B[1;33m=\u001B[0m\u001B[1;34m'bfgs'\u001B[0m\u001B[1;33m,\u001B[0m \u001B[0mdisp\u001B[0m\u001B[1;33m=\u001B[0m\u001B[1;32mFalse\u001B[0m\u001B[1;33m)\u001B[0m\u001B[1;33m\u001B[0m\u001B[1;33m\u001B[0m\u001B[0m\n\u001B[0;32m      6\u001B[0m \u001B[0mprint\u001B[0m\u001B[1;33m(\u001B[0m\u001B[0mord_logit_fit\u001B[0m\u001B[1;33m.\u001B[0m\u001B[0msummary\u001B[0m\u001B[1;33m(\u001B[0m\u001B[1;33m)\u001B[0m\u001B[1;33m)\u001B[0m\u001B[1;33m\u001B[0m\u001B[1;33m\u001B[0m\u001B[0m\n",
      "\u001B[1;31mNameError\u001B[0m: name 'OrderedModel' is not defined"
     ]
    }
   ],
   "source": [
    "# Logistic ordinal regression model against two variables\n",
    "Y = dep_var\n",
    "X = indep_var\n",
    "ord_logit_model = OrderedModel(Y,X, distr='logit')\n",
    "ord_logit_fit = ord_logit_model.fit(method='bfgs', disp=False)\n",
    "print(ord_logit_fit.summary())"
   ]
  },
  {
   "cell_type": "code",
   "execution_count": 19,
   "metadata": {
    "pycharm": {
     "name": "#%%\n"
    }
   },
   "outputs": [
    {
     "ename": "NameError",
     "evalue": "name 'OrderedModel' is not defined",
     "output_type": "error",
     "traceback": [
      "\u001B[1;31m---------------------------------------------------------------------------\u001B[0m",
      "\u001B[1;31mNameError\u001B[0m                                 Traceback (most recent call last)",
      "\u001B[1;32m<ipython-input-19-c2752c9d8d62>\u001B[0m in \u001B[0;36m<module>\u001B[1;34m\u001B[0m\n\u001B[0;32m      2\u001B[0m \u001B[0mY\u001B[0m \u001B[1;33m=\u001B[0m \u001B[0mdep_var\u001B[0m\u001B[1;33m\u001B[0m\u001B[1;33m\u001B[0m\u001B[0m\n\u001B[0;32m      3\u001B[0m \u001B[0mX\u001B[0m \u001B[1;33m=\u001B[0m \u001B[0mindep_var\u001B[0m\u001B[1;33m\u001B[0m\u001B[1;33m\u001B[0m\u001B[0m\n\u001B[1;32m----> 4\u001B[1;33m \u001B[0mord_logit_model\u001B[0m \u001B[1;33m=\u001B[0m \u001B[0mOrderedModel\u001B[0m\u001B[1;33m(\u001B[0m\u001B[0mY\u001B[0m\u001B[1;33m,\u001B[0m\u001B[0mX\u001B[0m\u001B[1;33m,\u001B[0m \u001B[0mdistr\u001B[0m\u001B[1;33m=\u001B[0m\u001B[1;34m'logit'\u001B[0m\u001B[1;33m)\u001B[0m\u001B[1;33m\u001B[0m\u001B[1;33m\u001B[0m\u001B[0m\n\u001B[0m\u001B[0;32m      5\u001B[0m \u001B[0mord_logit_fit\u001B[0m \u001B[1;33m=\u001B[0m \u001B[0mord_logit_model\u001B[0m\u001B[1;33m.\u001B[0m\u001B[0mfit\u001B[0m\u001B[1;33m(\u001B[0m\u001B[0mmethod\u001B[0m\u001B[1;33m=\u001B[0m\u001B[1;34m'bfgs'\u001B[0m\u001B[1;33m,\u001B[0m \u001B[0mdisp\u001B[0m\u001B[1;33m=\u001B[0m\u001B[1;32mFalse\u001B[0m\u001B[1;33m)\u001B[0m\u001B[1;33m\u001B[0m\u001B[1;33m\u001B[0m\u001B[0m\n\u001B[0;32m      6\u001B[0m \u001B[0mprint\u001B[0m\u001B[1;33m(\u001B[0m\u001B[0mord_logit_fit\u001B[0m\u001B[1;33m.\u001B[0m\u001B[0msummary\u001B[0m\u001B[1;33m(\u001B[0m\u001B[1;33m)\u001B[0m\u001B[1;33m)\u001B[0m\u001B[1;33m\u001B[0m\u001B[1;33m\u001B[0m\u001B[0m\n",
      "\u001B[1;31mNameError\u001B[0m: name 'OrderedModel' is not defined"
     ]
    }
   ],
   "source": [
    "# Logistic ordinal regression model against one variable\n",
    "Y = dep_var\n",
    "X = indep_var\n",
    "ord_logit_model = OrderedModel(Y,X, distr='logit')\n",
    "ord_logit_fit = ord_logit_model.fit(method='bfgs', disp=False)\n",
    "print(ord_logit_fit.summary())"
   ]
  },
  {
   "cell_type": "markdown",
   "metadata": {},
   "source": [
    "### bladder_grade analysis"
   ]
  },
  {
   "cell_type": "code",
   "execution_count": 20,
   "metadata": {
    "pycharm": {
     "name": "#%%\n"
    }
   },
   "outputs": [],
   "source": [
    "# Assigning independent and dependent variables\n",
    "indep_var = df[['followup_timing','eqd2_bladder']]\n",
    "dep_var = df['bladder_grade']\n"
   ]
  },
  {
   "cell_type": "code",
   "execution_count": 21,
   "metadata": {
    "pycharm": {
     "name": "#%%\n"
    }
   },
   "outputs": [
    {
     "name": "stderr",
     "output_type": "stream",
     "text": [
      "C:\\Users\\gdbt0\\anaconda3\\lib\\site-packages\\seaborn\\_decorators.py:36: FutureWarning: Pass the following variable as a keyword arg: x. From version 0.12, the only valid positional argument will be `data`, and passing other arguments without an explicit keyword will result in an error or misinterpretation.\n",
      "  warnings.warn(\n"
     ]
    },
    {
     "data": {
      "image/png": "[encoded data removed]",
      "text/plain": [
       "<Figure size 432x288 with 1 Axes>"
      ]
     },
     "metadata": {},
     "output_type": "display_data"
    }
   ],
   "source": [
    "#Making a barplot\n",
    "plot = sns.countplot(dep_var)\n",
    "mod.show_values(plot)\n",
    "plt.title(\"Frequency distribution of {}\".format('bladder_grade'))\n",
    "plt.ylabel('Number of Occurences', fontsize=12)\n",
    "plt.xlabel('{}'.format('bladder_grade'),fontsize=12)\n",
    "plt.show()"
   ]
  },
  {
   "cell_type": "code",
   "execution_count": 22,
   "metadata": {
    "pycharm": {
     "name": "#%%\n"
    }
   },
   "outputs": [
    {
     "data": {
      "image/png": "[encoded data removed]",
      "text/plain": [
       "<Figure size 432x288 with 1 Axes>"
      ]
     },
     "metadata": {},
     "output_type": "display_data"
    }
   ],
   "source": [
    "#Making a pie chart\n",
    "bladder_grade_value_counts = df['bladder_grade'].value_counts()\n",
    "plt.title(\"Percentage distribution of {}\".format('bladder_grade'))\n",
    "plt.pie(bladder_grade_value_counts, labels=bladder_grade_value_counts.index, autopct='%.0f%%')\n",
    "plt.show()"
   ]
  },
  {
   "cell_type": "code",
   "execution_count": 23,
   "metadata": {
    "pycharm": {
     "name": "#%%\n"
    }
   },
   "outputs": [
    {
     "data": {
      "text/plain": [
       "<AxesSubplot:xlabel='bladder_grade', ylabel='eqd2_bladder'>"
      ]
     },
     "execution_count": 23,
     "metadata": {},
     "output_type": "execute_result"
    },
    {
     "data": {
      "image/png": "[encoded data removed]",
      "text/plain": [
       "<Figure size 432x288 with 1 Axes>"
      ]
     },
     "metadata": {},
     "output_type": "display_data"
    }
   ],
   "source": [
    "#Creating a boxplot between late_response_status and eqd2_total_dose\n",
    "sns.boxplot(data=df,x='bladder_grade', y='eqd2_bladder')"
   ]
  },
  {
   "cell_type": "code",
   "execution_count": 24,
   "metadata": {
    "pycharm": {
     "name": "#%% Finding descriptive statistics of eqd2_rectum for rect_sig_grade = 0\n"
    }
   },
   "outputs": [
    {
     "data": {
      "text/plain": [
       "17    78.6\n",
       "Name: eqd2_bladder, dtype: float64"
      ]
     },
     "execution_count": 24,
     "metadata": {},
     "output_type": "execute_result"
    }
   ],
   "source": [
    "df_bg_0_eqd2_bladder = df.loc[(df['bladder_grade'] == 2)]['eqd2_bladder']\n",
    "df_bg_0_eqd2_bladder.head()"
   ]
  },
  {
   "cell_type": "code",
   "execution_count": 25,
   "metadata": {
    "pycharm": {
     "name": "#%%\n"
    }
   },
   "outputs": [
    {
     "data": {
      "text/plain": [
       "count     1.0\n",
       "mean     78.6\n",
       "std       NaN\n",
       "min      78.6\n",
       "25%      78.6\n",
       "50%      78.6\n",
       "75%      78.6\n",
       "max      78.6\n",
       "Name: eqd2_bladder, dtype: float64"
      ]
     },
     "execution_count": 25,
     "metadata": {},
     "output_type": "execute_result"
    }
   ],
   "source": [
    "df_bg_0_eqd2_bladder.describe()"
   ]
  },
  {
   "cell_type": "code",
   "execution_count": 26,
   "metadata": {
    "pycharm": {
     "name": "#%%\n"
    }
   },
   "outputs": [
    {
     "name": "stderr",
     "output_type": "stream",
     "text": [
      "C:\\Users\\gdbt0\\anaconda3\\lib\\site-packages\\numpy\\core\\_methods.py:261: RuntimeWarning: Degrees of freedom <= 0 for slice\n",
      "  ret = _var(a, axis=axis, dtype=dtype, out=out, ddof=ddof,\n",
      "C:\\Users\\gdbt0\\anaconda3\\lib\\site-packages\\numpy\\core\\_methods.py:253: RuntimeWarning: invalid value encountered in double_scalars\n",
      "  ret = ret.dtype.type(ret / rcount)\n"
     ]
    },
    {
     "data": {
      "text/plain": [
       "(nan, nan)"
      ]
     },
     "execution_count": 26,
     "metadata": {},
     "output_type": "execute_result"
    }
   ],
   "source": [
    "data = df_bg_0_eqd2_bladder\n",
    "stats.t.interval(alpha=0.95, df=len(data)-1, loc=np.mean(data), scale=stats.sem(data))\n"
   ]
  },
  {
   "cell_type": "markdown",
   "metadata": {},
   "source": [
    "#### Testing the correlation between rect_sig_grade and independent variables\n"
   ]
  },
  {
   "cell_type": "code",
   "execution_count": 27,
   "metadata": {
    "pycharm": {
     "name": "#%%\n"
    }
   },
   "outputs": [
    {
     "ename": "NameError",
     "evalue": "name 'OrderedModel' is not defined",
     "output_type": "error",
     "traceback": [
      "\u001B[1;31m---------------------------------------------------------------------------\u001B[0m",
      "\u001B[1;31mNameError\u001B[0m                                 Traceback (most recent call last)",
      "\u001B[1;32m<ipython-input-27-e6f8a78c7699>\u001B[0m in \u001B[0;36m<module>\u001B[1;34m\u001B[0m\n\u001B[0;32m      2\u001B[0m \u001B[0mY\u001B[0m \u001B[1;33m=\u001B[0m \u001B[0mdep_var\u001B[0m\u001B[1;33m\u001B[0m\u001B[1;33m\u001B[0m\u001B[0m\n\u001B[0;32m      3\u001B[0m \u001B[0mX\u001B[0m \u001B[1;33m=\u001B[0m \u001B[0mindep_var\u001B[0m\u001B[1;33m\u001B[0m\u001B[1;33m\u001B[0m\u001B[0m\n\u001B[1;32m----> 4\u001B[1;33m \u001B[0mord_logit_model\u001B[0m \u001B[1;33m=\u001B[0m \u001B[0mOrderedModel\u001B[0m\u001B[1;33m(\u001B[0m\u001B[0mY\u001B[0m\u001B[1;33m,\u001B[0m\u001B[0mX\u001B[0m\u001B[1;33m,\u001B[0m \u001B[0mdistr\u001B[0m\u001B[1;33m=\u001B[0m\u001B[1;34m'logit'\u001B[0m\u001B[1;33m)\u001B[0m\u001B[1;33m\u001B[0m\u001B[1;33m\u001B[0m\u001B[0m\n\u001B[0m\u001B[0;32m      5\u001B[0m \u001B[0mord_logit_fit\u001B[0m \u001B[1;33m=\u001B[0m \u001B[0mord_logit_model\u001B[0m\u001B[1;33m.\u001B[0m\u001B[0mfit\u001B[0m\u001B[1;33m(\u001B[0m\u001B[0mmethod\u001B[0m\u001B[1;33m=\u001B[0m\u001B[1;34m'bfgs'\u001B[0m\u001B[1;33m,\u001B[0m \u001B[0mdisp\u001B[0m\u001B[1;33m=\u001B[0m\u001B[1;32mFalse\u001B[0m\u001B[1;33m)\u001B[0m\u001B[1;33m\u001B[0m\u001B[1;33m\u001B[0m\u001B[0m\n\u001B[0;32m      6\u001B[0m \u001B[0mprint\u001B[0m\u001B[1;33m(\u001B[0m\u001B[0mord_logit_fit\u001B[0m\u001B[1;33m.\u001B[0m\u001B[0msummary\u001B[0m\u001B[1;33m(\u001B[0m\u001B[1;33m)\u001B[0m\u001B[1;33m)\u001B[0m\u001B[1;33m\u001B[0m\u001B[1;33m\u001B[0m\u001B[0m\n",
      "\u001B[1;31mNameError\u001B[0m: name 'OrderedModel' is not defined"
     ]
    }
   ],
   "source": [
    "# Logistic ordinal regression model against two variables\n",
    "Y = dep_var\n",
    "X = indep_var\n",
    "ord_logit_model = OrderedModel(Y,X, distr='logit')\n",
    "ord_logit_fit = ord_logit_model.fit(method='bfgs', disp=False)\n",
    "print(ord_logit_fit.summary())"
   ]
  },
  {
   "cell_type": "code",
   "execution_count": 28,
   "metadata": {
    "pycharm": {
     "name": "#%%\n"
    }
   },
   "outputs": [
    {
     "ename": "NameError",
     "evalue": "name 'OrderedModel' is not defined",
     "output_type": "error",
     "traceback": [
      "\u001B[1;31m---------------------------------------------------------------------------\u001B[0m",
      "\u001B[1;31mNameError\u001B[0m                                 Traceback (most recent call last)",
      "\u001B[1;32m<ipython-input-28-984bda5968db>\u001B[0m in \u001B[0;36m<module>\u001B[1;34m\u001B[0m\n\u001B[0;32m      4\u001B[0m \u001B[0mY\u001B[0m \u001B[1;33m=\u001B[0m \u001B[0mdep_var\u001B[0m\u001B[1;33m\u001B[0m\u001B[1;33m\u001B[0m\u001B[0m\n\u001B[0;32m      5\u001B[0m \u001B[0mX\u001B[0m \u001B[1;33m=\u001B[0m \u001B[0mindep_var\u001B[0m\u001B[1;33m\u001B[0m\u001B[1;33m\u001B[0m\u001B[0m\n\u001B[1;32m----> 6\u001B[1;33m \u001B[0mord_logit_model\u001B[0m \u001B[1;33m=\u001B[0m \u001B[0mOrderedModel\u001B[0m\u001B[1;33m(\u001B[0m\u001B[0mY\u001B[0m\u001B[1;33m,\u001B[0m\u001B[0mX\u001B[0m\u001B[1;33m,\u001B[0m \u001B[0mdistr\u001B[0m\u001B[1;33m=\u001B[0m\u001B[1;34m'logit'\u001B[0m\u001B[1;33m)\u001B[0m\u001B[1;33m\u001B[0m\u001B[1;33m\u001B[0m\u001B[0m\n\u001B[0m\u001B[0;32m      7\u001B[0m \u001B[0mord_logit_fit\u001B[0m \u001B[1;33m=\u001B[0m \u001B[0mord_logit_model\u001B[0m\u001B[1;33m.\u001B[0m\u001B[0mfit\u001B[0m\u001B[1;33m(\u001B[0m\u001B[0mmethod\u001B[0m\u001B[1;33m=\u001B[0m\u001B[1;34m'bfgs'\u001B[0m\u001B[1;33m,\u001B[0m \u001B[0mdisp\u001B[0m\u001B[1;33m=\u001B[0m\u001B[1;32mFalse\u001B[0m\u001B[1;33m)\u001B[0m\u001B[1;33m\u001B[0m\u001B[1;33m\u001B[0m\u001B[0m\n\u001B[0;32m      8\u001B[0m \u001B[0mprint\u001B[0m\u001B[1;33m(\u001B[0m\u001B[0mord_logit_fit\u001B[0m\u001B[1;33m.\u001B[0m\u001B[0msummary\u001B[0m\u001B[1;33m(\u001B[0m\u001B[1;33m)\u001B[0m\u001B[1;33m)\u001B[0m\u001B[1;33m\u001B[0m\u001B[1;33m\u001B[0m\u001B[0m\n",
      "\u001B[1;31mNameError\u001B[0m: name 'OrderedModel' is not defined"
     ]
    }
   ],
   "source": [
    "# Logistic ordinal regression model against one variable\n",
    "indep_var = df['followup_timing']\n",
    "\n",
    "Y = dep_var\n",
    "X = indep_var\n",
    "ord_logit_model = OrderedModel(Y,X, distr='logit')\n",
    "ord_logit_fit = ord_logit_model.fit(method='bfgs', disp=False)\n",
    "print(ord_logit_fit.summary())"
   ]
  },
  {
   "cell_type": "markdown",
   "metadata": {
    "pycharm": {
     "name": "#%% md\n"
    }
   },
   "source": [
    "## Kaplan-Meier fitter diagrams\n",
    "The survival function gives us the probability that the event has not occurred by duration t.\n",
    "\n",
    "The cumulative density is the complement of the survival function and tells us the probability that the event has occurred by time t."
   ]
  },
  {
   "cell_type": "code",
   "execution_count": 29,
   "metadata": {
    "pycharm": {
     "name": "#%%\n"
    }
   },
   "outputs": [
    {
     "data": {
      "text/plain": [
       "<AxesSubplot:xlabel='timeline'>"
      ]
     },
     "execution_count": 29,
     "metadata": {},
     "output_type": "execute_result"
    },
    {
     "data": {
      "image/png": "[encoded data removed]",
      "text/plain": [
       "<Figure size 432x288 with 1 Axes>"
      ]
     },
     "metadata": {},
     "output_type": "display_data"
    }
   ],
   "source": [
    "#Call fitter and fit with time and event data\n",
    "kmf_bladder_grade_event0 = KaplanMeierFitter()\n",
    "kmf_bladder_grade_event0.fit(df['followup_timing'], df['bladder_grade_event0'])\n",
    "\n",
    "#Create survival function, cumultative density data, plot visualisations\n",
    "kmf_bladder_grade_event0.survival_function_\n",
    "kmf_bladder_grade_event0.cumulative_density_\n",
    "kmf_bladder_grade_event0.plot_survival_function()"
   ]
  },
  {
   "cell_type": "code",
   "execution_count": 38,
   "metadata": {
    "pycharm": {
     "name": "#%%\n"
    }
   },
   "outputs": [
    {
     "data": {
      "image/png": "[encoded data removed]",
      "text/plain": [
       "<Figure size 432x288 with 1 Axes>"
      ]
     },
     "metadata": {},
     "output_type": "display_data"
    },
    {
     "data": {
      "text/plain": [
       "<Figure size 1600x1200 with 0 Axes>"
      ]
     },
     "metadata": {},
     "output_type": "display_data"
    }
   ],
   "source": [
    "#Plot cumulatative density\n",
    "kmf_bladder_grade_event0.plot_cumulative_density()\n",
    "\n",
    "#Event 1\n",
    "kmf_bladder_grade_event1 = KaplanMeierFitter()\n",
    "kmf_bladder_grade_event1.fit(df['followup_timing'], df['bladder_grade_event1'])\n",
    "kmf_bladder_grade_event1.cumulative_density_\n",
    "kmf_bladder_grade_event1.plot_cumulative_density()\n",
    "\n",
    "#Event 2\n",
    "kmf_bladder_grade_event2 = KaplanMeierFitter()\n",
    "kmf_bladder_grade_event2.fit(df['followup_timing'], df['bladder_grade_event2'])\n",
    "kmf_bladder_grade_event2.cumulative_density_\n",
    "kmf_bladder_grade_event2.plot_cumulative_density()\n",
    "\n",
    "plt.xlabel(\"Шулуун гэдэсний гаж нөлөөний зэрэг\")\n",
    "plt.ylabel(\"Тохиолдлын магадлал\")\n",
    "plt.legend(['g-0','g-1','g-2'])\n",
    "\n",
    "figure(figsize=(20, 15), dpi=80)\n",
    "plt.show()\n",
    "\n"
   ]
  },
  {
   "cell_type": "markdown",
   "metadata": {
    "pycharm": {
     "name": "#%% md\n"
    }
   },
   "source": [
    "Kaplan Meier cumulative estimate for rect_sig_grade events"
   ]
  },
  {
   "cell_type": "code",
   "execution_count": null,
   "metadata": {
    "pycharm": {
     "name": "#%%\n"
    }
   },
   "outputs": [],
   "source": [
    "#Call fitter and fit with time and event data\n",
    "rect_sig_grade_grade_event0 = KaplanMeierFitter()\n",
    "rect_sig_grade_grade_event0.fit(df['followup_timing'], df['rect_sig_grade_event0'])\n",
    "\n",
    "#Create survival function, cumultative density data, plot visualisations\n",
    "rect_sig_grade_grade_event0.survival_function_\n",
    "rect_sig_grade_grade_event0.cumulative_density_\n",
    "rect_sig_grade_grade_event0.plot_survival_function()"
   ]
  },
  {
   "cell_type": "code",
   "execution_count": null,
   "metadata": {
    "pycharm": {
     "name": "#%%\n"
    }
   },
   "outputs": [],
   "source": [
    "#Plot cumulatative density\n",
    "rect_sig_grade_grade_event0.plot_cumulative_density()\n",
    "\n",
    "#Event 1\n",
    "rect_sig_grade_grade_event1 = KaplanMeierFitter()\n",
    "rect_sig_grade_grade_event1.fit(df['followup_timing'], df['rect_sig_grade_event1'])\n",
    "rect_sig_grade_grade_event1.cumulative_density_\n",
    "rect_sig_grade_grade_event1.plot_cumulative_density()\n",
    "\n",
    "#Event 2\n",
    "rect_sig_grade_grade_event2 = KaplanMeierFitter()\n",
    "rect_sig_grade_grade_event2.fit(df['followup_timing'], df['rect_sig_grade_event2'])\n",
    "rect_sig_grade_grade_event2.cumulative_density_\n",
    "rect_sig_grade_grade_event2.plot_cumulative_density()\n",
    "\n",
    "plt.title(\"Kaplan Meier cumulative estimate for rect_sig_grade\")\n",
    "plt.xlabel(\"Follow-up timeline\")\n",
    "plt.ylabel(\"Probability of event\")\n",
    "plt.legend(['g-0','','g-1','','g-2',''])\n",
    "plt.show()\n",
    "\n"
   ]
  }
 ],
 "metadata": {
  "kernelspec": {
   "display_name": "Python 3",
   "language": "python",
   "name": "python3"
  },
  "language_info": {
   "codemirror_mode": {
    "name": "ipython",
    "version": 3
   },
   "file_extension": ".py",
   "mimetype": "text/x-python",
   "name": "python",
   "nbconvert_exporter": "python",
   "pygments_lexer": "ipython3",
   "version": "3.8.8"
  }
 },
 "nbformat": 4,
 "nbformat_minor": 1
}