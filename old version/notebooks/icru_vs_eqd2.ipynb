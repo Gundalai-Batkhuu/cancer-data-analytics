{
 "cells": [
  {
   "cell_type": "code",
   "execution_count": 8,
   "metadata": {
    "pycharm": {
     "name": "#%%\n"
    }
   },
   "outputs": [],
   "source": [
    "import pandas as pd\n",
    "import matplotlib.pyplot as plt\n",
    "import seaborn as sns\n",
    "import numpy as np\n",
    "sns.set_style('whitegrid')\n",
    "import statsmodels.api as sm\n",
    "%matplotlib inline\n",
    "pd.set_option('display.max_rows', None)\n",
    "import scipy.stats as stats\n",
    "from scipy.stats import shapiro\n",
    "import copy\n",
    "import statsmodels.stats.api as sms\n",
    "from scipy.stats import wilcoxon\n",
    "from matplotlib.pyplot import figure"
   ]
  },
  {
   "cell_type": "markdown",
   "metadata": {},
   "source": [
    "## Importing data"
   ]
  },
  {
   "cell_type": "code",
   "execution_count": 9,
   "metadata": {
    "pycharm": {
     "name": "#%%\n"
    }
   },
   "outputs": [],
   "source": [
    "# Importing data\n",
    "\n",
    "diagnosis = pd.read_csv(r\"C:\\Users\\gdbt0\\OneDrive\\Documents\\GitHub\\Projects\\cancer\\data\\interim\\diagnosis.csv\")\n",
    "late_morbidity = pd.read_csv(r\"C:\\Users\\gdbt0\\OneDrive\\Documents\\GitHub\\Projects\\cancer\\data\\interim\\late morbidity.csv\")\n",
    "external_radiotherapy = pd.read_csv(r\"C:\\Users\\gdbt0\\OneDrive\\Documents\\GitHub\\Projects\\cancer\\data\\interim\\external beam radiotherapy.csv\")\n",
    "brachytherapy = pd.read_csv(r\"C:\\Users\\gdbt0\\OneDrive\\Documents\\GitHub\\Projects\\cancer\\data\\interim\\brachytherapy.csv\")\n",
    "response_status = pd.read_csv(r\"C:\\Users\\gdbt0\\OneDrive\\Documents\\GitHub\\Projects\\cancer\\data\\interim\\response status.csv\")\n",
    "\n",
    "# Merging datasets\n",
    "pre_df = diagnosis.merge(late_morbidity,on='id').merge(external_radiotherapy, on='id').merge(brachytherapy, on='id').merge(response_status, on='id')\n"
   ]
  },
  {
   "cell_type": "code",
   "execution_count": 10,
   "metadata": {
    "pycharm": {
     "name": "#%%\n"
    }
   },
   "outputs": [
    {
     "name": "stdout",
     "output_type": "stream",
     "text": [
      "<class 'pandas.core.frame.DataFrame'>\n",
      "Int64Index: 44 entries, 3 to 83\n",
      "Data columns (total 11 columns):\n",
      " #   Column                       Non-Null Count  Dtype  \n",
      "---  ------                       --------------  -----  \n",
      " 0   id                           44 non-null     int64  \n",
      " 1   icru_bladder                 44 non-null     float64\n",
      " 2   icru_rectum                  44 non-null     float64\n",
      " 3   eqd2_bladder                 44 non-null     float64\n",
      " 4   eqd2_rectum                  44 non-null     float64\n",
      " 5   hrctv_volume                 44 non-null     float64\n",
      " 6   eqd2_total_dose              44 non-null     float64\n",
      " 7   late_response_status         44 non-null     object \n",
      " 8   total_days                   44 non-null     float64\n",
      " 9   late_response_status_binary  44 non-null     int64  \n",
      " 10  T                            44 non-null     object \n",
      "dtypes: float64(7), int64(2), object(2)\n",
      "memory usage: 4.1+ KB\n"
     ]
    }
   ],
   "source": [
    "df = pre_df[['id','icru_bladder','icru_rectum','eqd2_bladder','eqd2_rectum','hrctv_volume','eqd2_total_dose', 'late_response_status', 'total_days','late_response_status_binary','T']].copy()\n",
    "df.dropna(axis=0,inplace=True)\n",
    "df.info()"
   ]
  },
  {
   "cell_type": "markdown",
   "metadata": {
    "pycharm": {
     "name": "#%% md\n"
    }
   },
   "source": [
    "## Descriptive statistics"
   ]
  },
  {
   "cell_type": "code",
   "execution_count": 11,
   "metadata": {
    "pycharm": {
     "name": "#%%\n"
    },
    "scrolled": false
   },
   "outputs": [
    {
     "data": {
      "text/plain": "               id  icru_bladder  icru_rectum  eqd2_bladder  eqd2_rectum  \\\ncount   44.000000     44.000000    44.000000     44.000000    44.000000   \nmean   147.045455     64.695455    66.175000     75.429545    61.172727   \nstd     21.743702      8.928005     7.288542      8.509791     6.125902   \nmin    104.000000     51.500000    54.000000     54.200000    48.900000   \n25%    131.750000     57.975000    61.575000     71.575000    56.975000   \n50%    147.500000     63.200000    64.800000     77.500000    60.500000   \n75%    164.500000     67.950000    72.450000     81.000000    65.475000   \nmax    184.000000     90.400000    84.100000     89.100000    75.100000   \n\n       hrctv_volume  eqd2_total_dose  total_days  late_response_status_binary  \ncount     44.000000        44.000000   44.000000                    44.000000  \nmean      28.765909        85.613636   62.045455                     0.840909  \nstd        9.447848         2.034424   15.104219                     0.369989  \nmin       10.500000        80.700000   44.000000                     0.000000  \n25%       23.725000        84.450000   52.000000                     1.000000  \n50%       27.100000        85.800000   57.000000                     1.000000  \n75%       33.925000        86.400000   65.000000                     1.000000  \nmax       65.900000        89.900000  103.000000                     1.000000  ",
      "text/html": "<div>\n<style scoped>\n    .dataframe tbody tr th:only-of-type {\n        vertical-align: middle;\n    }\n\n    .dataframe tbody tr th {\n        vertical-align: top;\n    }\n\n    .dataframe thead th {\n        text-align: right;\n    }\n</style>\n<table border=\"1\" class=\"dataframe\">\n  <thead>\n    <tr style=\"text-align: right;\">\n      <th></th>\n      <th>id</th>\n      <th>icru_bladder</th>\n      <th>icru_rectum</th>\n      <th>eqd2_bladder</th>\n      <th>eqd2_rectum</th>\n      <th>hrctv_volume</th>\n      <th>eqd2_total_dose</th>\n      <th>total_days</th>\n      <th>late_response_status_binary</th>\n    </tr>\n  </thead>\n  <tbody>\n    <tr>\n      <th>count</th>\n      <td>44.000000</td>\n      <td>44.000000</td>\n      <td>44.000000</td>\n      <td>44.000000</td>\n      <td>44.000000</td>\n      <td>44.000000</td>\n      <td>44.000000</td>\n      <td>44.000000</td>\n      <td>44.000000</td>\n    </tr>\n    <tr>\n      <th>mean</th>\n      <td>147.045455</td>\n      <td>64.695455</td>\n      <td>66.175000</td>\n      <td>75.429545</td>\n      <td>61.172727</td>\n      <td>28.765909</td>\n      <td>85.613636</td>\n      <td>62.045455</td>\n      <td>0.840909</td>\n    </tr>\n    <tr>\n      <th>std</th>\n      <td>21.743702</td>\n      <td>8.928005</td>\n      <td>7.288542</td>\n      <td>8.509791</td>\n      <td>6.125902</td>\n      <td>9.447848</td>\n      <td>2.034424</td>\n      <td>15.104219</td>\n      <td>0.369989</td>\n    </tr>\n    <tr>\n      <th>min</th>\n      <td>104.000000</td>\n      <td>51.500000</td>\n      <td>54.000000</td>\n      <td>54.200000</td>\n      <td>48.900000</td>\n      <td>10.500000</td>\n      <td>80.700000</td>\n      <td>44.000000</td>\n      <td>0.000000</td>\n    </tr>\n    <tr>\n      <th>25%</th>\n      <td>131.750000</td>\n      <td>57.975000</td>\n      <td>61.575000</td>\n      <td>71.575000</td>\n      <td>56.975000</td>\n      <td>23.725000</td>\n      <td>84.450000</td>\n      <td>52.000000</td>\n      <td>1.000000</td>\n    </tr>\n    <tr>\n      <th>50%</th>\n      <td>147.500000</td>\n      <td>63.200000</td>\n      <td>64.800000</td>\n      <td>77.500000</td>\n      <td>60.500000</td>\n      <td>27.100000</td>\n      <td>85.800000</td>\n      <td>57.000000</td>\n      <td>1.000000</td>\n    </tr>\n    <tr>\n      <th>75%</th>\n      <td>164.500000</td>\n      <td>67.950000</td>\n      <td>72.450000</td>\n      <td>81.000000</td>\n      <td>65.475000</td>\n      <td>33.925000</td>\n      <td>86.400000</td>\n      <td>65.000000</td>\n      <td>1.000000</td>\n    </tr>\n    <tr>\n      <th>max</th>\n      <td>184.000000</td>\n      <td>90.400000</td>\n      <td>84.100000</td>\n      <td>89.100000</td>\n      <td>75.100000</td>\n      <td>65.900000</td>\n      <td>89.900000</td>\n      <td>103.000000</td>\n      <td>1.000000</td>\n    </tr>\n  </tbody>\n</table>\n</div>"
     },
     "execution_count": 11,
     "metadata": {},
     "output_type": "execute_result"
    }
   ],
   "source": [
    "df.describe()"
   ]
  },
  {
   "cell_type": "code",
   "execution_count": 12,
   "metadata": {},
   "outputs": [
    {
     "data": {
      "text/plain": "(72.84233242156101, 78.01675848752988)"
     },
     "execution_count": 12,
     "metadata": {},
     "output_type": "execute_result"
    }
   ],
   "source": [
    "#create 95% confidence interval for population mean weight\n",
    "data = df['eqd2_bladder']\n",
    "stats.t.interval(alpha=0.95, df=len(data)-1, loc=np.mean(data), scale=stats.sem(data)) \n",
    "\n"
   ]
  },
  {
   "cell_type": "code",
   "execution_count": 13,
   "metadata": {
    "pycharm": {
     "name": "#%%\n"
    },
    "scrolled": true
   },
   "outputs": [
    {
     "data": {
      "text/plain": "<AxesSubplot:xlabel='icru_bladder', ylabel='Count'>"
     },
     "execution_count": 13,
     "metadata": {},
     "output_type": "execute_result"
    },
    {
     "data": {
      "text/plain": "<Figure size 432x288 with 1 Axes>",
      "image/png": "[encoded data removed]"
     },
     "metadata": {
      "needs_background": "light"
     },
     "output_type": "display_data"
    }
   ],
   "source": [
    "sns.histplot(df['icru_bladder'],kde=True,bins=15)"
   ]
  },
  {
   "cell_type": "code",
   "execution_count": 14,
   "metadata": {
    "pycharm": {
     "name": "#%%\n"
    }
   },
   "outputs": [
    {
     "name": "stdout",
     "output_type": "stream",
     "text": [
      "Testing values of icru_bladder for normality using the Shapiro-Wilk test.\n",
      "The test statistic is: 0.9120767116546631. The p_value is: 0.002614009426906705.\n",
      "H0 = The sample comes from a normal distribution.\n",
      "HA = The sample is not coming from normal distribution.\n",
      "The alpha is: 0.05\n",
      "The null hypothesis can be rejected because the p value is less than alpha.\n"
     ]
    }
   ],
   "source": [
    "#Testing for normality\n",
    "alpha = 0.05\n",
    "icru_bladder=df['icru_bladder']\n",
    "icru_bladder.dropna(inplace=True)\n",
    "statistic,p_value = shapiro(icru_bladder)\n",
    "print (\"Testing values of icru_bladder for normality using the Shapiro-Wilk test.\"+\"\\nThe test statistic is: {}. The p_value is: {}.\".format(statistic,p_value))\n",
    "print(\"H0 = The sample comes from a normal distribution.\"+\"\\nHA = The sample is not coming from normal distribution.\"+\"\\nThe alpha is: 0.05\")\n",
    "if p_value < alpha:\n",
    "    print(\"The null hypothesis can be rejected because the p value is less than alpha.\")\n",
    "else:\n",
    "    print(\"The null hypothesis cannot be rejected because the p value is more than alpha.\")"
   ]
  },
  {
   "cell_type": "code",
   "execution_count": 15,
   "metadata": {
    "pycharm": {
     "name": "#%%\n"
    }
   },
   "outputs": [
    {
     "data": {
      "text/plain": "<AxesSubplot:xlabel='eqd2_bladder', ylabel='Count'>"
     },
     "execution_count": 15,
     "metadata": {},
     "output_type": "execute_result"
    },
    {
     "data": {
      "text/plain": "<Figure size 432x288 with 1 Axes>",
      "image/png": "[encoded data removed]"
     },
     "metadata": {
      "needs_background": "light"
     },
     "output_type": "display_data"
    }
   ],
   "source": [
    "sns.histplot(df['eqd2_bladder'],kde=True,bins=15)"
   ]
  },
  {
   "cell_type": "code",
   "execution_count": 16,
   "metadata": {
    "pycharm": {
     "name": "#%%\n"
    }
   },
   "outputs": [
    {
     "name": "stdout",
     "output_type": "stream",
     "text": [
      "Testing values of eqd2_bladder for normality using the Shapiro-Wilk test.\n",
      "The test statistic is: 0.9331147074699402. The p_value is: 0.013421189971268177.\n",
      "H0 = The sample comes from a normal distribution.\n",
      "HA = The sample is not coming from normal distribution.\n",
      "The alpha is: 0.05\n",
      "The null hypothesis can be rejected because the p value is less than alpha.\n"
     ]
    }
   ],
   "source": [
    "#Testing for normality\n",
    "alpha = 0.05\n",
    "eqd2_bladder=df['eqd2_bladder']\n",
    "eqd2_bladder.dropna(inplace=True)\n",
    "statistic,p_value = shapiro(eqd2_bladder)\n",
    "print (\"Testing values of eqd2_bladder for normality using the Shapiro-Wilk test.\"+\"\\nThe test statistic is: {}. The p_value is: {}.\".format(statistic,p_value))\n",
    "print(\"H0 = The sample comes from a normal distribution.\"+\"\\nHA = The sample is not coming from normal distribution.\"+\"\\nThe alpha is: 0.05\")\n",
    "if p_value < alpha:\n",
    "    print(\"The null hypothesis can be rejected because the p value is less than alpha.\")\n",
    "else:\n",
    "    print(\"The null hypothesis cannot be rejected because the p value is more than alpha.\")"
   ]
  },
  {
   "cell_type": "code",
   "execution_count": 17,
   "metadata": {
    "pycharm": {
     "name": "#%%\n"
    }
   },
   "outputs": [
    {
     "data": {
      "text/plain": "<AxesSubplot:xlabel='icru_rectum', ylabel='Count'>"
     },
     "execution_count": 17,
     "metadata": {},
     "output_type": "execute_result"
    },
    {
     "data": {
      "text/plain": "<Figure size 432x288 with 1 Axes>",
      "image/png": "[encoded data removed]"
     },
     "metadata": {
      "needs_background": "light"
     },
     "output_type": "display_data"
    }
   ],
   "source": [
    "sns.histplot(df['icru_rectum'],kde=True,bins=15)"
   ]
  },
  {
   "cell_type": "code",
   "execution_count": 18,
   "metadata": {
    "pycharm": {
     "name": "#%%\n"
    }
   },
   "outputs": [
    {
     "name": "stdout",
     "output_type": "stream",
     "text": [
      "Testing values of icru_bladder for normality using the Shapiro-Wilk test.\n",
      "The test statistic is: 0.9667508602142334. The p_value is: 0.23133273422718048.\n",
      "H0 = The sample comes from a normal distribution.\n",
      "HA = The sample is not coming from normal distribution.\n",
      "The alpha is: 0.05\n",
      "The null hypothesis cannot be rejected because the p value is more than alpha.\n"
     ]
    }
   ],
   "source": [
    "#Testing for normality\n",
    "alpha = 0.05\n",
    "icru_rectum=df['icru_rectum']\n",
    "icru_rectum.dropna(inplace=True)\n",
    "statistic,p_value = shapiro(icru_rectum)\n",
    "print (\"Testing values of icru_bladder for normality using the Shapiro-Wilk test.\"+\"\\nThe test statistic is: {}. The p_value is: {}.\".format(statistic,p_value))\n",
    "print(\"H0 = The sample comes from a normal distribution.\"+\"\\nHA = The sample is not coming from normal distribution.\"+\"\\nThe alpha is: 0.05\")\n",
    "if p_value < alpha:\n",
    "    print(\"The null hypothesis can be rejected because the p value is less than alpha.\")\n",
    "else:\n",
    "    print(\"The null hypothesis cannot be rejected because the p value is more than alpha.\")"
   ]
  },
  {
   "cell_type": "code",
   "execution_count": 19,
   "metadata": {
    "pycharm": {
     "name": "#%%\n"
    }
   },
   "outputs": [
    {
     "data": {
      "text/plain": "<AxesSubplot:xlabel='eqd2_rectum', ylabel='Count'>"
     },
     "execution_count": 19,
     "metadata": {},
     "output_type": "execute_result"
    },
    {
     "data": {
      "text/plain": "<Figure size 432x288 with 1 Axes>",
      "image/png": "[encoded data removed]"
     },
     "metadata": {
      "needs_background": "light"
     },
     "output_type": "display_data"
    }
   ],
   "source": [
    "sns.histplot(df['eqd2_rectum'],kde=True,bins=15)"
   ]
  },
  {
   "cell_type": "code",
   "execution_count": 20,
   "metadata": {
    "pycharm": {
     "name": "#%%\n"
    }
   },
   "outputs": [
    {
     "name": "stdout",
     "output_type": "stream",
     "text": [
      "Testing values of icru_bladder for normality using the Shapiro-Wilk test.\n",
      "The test statistic is: 0.9741008281707764. The p_value is: 0.41850417852401733.\n",
      "H0 = The sample comes from a normal distribution.\n",
      "HA = The sample is not coming from normal distribution.\n",
      "The alpha is: 0.05\n",
      "The null hypothesis cannot be rejected because the p value is more than alpha.\n"
     ]
    }
   ],
   "source": [
    "#Testing for normality\n",
    "alpha = 0.05\n",
    "eqd2_rectum=df['eqd2_rectum']\n",
    "eqd2_rectum.dropna(inplace=True)\n",
    "statistic,p_value = shapiro(eqd2_rectum)\n",
    "print (\"Testing values of icru_bladder for normality using the Shapiro-Wilk test.\"+\"\\nThe test statistic is: {}. The p_value is: {}.\".format(statistic,p_value))\n",
    "print(\"H0 = The sample comes from a normal distribution.\"+\"\\nHA = The sample is not coming from normal distribution.\"+\"\\nThe alpha is: 0.05\")\n",
    "if p_value < alpha:\n",
    "    print(\"The null hypothesis can be rejected because the p value is less than alpha.\")\n",
    "else:\n",
    "    print(\"The null hypothesis cannot be rejected because the p value is more than alpha.\")"
   ]
  },
  {
   "cell_type": "markdown",
   "metadata": {
    "pycharm": {
     "name": "#%% md\n"
    }
   },
   "source": [
    "### Paired T-test between icru_rectum and eqd2_rectum"
   ]
  },
  {
   "cell_type": "code",
   "execution_count": 21,
   "metadata": {
    "pycharm": {
     "name": "#%%\n"
    }
   },
   "outputs": [
    {
     "data": {
      "text/plain": "<Figure size 1600x800 with 0 Axes>"
     },
     "execution_count": 21,
     "metadata": {},
     "output_type": "execute_result"
    },
    {
     "data": {
      "text/plain": "<Figure size 432x288 with 1 Axes>",
      "image/png": "[encoded data removed]"
     },
     "metadata": {
      "needs_background": "light"
     },
     "output_type": "display_data"
    },
    {
     "data": {
      "text/plain": "<Figure size 1600x800 with 0 Axes>"
     },
     "metadata": {},
     "output_type": "display_data"
    }
   ],
   "source": [
    "sns.histplot(df['icru_rectum'],bins=15,color='blue',label='icru_rectum')\n",
    "sns.histplot(df['eqd2_rectum'],bins=15,color='green',label='eqd2_rectum')\n",
    "plt.xlabel(\"Тун (Гр)\")\n",
    "plt.ylabel(\"Давтамж\")\n",
    "plt.legend(loc=\"upper right\")\n",
    "figure(figsize=(20, 10),dpi=80)"
   ]
  },
  {
   "cell_type": "code",
   "execution_count": 22,
   "metadata": {
    "pycharm": {
     "name": "#%%\n"
    }
   },
   "outputs": [
    {
     "name": "stderr",
     "output_type": "stream",
     "text": [
      "C:\\Users\\gdbt0\\anaconda3\\envs\\cancer\\lib\\site-packages\\seaborn\\_decorators.py:36: FutureWarning: Pass the following variable as a keyword arg: x. From version 0.12, the only valid positional argument will be `data`, and passing other arguments without an explicit keyword will result in an error or misinterpretation.\n",
      "  warnings.warn(\n"
     ]
    },
    {
     "data": {
      "text/plain": "<AxesSubplot:xlabel='icru_rectum'>"
     },
     "execution_count": 22,
     "metadata": {},
     "output_type": "execute_result"
    },
    {
     "data": {
      "text/plain": "<Figure size 432x288 with 1 Axes>",
      "image/png": "[encoded data removed]"
     },
     "metadata": {
      "needs_background": "light"
     },
     "output_type": "display_data"
    }
   ],
   "source": [
    "sns.boxplot(df['icru_rectum'],color='blue')"
   ]
  },
  {
   "cell_type": "code",
   "execution_count": 23,
   "metadata": {
    "pycharm": {
     "name": "#%%\n"
    }
   },
   "outputs": [
    {
     "name": "stderr",
     "output_type": "stream",
     "text": [
      "C:\\Users\\gdbt0\\anaconda3\\envs\\cancer\\lib\\site-packages\\seaborn\\_decorators.py:36: FutureWarning: Pass the following variable as a keyword arg: x. From version 0.12, the only valid positional argument will be `data`, and passing other arguments without an explicit keyword will result in an error or misinterpretation.\n",
      "  warnings.warn(\n"
     ]
    },
    {
     "data": {
      "text/plain": "<AxesSubplot:xlabel='eqd2_rectum'>"
     },
     "execution_count": 23,
     "metadata": {},
     "output_type": "execute_result"
    },
    {
     "data": {
      "text/plain": "<Figure size 432x288 with 1 Axes>",
      "image/png": "[encoded data removed]"
     },
     "metadata": {
      "needs_background": "light"
     },
     "output_type": "display_data"
    }
   ],
   "source": [
    "sns.boxplot(df['eqd2_rectum'],color='green')\n"
   ]
  },
  {
   "cell_type": "markdown",
   "metadata": {
    "pycharm": {
     "name": "#%% md\n"
    }
   },
   "source": [
    "Assumption 1. Independence\n",
    "\n",
    "The assumption is met because in our case, a patient belongs to only one sample.\n",
    "\n",
    "Assumption 2. Normality\n",
    "\n",
    "The assumption is met and sufficiently checked previously.\n",
    "\n",
    "Assumption 3. Homogeneity of variances\n",
    "\n",
    "We can use the following rule of thumb to determine if the variances between the two samples are equal: If the ratio of the larger variance to the smaller variance is less than 4, then we can assume the variances are approximately equal and use the two sample t-test."
   ]
  },
  {
   "cell_type": "code",
   "execution_count": 24,
   "metadata": {
    "pycharm": {
     "name": "#%%\n"
    }
   },
   "outputs": [
    {
     "name": "stdout",
     "output_type": "stream",
     "text": [
      "The ratio between two variances of sample groups are: 0.7064131834513783\n"
     ]
    }
   ],
   "source": [
    "#Checking for homogeneity of variances\n",
    "ratio = eqd2_rectum.var() / icru_rectum.var()\n",
    "print(\"The ratio between two variances of sample groups are: {}\".format(ratio))"
   ]
  },
  {
   "cell_type": "markdown",
   "metadata": {},
   "source": [
    "The ratio between two variances is 0.87 < 4. Therefore, the assumption is met.\n",
    "\n",
    "Assumption 4\n",
    "\n",
    "A two sample t-test makes the assumption that both samples were obtained using a random sampling method. It is automatically assumed.\n",
    "\n",
    "Now, let's perform the test  since all assumptions are met."
   ]
  },
  {
   "cell_type": "code",
   "execution_count": 25,
   "metadata": {
    "pycharm": {
     "name": "#%%\n"
    }
   },
   "outputs": [
    {
     "name": "stderr",
     "output_type": "stream",
     "text": [
      "C:\\Users\\gdbt0\\anaconda3\\envs\\cancer\\lib\\site-packages\\pandas\\util\\_decorators.py:311: SettingWithCopyWarning: \n",
      "A value is trying to be set on a copy of a slice from a DataFrame\n",
      "\n",
      "See the caveats in the documentation: https://pandas.pydata.org/pandas-docs/stable/user_guide/indexing.html#returning-a-view-versus-a-copy\n",
      "  return func(*args, **kwargs)\n"
     ]
    }
   ],
   "source": [
    "rectum = df[['icru_rectum', 'eqd2_rectum']]\n",
    "rectum.dropna(axis=0,inplace=True)"
   ]
  },
  {
   "cell_type": "code",
   "execution_count": 26,
   "metadata": {
    "pycharm": {
     "name": "#%%\n"
    }
   },
   "outputs": [
    {
     "name": "stdout",
     "output_type": "stream",
     "text": [
      "Testing values of icru_rectum and eqd2_rectum if the two population means are equal.\n",
      "The test statistic is: 4.7634073286770535. The p_value is: 2.1882923027524152e-05.\n",
      "H0 = The two population means are equal.\n",
      "HA = The two population means are not equal.\n",
      "The alpha is: 0.05\n",
      "The null hypothesis can be rejected because the p value is less than alpha.\n"
     ]
    }
   ],
   "source": [
    "alpha = 0.05\n",
    "statistic,p_value = stats.ttest_rel(rectum['icru_rectum'], rectum['eqd2_rectum'] )\n",
    "print (\"Testing values of icru_rectum and eqd2_rectum if the two population means are equal.\"+\"\\nThe test statistic is: {}. The p_value is: {}.\".format(statistic,p_value))\n",
    "print(\"H0 = The two population means are equal.\"+\"\\nHA = The two population means are not equal.\"+\"\\nThe alpha is: 0.05\")\n",
    "if p_value < alpha:\n",
    "    print(\"The null hypothesis can be rejected because the p value is less than alpha.\")\n",
    "else:\n",
    "    print(\"The null hypothesis cannot be rejected because the p value is more than alpha.\")"
   ]
  },
  {
   "cell_type": "markdown",
   "metadata": {
    "pycharm": {
     "name": "#%% md\n"
    }
   },
   "source": [
    "The results of the paired t-test show that we have sufficient evidence to say that the mean values of icru_rectum and eqd2_rectum are different. '\n",
    "\n",
    "Now, we perform one-tailed version of the paired t-test to test whether values of eqd2_rectum are less than the values of icru_rectum."
   ]
  },
  {
   "cell_type": "code",
   "execution_count": 27,
   "metadata": {
    "pycharm": {
     "name": "#%%\n"
    }
   },
   "outputs": [
    {
     "name": "stdout",
     "output_type": "stream",
     "text": [
      "Testing values of icru_rectum and eqd2_rectum if the two population means are equal.\n",
      "The test statistic is: 4.7634073286770535. The p_value is: 1.0941461513762076e-05.\n",
      "H0 = The two population means are equal.\n",
      "HA = The population mean of icru_rectum is greater than eqd2_rectum.\n",
      "The alpha is: 0.05\n",
      "The null hypothesis can be rejected because the p value is less than alpha.\n"
     ]
    }
   ],
   "source": [
    "alpha = 0.05\n",
    "statistic,p_value = stats.ttest_rel(rectum['icru_rectum'], rectum['eqd2_rectum'], alternative='greater' )\n",
    "print (\"Testing values of icru_rectum and eqd2_rectum if the two population means are equal.\"+\"\\nThe test statistic is: {}. The p_value is: {}.\".format(statistic,p_value))\n",
    "print(\"H0 = The two population means are equal.\"+\"\\nHA = The population mean of icru_rectum is greater than eqd2_rectum.\"+\"\\nThe alpha is: 0.05\")\n",
    "if p_value < alpha:\n",
    "    print(\"The null hypothesis can be rejected because the p value is less than alpha.\")\n",
    "else:\n",
    "    print(\"The null hypothesis cannot be rejected because the p value is more than alpha.\")"
   ]
  },
  {
   "cell_type": "markdown",
   "metadata": {
    "pycharm": {
     "name": "#%% md\n"
    }
   },
   "source": [
    "Finding 95 percent confidence interval for the difference of means of icru_rectum and eqd2_rectum"
   ]
  },
  {
   "cell_type": "code",
   "execution_count": 28,
   "metadata": {
    "pycharm": {
     "name": "#%%\n"
    }
   },
   "outputs": [
    {
     "name": "stdout",
     "output_type": "stream",
     "text": [
      "(2.148900395170435, 7.85564505937503)\n"
     ]
    }
   ],
   "source": [
    "cm = sms.CompareMeans(sms.DescrStatsW(rectum['icru_rectum']), sms.DescrStatsW(rectum['eqd2_rectum']))\n",
    "print (cm.tconfint_diff(usevar='pooled'))"
   ]
  },
  {
   "cell_type": "code",
   "execution_count": 29,
   "metadata": {},
   "outputs": [
    {
     "name": "stdout",
     "output_type": "stream",
     "text": [
      "5.002272727272732\n"
     ]
    }
   ],
   "source": [
    "mean_diff = rectum['icru_rectum'].mean() - rectum['eqd2_rectum'].mean()\n",
    "print(mean_diff)"
   ]
  },
  {
   "cell_type": "code",
   "execution_count": 30,
   "metadata": {
    "pycharm": {
     "name": "#%%\n"
    },
    "scrolled": true
   },
   "outputs": [
    {
     "data": {
      "text/plain": "<class 'statsmodels.iolib.table.SimpleTable'>",
      "text/html": "<table class=\"simpletable\">\n<caption>Test for equality of means</caption>\n<tr>\n      <td></td>         <th>coef</th>     <th>std err</th>      <th>t</th>      <th>P>|t|</th>  <th>[0.025</th>    <th>0.975]</th>  \n</tr>\n<tr>\n  <th>subset #1</th> <td>    5.0023</td> <td>    1.435</td> <td>    3.485</td> <td> 0.001</td> <td>    2.149</td> <td>    7.856</td>\n</tr>\n</table>"
     },
     "execution_count": 30,
     "metadata": {},
     "output_type": "execute_result"
    }
   ],
   "source": [
    "cm.summary()"
   ]
  },
  {
   "cell_type": "code",
   "execution_count": 31,
   "metadata": {},
   "outputs": [],
   "source": [
    "rectum_diff = rectum['icru_rectum'] - rectum['eqd2_rectum']"
   ]
  },
  {
   "cell_type": "code",
   "execution_count": 32,
   "metadata": {},
   "outputs": [
    {
     "data": {
      "text/plain": "count    44.000000\nmean      5.002273\nstd       6.965880\nmin      -7.900000\n25%       1.200000\n50%       4.050000\n75%       8.825000\nmax      26.700000\ndtype: float64"
     },
     "execution_count": 32,
     "metadata": {},
     "output_type": "execute_result"
    }
   ],
   "source": [
    "rectum_diff.describe()"
   ]
  },
  {
   "cell_type": "code",
   "execution_count": 33,
   "metadata": {},
   "outputs": [
    {
     "data": {
      "text/plain": "<AxesSubplot:ylabel='Count'>"
     },
     "execution_count": 33,
     "metadata": {},
     "output_type": "execute_result"
    },
    {
     "data": {
      "text/plain": "<Figure size 432x288 with 1 Axes>",
      "image/png": "[encoded data removed]"
     },
     "metadata": {
      "needs_background": "light"
     },
     "output_type": "display_data"
    }
   ],
   "source": [
    "sns.histplot(rectum_diff)"
   ]
  },
  {
   "cell_type": "markdown",
   "metadata": {
    "pycharm": {
     "name": "#%% md\n"
    }
   },
   "source": [
    "### Paired T-test between icru_bladder and eqd2_bladder"
   ]
  },
  {
   "cell_type": "code",
   "execution_count": 34,
   "metadata": {
    "pycharm": {
     "name": "#%%\n"
    }
   },
   "outputs": [
    {
     "data": {
      "text/plain": "<Figure size 1600x800 with 0 Axes>"
     },
     "execution_count": 34,
     "metadata": {},
     "output_type": "execute_result"
    },
    {
     "data": {
      "text/plain": "<Figure size 432x288 with 1 Axes>",
      "image/png": "[encoded data removed]"
     },
     "metadata": {
      "needs_background": "light"
     },
     "output_type": "display_data"
    },
    {
     "data": {
      "text/plain": "<Figure size 1600x800 with 0 Axes>"
     },
     "metadata": {},
     "output_type": "display_data"
    }
   ],
   "source": [
    "sns.histplot(df['icru_bladder'],bins=15,color='blue',label='icru_bladder')\n",
    "sns.histplot(df['eqd2_bladder'],bins=15,color='green',label='eqd2_bladder')\n",
    "plt.xlabel(\"Тун (Гр)\")\n",
    "plt.ylabel(\"Давтамж\")\n",
    "plt.legend(loc=\"upper right\")\n",
    "figure(figsize=(20, 10),dpi=80)"
   ]
  },
  {
   "cell_type": "code",
   "execution_count": 35,
   "metadata": {
    "pycharm": {
     "name": "#%%\n"
    }
   },
   "outputs": [
    {
     "name": "stderr",
     "output_type": "stream",
     "text": [
      "C:\\Users\\gdbt0\\anaconda3\\envs\\cancer\\lib\\site-packages\\seaborn\\_decorators.py:36: FutureWarning: Pass the following variable as a keyword arg: x. From version 0.12, the only valid positional argument will be `data`, and passing other arguments without an explicit keyword will result in an error or misinterpretation.\n",
      "  warnings.warn(\n"
     ]
    },
    {
     "data": {
      "text/plain": "<AxesSubplot:xlabel='icru_bladder'>"
     },
     "execution_count": 35,
     "metadata": {},
     "output_type": "execute_result"
    },
    {
     "data": {
      "text/plain": "<Figure size 432x288 with 1 Axes>",
      "image/png": "[encoded data removed]"
     },
     "metadata": {
      "needs_background": "light"
     },
     "output_type": "display_data"
    }
   ],
   "source": [
    "sns.boxplot(df['icru_bladder'],color='blue')"
   ]
  },
  {
   "cell_type": "code",
   "execution_count": 36,
   "metadata": {
    "pycharm": {
     "name": "#%%\n"
    }
   },
   "outputs": [
    {
     "name": "stderr",
     "output_type": "stream",
     "text": [
      "C:\\Users\\gdbt0\\anaconda3\\envs\\cancer\\lib\\site-packages\\seaborn\\_decorators.py:36: FutureWarning: Pass the following variable as a keyword arg: x. From version 0.12, the only valid positional argument will be `data`, and passing other arguments without an explicit keyword will result in an error or misinterpretation.\n",
      "  warnings.warn(\n"
     ]
    },
    {
     "data": {
      "text/plain": "<AxesSubplot:xlabel='eqd2_bladder'>"
     },
     "execution_count": 36,
     "metadata": {},
     "output_type": "execute_result"
    },
    {
     "data": {
      "text/plain": "<Figure size 432x288 with 1 Axes>",
      "image/png": "[encoded data removed]"
     },
     "metadata": {
      "needs_background": "light"
     },
     "output_type": "display_data"
    }
   ],
   "source": [
    "sns.boxplot(df['eqd2_bladder'],color='green')\n"
   ]
  },
  {
   "cell_type": "markdown",
   "metadata": {},
   "source": [
    "Assumption 1. Independence\n",
    "\n",
    "The assumption is met because in our case, a patient belongs to only one sample.\n",
    "\n",
    "Assumption 2. Normality\n",
    "\n",
    "The assumption is met and sufficiently checked previously.\n",
    "\n",
    "Assumption 3. Homogeneity of variances\n",
    "\n",
    "We can use the following rule of thumb to determine if the variances between the two samples are equal: If the ratio of the larger variance to the smaller variance is less than 4, then we can assume the variances are approximately equal and use the two sample t-test."
   ]
  },
  {
   "cell_type": "code",
   "execution_count": 37,
   "metadata": {
    "pycharm": {
     "name": "#%%\n"
    }
   },
   "outputs": [
    {
     "name": "stdout",
     "output_type": "stream",
     "text": [
      "The ratio between two variances of sample groups are: 0.908508363771199\n"
     ]
    }
   ],
   "source": [
    "#Checking for homogeneity of variances\n",
    "ratio = eqd2_bladder.var() / icru_bladder.var()\n",
    "print(\"The ratio between two variances of sample groups are: {}\".format(ratio))"
   ]
  },
  {
   "cell_type": "markdown",
   "metadata": {},
   "source": [
    "The ratio between two variances is 0.998 < 4. Therefore, the assumption is met.\n",
    "\n",
    "Assumption 4\n",
    "\n",
    "A two sample t-test makes the assumption that both samples were obtained using a random sampling method. It is automatically assumed.\n",
    "\n",
    "Now, let's perform the test  since all assumptions are met."
   ]
  },
  {
   "cell_type": "code",
   "execution_count": 38,
   "metadata": {
    "pycharm": {
     "name": "#%%\n"
    }
   },
   "outputs": [
    {
     "name": "stderr",
     "output_type": "stream",
     "text": [
      "C:\\Users\\gdbt0\\anaconda3\\envs\\cancer\\lib\\site-packages\\pandas\\util\\_decorators.py:311: SettingWithCopyWarning: \n",
      "A value is trying to be set on a copy of a slice from a DataFrame\n",
      "\n",
      "See the caveats in the documentation: https://pandas.pydata.org/pandas-docs/stable/user_guide/indexing.html#returning-a-view-versus-a-copy\n",
      "  return func(*args, **kwargs)\n"
     ]
    }
   ],
   "source": [
    "bladder = df[['icru_bladder', 'eqd2_bladder']]\n",
    "bladder.dropna(axis=0,inplace=True)"
   ]
  },
  {
   "cell_type": "code",
   "execution_count": 39,
   "metadata": {
    "pycharm": {
     "name": "#%%\n"
    }
   },
   "outputs": [
    {
     "name": "stdout",
     "output_type": "stream",
     "text": [
      "Testing values of icru_bladder and eqd2_bladder if the two population means are equal.\n",
      "The test statistic is: -5.96827388980907. The p_value is: 4.0662162912431585e-07.\n",
      "H0 = The two population means are equal.\n",
      "HA = The two population means are not equal.\n",
      "The alpha is: 0.05\n",
      "The null hypothesis can be rejected because the p value is less than alpha.\n"
     ]
    }
   ],
   "source": [
    "alpha = 0.05\n",
    "statistic,p_value = stats.ttest_rel(bladder['icru_bladder'], bladder['eqd2_bladder'] )\n",
    "print (\"Testing values of icru_bladder and eqd2_bladder if the two population means are equal.\"+\"\\nThe test statistic is: {}. The p_value is: {}.\".format(statistic,p_value))\n",
    "print(\"H0 = The two population means are equal.\"+\"\\nHA = The two population means are not equal.\"+\"\\nThe alpha is: 0.05\")\n",
    "if p_value < alpha:\n",
    "    print(\"The null hypothesis can be rejected because the p value is less than alpha.\")\n",
    "else:\n",
    "    print(\"The null hypothesis cannot be rejected because the p value is more than alpha.\")"
   ]
  },
  {
   "cell_type": "markdown",
   "metadata": {},
   "source": [
    "The results of the paired t-test show that we have sufficient evidence to say that the mean values of icru_bladder and eqd2_bladder are different. '\n",
    "\n",
    "Now, we perform one-tailed version of the paired t-test to test whether values of eqd2_bladder are less than the values of icru_bladder."
   ]
  },
  {
   "cell_type": "code",
   "execution_count": 40,
   "metadata": {
    "pycharm": {
     "name": "#%%\n"
    }
   },
   "outputs": [
    {
     "name": "stdout",
     "output_type": "stream",
     "text": [
      "Testing values of icru_bladder and eqd2_bladder if the two population means are equal.\n",
      "The test statistic is: -5.96827388980907. The p_value is: 2.0331081456215793e-07.\n",
      "H0 = The two population means are equal.\n",
      "HA = The population mean of icru_bladder is less than eqd2_bladder.\n",
      "The alpha is: 0.05\n",
      "The null hypothesis can be rejected because the p value is less than alpha.\n"
     ]
    }
   ],
   "source": [
    "alpha = 0.05\n",
    "statistic,p_value = stats.ttest_rel(bladder['icru_bladder'], bladder['eqd2_bladder'], alternative='less' )\n",
    "print (\"Testing values of icru_bladder and eqd2_bladder if the two population means are equal.\"+\"\\nThe test statistic is: {}. The p_value is: {}.\".format(statistic,p_value))\n",
    "print(\"H0 = The two population means are equal.\"+\"\\nHA = The population mean of icru_bladder is less than eqd2_bladder.\"+\"\\nThe alpha is: 0.05\")\n",
    "if p_value < alpha:\n",
    "    print(\"The null hypothesis can be rejected because the p value is less than alpha.\")\n",
    "else:\n",
    "    print(\"The null hypothesis cannot be rejected because the p value is more than alpha.\")"
   ]
  },
  {
   "cell_type": "markdown",
   "metadata": {},
   "source": [
    "Finding 95 percent confidence interval for the difference of means of icru_bladder and eqd2_bladder"
   ]
  },
  {
   "cell_type": "code",
   "execution_count": 41,
   "metadata": {
    "pycharm": {
     "name": "#%%\n"
    }
   },
   "outputs": [
    {
     "name": "stdout",
     "output_type": "stream",
     "text": [
      "(-14.430475477408006, -7.03770634077387)\n"
     ]
    }
   ],
   "source": [
    "cm = sms.CompareMeans(sms.DescrStatsW(bladder['icru_bladder']), sms.DescrStatsW(bladder['eqd2_bladder']))\n",
    "print (cm.tconfint_diff(usevar='pooled'))"
   ]
  },
  {
   "cell_type": "code",
   "execution_count": 42,
   "metadata": {},
   "outputs": [
    {
     "name": "stdout",
     "output_type": "stream",
     "text": [
      "-10.73409090909091\n"
     ]
    }
   ],
   "source": [
    "mean_diff = bladder['icru_bladder'].mean() - bladder['eqd2_bladder'].mean()\n",
    "print(mean_diff)"
   ]
  },
  {
   "cell_type": "code",
   "execution_count": 43,
   "metadata": {
    "pycharm": {
     "name": "#%%\n"
    },
    "scrolled": true
   },
   "outputs": [
    {
     "data": {
      "text/plain": "<class 'statsmodels.iolib.table.SimpleTable'>",
      "text/html": "<table class=\"simpletable\">\n<caption>Test for equality of means</caption>\n<tr>\n      <td></td>         <th>coef</th>     <th>std err</th>      <th>t</th>      <th>P>|t|</th>  <th>[0.025</th>    <th>0.975]</th>  \n</tr>\n<tr>\n  <th>subset #1</th> <td>  -10.7341</td> <td>    1.859</td> <td>   -5.773</td> <td> 0.000</td> <td>  -14.430</td> <td>   -7.038</td>\n</tr>\n</table>"
     },
     "execution_count": 43,
     "metadata": {},
     "output_type": "execute_result"
    }
   ],
   "source": [
    "cm.summary()"
   ]
  },
  {
   "cell_type": "code",
   "execution_count": 44,
   "metadata": {
    "pycharm": {
     "name": "#%%\n"
    }
   },
   "outputs": [
    {
     "name": "stdout",
     "output_type": "stream",
     "text": [
      "Testing values of icru_bladder and eqd2_bladder if the two population means are equal using Wilcoxon Signed-Rank Test.\n",
      "The test statistic is: 110.0. The p_value is: 5.846152761331987e-06.\n",
      "H0 = The two population means are equal.\n",
      "HA = The population mean of icru_bladder is less than eqd2_bladder.\n",
      "The alpha is: 0.05\n",
      "The null hypothesis can be rejected because the p value is less than alpha.\n"
     ]
    }
   ],
   "source": [
    "alpha = 0.05\n",
    "statistic,p_value = wilcoxon(bladder['icru_bladder'], bladder['eqd2_bladder'], alternative='less')\n",
    "print (\"Testing values of icru_bladder and eqd2_bladder if the two population means are equal using Wilcoxon Signed-Rank Test.\"+\"\\nThe test statistic is: {}. The p_value is: {}.\".format(statistic,p_value))\n",
    "print(\"H0 = The two population means are equal.\"+\"\\nHA = The population mean of icru_bladder is less than eqd2_bladder.\"+\"\\nThe alpha is: 0.05\")\n",
    "if p_value < alpha:\n",
    "    print(\"The null hypothesis can be rejected because the p value is less than alpha.\")\n",
    "else:\n",
    "    print(\"The null hypothesis cannot be rejected because the p value is more than alpha.\")"
   ]
  },
  {
   "cell_type": "code",
   "execution_count": 44,
   "metadata": {
    "pycharm": {
     "name": "#%%\n"
    }
   },
   "outputs": [],
   "source": []
  }
 ],
 "metadata": {
  "kernelspec": {
   "display_name": "Python 3",
   "language": "python",
   "name": "python3"
  },
  "language_info": {
   "codemirror_mode": {
    "name": "ipython",
    "version": 3
   },
   "file_extension": ".py",
   "mimetype": "text/x-python",
   "name": "python",
   "nbconvert_exporter": "python",
   "pygments_lexer": "ipython3",
   "version": "3.8.8"
  }
 },
 "nbformat": 4,
 "nbformat_minor": 1
}