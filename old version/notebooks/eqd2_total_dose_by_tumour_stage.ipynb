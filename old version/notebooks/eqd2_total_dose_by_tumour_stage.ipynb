{
 "cells": [
  {
   "cell_type": "markdown",
   "source": [
    "# Descriptive analysis of eqd2_total_dose values categorised by tumour stage\n",
    "\n",
    "In this notebook, we're analysing values of eqd2_total_dose of the research group. First, we will generate descriptive statistics of eqd2_total_dose values and visualise it. Then, we will categorise the eqd2_total_dose data by tumour stages 2B and 3B's and create subgroups. We will analyse and compare the subgroups by their descriptive statistics.\n"
   ],
   "metadata": {
    "collapsed": false
   }
  },
  {
   "cell_type": "code",
   "execution_count": 1,
   "outputs": [],
   "source": [
    "#Importing packages\n",
    "import pandas as pd\n",
    "import matplotlib.pyplot as plt\n",
    "import seaborn as sns\n",
    "import numpy as np\n",
    "sns.set_style('whitegrid')\n",
    "import statsmodels.api as sm\n",
    "%matplotlib inline\n",
    "pd.set_option('display.max_rows', None)\n",
    "import scipy.stats as stats\n",
    "from scipy.stats import shapiro\n",
    "import statsmodels.stats.api as sms"
   ],
   "metadata": {
    "collapsed": false,
    "pycharm": {
     "name": "#%%\n"
    }
   }
  },
  {
   "cell_type": "code",
   "execution_count": 2,
   "outputs": [],
   "source": [
    "# Importing data\n",
    "df = pd.read_csv(r\"C:\\Users\\gdbt0\\OneDrive\\Documents\\GitHub\\Projects\\cancer\\data\\processed\\research_group.csv\")"
   ],
   "metadata": {
    "collapsed": false,
    "pycharm": {
     "name": "#%%\n"
    }
   }
  },
  {
   "cell_type": "code",
   "execution_count": 3,
   "outputs": [],
   "source": [
    "# Selecting variables eqd2_total_dose and patient id\n",
    "eqd2_total_dose = df[['id', 'eqd2_total_dose']]"
   ],
   "metadata": {
    "collapsed": false,
    "pycharm": {
     "name": "#%%\n"
    }
   }
  },
  {
   "cell_type": "code",
   "execution_count": 4,
   "outputs": [],
   "source": [
    "# Selecting eqd2_total_dose values of patients having 2B stage tumour\n",
    "eqd2_2B_total_dose = df.loc[df['T'] == '2B'][['id', 'eqd2_total_dose']]"
   ],
   "metadata": {
    "collapsed": false,
    "pycharm": {
     "name": "#%%\n"
    }
   }
  },
  {
   "cell_type": "code",
   "execution_count": 5,
   "outputs": [],
   "source": [
    "# Selecting eqd2_total_dose values of patients having 3B stage tumour\n",
    "eqd2_3B_total_dose = df.loc[df['T'] == '3B'][['id', 'eqd2_total_dose']]"
   ],
   "metadata": {
    "collapsed": false,
    "pycharm": {
     "name": "#%%\n"
    }
   }
  },
  {
   "cell_type": "markdown",
   "source": [
    "## Descriptive statistics of eqd2_total_dose\n",
    "The values of eqd2_total_dose has the following statistics."
   ],
   "metadata": {
    "collapsed": false
   }
  },
  {
   "cell_type": "code",
   "execution_count": 6,
   "outputs": [
    {
     "name": "stdout",
     "output_type": "stream",
     "text": [
      "Descriptive statistics\n"
     ]
    },
    {
     "data": {
      "text/plain": "               id  eqd2_total_dose\ncount   44.000000        44.000000\nmean   147.045455        85.613636\nstd     21.743702         2.034424\nmin    104.000000        80.700000\n25%    131.750000        84.450000\n50%    147.500000        85.800000\n75%    164.500000        86.400000\nmax    184.000000        89.900000",
      "text/html": "<div>\n<style scoped>\n    .dataframe tbody tr th:only-of-type {\n        vertical-align: middle;\n    }\n\n    .dataframe tbody tr th {\n        vertical-align: top;\n    }\n\n    .dataframe thead th {\n        text-align: right;\n    }\n</style>\n<table border=\"1\" class=\"dataframe\">\n  <thead>\n    <tr style=\"text-align: right;\">\n      <th></th>\n      <th>id</th>\n      <th>eqd2_total_dose</th>\n    </tr>\n  </thead>\n  <tbody>\n    <tr>\n      <th>count</th>\n      <td>44.000000</td>\n      <td>44.000000</td>\n    </tr>\n    <tr>\n      <th>mean</th>\n      <td>147.045455</td>\n      <td>85.613636</td>\n    </tr>\n    <tr>\n      <th>std</th>\n      <td>21.743702</td>\n      <td>2.034424</td>\n    </tr>\n    <tr>\n      <th>min</th>\n      <td>104.000000</td>\n      <td>80.700000</td>\n    </tr>\n    <tr>\n      <th>25%</th>\n      <td>131.750000</td>\n      <td>84.450000</td>\n    </tr>\n    <tr>\n      <th>50%</th>\n      <td>147.500000</td>\n      <td>85.800000</td>\n    </tr>\n    <tr>\n      <th>75%</th>\n      <td>164.500000</td>\n      <td>86.400000</td>\n    </tr>\n    <tr>\n      <th>max</th>\n      <td>184.000000</td>\n      <td>89.900000</td>\n    </tr>\n  </tbody>\n</table>\n</div>"
     },
     "execution_count": 6,
     "metadata": {},
     "output_type": "execute_result"
    }
   ],
   "source": [
    "print(\"Descriptive statistics\")\n",
    "eqd2_total_dose.describe()"
   ],
   "metadata": {
    "collapsed": false,
    "pycharm": {
     "name": "#%%\n"
    }
   }
  },
  {
   "cell_type": "code",
   "execution_count": 7,
   "outputs": [
    {
     "data": {
      "text/plain": "<AxesSubplot:xlabel='eqd2_total_dose', ylabel='Count'>"
     },
     "execution_count": 7,
     "metadata": {},
     "output_type": "execute_result"
    },
    {
     "data": {
      "text/plain": "<Figure size 432x288 with 1 Axes>",
      "image/png": "[encoded data removed]"
     },
     "metadata": {
      "needs_background": "light"
     },
     "output_type": "display_data"
    }
   ],
   "source": [
    "sns.histplot(eqd2_total_dose['eqd2_total_dose'], bins=20, kde=True)"
   ],
   "metadata": {
    "collapsed": false,
    "pycharm": {
     "name": "#%%\n"
    }
   }
  },
  {
   "cell_type": "code",
   "execution_count": 8,
   "outputs": [
    {
     "name": "stdout",
     "output_type": "stream",
     "text": [
      "95% confidence interval for the population mean value\n"
     ]
    },
    {
     "data": {
      "text/plain": "(84.99511504953715, 86.2321576777356)"
     },
     "execution_count": 8,
     "metadata": {},
     "output_type": "execute_result"
    }
   ],
   "source": [
    "print(\"95% confidence interval for the population mean value\")\n",
    "data = eqd2_total_dose['eqd2_total_dose']\n",
    "stats.t.interval(alpha=0.95, df=len(data)-1, loc=np.mean(data), scale=stats.sem(data))"
   ],
   "metadata": {
    "collapsed": false,
    "pycharm": {
     "name": "#%%\n"
    }
   }
  },
  {
   "cell_type": "markdown",
   "source": [
    "## Descriptive statistics of eqd2_total_dose of patients with 2B tumour stage"
   ],
   "metadata": {
    "collapsed": false
   }
  },
  {
   "cell_type": "code",
   "execution_count": 9,
   "outputs": [
    {
     "name": "stdout",
     "output_type": "stream",
     "text": [
      "Descriptive statistics of eqd2_total_dose values of patients at 2B stage\n"
     ]
    },
    {
     "data": {
      "text/plain": "               id  eqd2_total_dose\ncount   23.000000        23.000000\nmean   153.391304        85.565217\nstd     22.610816         2.025656\nmin    104.000000        80.700000\n25%    141.000000        84.300000\n50%    155.000000        85.800000\n75%    172.500000        86.100000\nmax    184.000000        89.900000",
      "text/html": "<div>\n<style scoped>\n    .dataframe tbody tr th:only-of-type {\n        vertical-align: middle;\n    }\n\n    .dataframe tbody tr th {\n        vertical-align: top;\n    }\n\n    .dataframe thead th {\n        text-align: right;\n    }\n</style>\n<table border=\"1\" class=\"dataframe\">\n  <thead>\n    <tr style=\"text-align: right;\">\n      <th></th>\n      <th>id</th>\n      <th>eqd2_total_dose</th>\n    </tr>\n  </thead>\n  <tbody>\n    <tr>\n      <th>count</th>\n      <td>23.000000</td>\n      <td>23.000000</td>\n    </tr>\n    <tr>\n      <th>mean</th>\n      <td>153.391304</td>\n      <td>85.565217</td>\n    </tr>\n    <tr>\n      <th>std</th>\n      <td>22.610816</td>\n      <td>2.025656</td>\n    </tr>\n    <tr>\n      <th>min</th>\n      <td>104.000000</td>\n      <td>80.700000</td>\n    </tr>\n    <tr>\n      <th>25%</th>\n      <td>141.000000</td>\n      <td>84.300000</td>\n    </tr>\n    <tr>\n      <th>50%</th>\n      <td>155.000000</td>\n      <td>85.800000</td>\n    </tr>\n    <tr>\n      <th>75%</th>\n      <td>172.500000</td>\n      <td>86.100000</td>\n    </tr>\n    <tr>\n      <th>max</th>\n      <td>184.000000</td>\n      <td>89.900000</td>\n    </tr>\n  </tbody>\n</table>\n</div>"
     },
     "execution_count": 9,
     "metadata": {},
     "output_type": "execute_result"
    }
   ],
   "source": [
    "print(\"Descriptive statistics of eqd2_total_dose values of patients at 2B stage\")\n",
    "eqd2_2B_total_dose.describe()"
   ],
   "metadata": {
    "collapsed": false,
    "pycharm": {
     "name": "#%%\n"
    }
   }
  },
  {
   "cell_type": "code",
   "execution_count": 10,
   "outputs": [
    {
     "data": {
      "text/plain": "<AxesSubplot:xlabel='eqd2_total_dose', ylabel='Count'>"
     },
     "execution_count": 10,
     "metadata": {},
     "output_type": "execute_result"
    },
    {
     "data": {
      "text/plain": "<Figure size 432x288 with 1 Axes>",
      "image/png": "[encoded data removed]"
     },
     "metadata": {
      "needs_background": "light"
     },
     "output_type": "display_data"
    }
   ],
   "source": [
    "sns.histplot(eqd2_2B_total_dose['eqd2_total_dose'], bins=20, kde=True)"
   ],
   "metadata": {
    "collapsed": false,
    "pycharm": {
     "name": "#%%\n"
    }
   }
  },
  {
   "cell_type": "code",
   "execution_count": 11,
   "outputs": [
    {
     "name": "stdout",
     "output_type": "stream",
     "text": [
      "95% confidence interval for the population mean value\n"
     ]
    },
    {
     "data": {
      "text/plain": "(84.68925822033748, 86.44117656227121)"
     },
     "execution_count": 11,
     "metadata": {},
     "output_type": "execute_result"
    }
   ],
   "source": [
    "print(\"95% confidence interval for the population mean value\")\n",
    "data = eqd2_2B_total_dose['eqd2_total_dose']\n",
    "stats.t.interval(alpha=0.95, df=len(data)-1, loc=np.mean(data), scale=stats.sem(data))"
   ],
   "metadata": {
    "collapsed": false,
    "pycharm": {
     "name": "#%%\n"
    }
   }
  },
  {
   "cell_type": "markdown",
   "source": [
    "## Descriptive statistics of eqd2_total_dose of patients with 3B tumour stage"
   ],
   "metadata": {
    "collapsed": false
   }
  },
  {
   "cell_type": "code",
   "execution_count": 12,
   "outputs": [
    {
     "name": "stdout",
     "output_type": "stream",
     "text": [
      "Descriptive statistics of eqd2_total_dose values of patients at 3B stage\n"
     ]
    },
    {
     "data": {
      "text/plain": "               id  eqd2_total_dose\ncount   16.000000        16.000000\nmean   141.687500        85.543750\nstd     20.777291         2.260374\nmin    109.000000        80.900000\n25%    127.750000        85.425000\n50%    137.500000        85.800000\n75%    158.250000        86.650000\nmax    179.000000        88.900000",
      "text/html": "<div>\n<style scoped>\n    .dataframe tbody tr th:only-of-type {\n        vertical-align: middle;\n    }\n\n    .dataframe tbody tr th {\n        vertical-align: top;\n    }\n\n    .dataframe thead th {\n        text-align: right;\n    }\n</style>\n<table border=\"1\" class=\"dataframe\">\n  <thead>\n    <tr style=\"text-align: right;\">\n      <th></th>\n      <th>id</th>\n      <th>eqd2_total_dose</th>\n    </tr>\n  </thead>\n  <tbody>\n    <tr>\n      <th>count</th>\n      <td>16.000000</td>\n      <td>16.000000</td>\n    </tr>\n    <tr>\n      <th>mean</th>\n      <td>141.687500</td>\n      <td>85.543750</td>\n    </tr>\n    <tr>\n      <th>std</th>\n      <td>20.777291</td>\n      <td>2.260374</td>\n    </tr>\n    <tr>\n      <th>min</th>\n      <td>109.000000</td>\n      <td>80.900000</td>\n    </tr>\n    <tr>\n      <th>25%</th>\n      <td>127.750000</td>\n      <td>85.425000</td>\n    </tr>\n    <tr>\n      <th>50%</th>\n      <td>137.500000</td>\n      <td>85.800000</td>\n    </tr>\n    <tr>\n      <th>75%</th>\n      <td>158.250000</td>\n      <td>86.650000</td>\n    </tr>\n    <tr>\n      <th>max</th>\n      <td>179.000000</td>\n      <td>88.900000</td>\n    </tr>\n  </tbody>\n</table>\n</div>"
     },
     "execution_count": 12,
     "metadata": {},
     "output_type": "execute_result"
    }
   ],
   "source": [
    "print(\"Descriptive statistics of eqd2_total_dose values of patients at 3B stage\")\n",
    "eqd2_3B_total_dose.describe()"
   ],
   "metadata": {
    "collapsed": false,
    "pycharm": {
     "name": "#%%\n"
    }
   }
  },
  {
   "cell_type": "code",
   "execution_count": 13,
   "outputs": [
    {
     "data": {
      "text/plain": "<AxesSubplot:xlabel='eqd2_total_dose', ylabel='Count'>"
     },
     "execution_count": 13,
     "metadata": {},
     "output_type": "execute_result"
    },
    {
     "data": {
      "text/plain": "<Figure size 432x288 with 1 Axes>",
      "image/png": "[encoded data removed]"
     },
     "metadata": {
      "needs_background": "light"
     },
     "output_type": "display_data"
    }
   ],
   "source": [
    "sns.histplot(eqd2_3B_total_dose['eqd2_total_dose'], bins=20, kde=True)"
   ],
   "metadata": {
    "collapsed": false,
    "pycharm": {
     "name": "#%%\n"
    }
   }
  },
  {
   "cell_type": "code",
   "execution_count": 14,
   "outputs": [
    {
     "name": "stdout",
     "output_type": "stream",
     "text": [
      "95% confidence interval for the population mean value\n"
     ]
    },
    {
     "data": {
      "text/plain": "(84.33928159284085, 86.74821840715916)"
     },
     "execution_count": 14,
     "metadata": {},
     "output_type": "execute_result"
    }
   ],
   "source": [
    "print(\"95% confidence interval for the population mean value\")\n",
    "data = eqd2_3B_total_dose['eqd2_total_dose']\n",
    "stats.t.interval(alpha=0.95, df=len(data)-1, loc=np.mean(data), scale=stats.sem(data))"
   ],
   "metadata": {
    "collapsed": false,
    "pycharm": {
     "name": "#%%\n"
    }
   }
  },
  {
   "cell_type": "code",
   "execution_count": 15,
   "outputs": [
    {
     "data": {
      "text/plain": "<AxesSubplot:xlabel='eqd2_total_dose', ylabel='Count'>"
     },
     "execution_count": 15,
     "metadata": {},
     "output_type": "execute_result"
    },
    {
     "data": {
      "text/plain": "<Figure size 1080x720 with 1 Axes>",
      "image/png": "[encoded data removed]"
     },
     "metadata": {
      "needs_background": "light"
     },
     "output_type": "display_data"
    }
   ],
   "source": [
    "plt.figure(figsize=(15,10))\n",
    "sns.histplot(eqd2_2B_total_dose['eqd2_total_dose'], bins=38, kde=True)\n",
    "sns.histplot(eqd2_3B_total_dose['eqd2_total_dose'], color='green', bins=30, kde=True)\n"
   ],
   "metadata": {
    "collapsed": false,
    "pycharm": {
     "name": "#%%\n"
    }
   }
  },
  {
   "cell_type": "markdown",
   "source": [
    "---\n",
    "## Comparative analysis of eqd2_total_dose values for 2B and 3B tumour stages."
   ],
   "metadata": {
    "collapsed": false
   }
  },
  {
   "cell_type": "code",
   "execution_count": 16,
   "outputs": [
    {
     "name": "stdout",
     "output_type": "stream",
     "text": [
      "Testing values of eqd2_2B_total_dose and eqd2_3B_total_dose if the two population means are equal.\n",
      "The test statistic is: -0.031047636620141286. The p_value is: 0.9753984262761872.\n",
      "H0 = The two population means are equal.\n",
      "HA = The two population means are not equal.\n",
      "The alpha is: 0.05\n",
      "The null hypothesis cannot be rejected because the p value is more than alpha.\n"
     ]
    }
   ],
   "source": [
    "# Two sample T-test for population mean equality\n",
    "alpha = 0.05\n",
    "statistic,p_value = stats.ttest_ind(eqd2_3B_total_dose['eqd2_total_dose'], eqd2_2B_total_dose['eqd2_total_dose'], equal_var=True)\n",
    "print (\"Testing values of eqd2_2B_total_dose and eqd2_3B_total_dose if the two population means are equal.\"+\"\\nThe test statistic is: {}. The p_value is: {}.\".format(statistic,p_value))\n",
    "print(\"H0 = The two population means are equal.\"+\"\\nHA = The two population means are not equal.\"+\"\\nThe alpha is: 0.05\")\n",
    "if p_value < alpha:\n",
    "    print(\"The null hypothesis can be rejected because the p value is less than alpha.\")\n",
    "else:\n",
    "    print(\"The null hypothesis cannot be rejected because the p value is more than alpha.\")"
   ],
   "metadata": {
    "collapsed": false,
    "pycharm": {
     "name": "#%%\n"
    }
   }
  },
  {
   "cell_type": "code",
   "execution_count": 17,
   "outputs": [
    {
     "name": "stdout",
     "output_type": "stream",
     "text": [
      "Testing values of eqd2_3B_total_dose for normality using the Shapiro-Wilk test.\n",
      "The test statistic is: 0.8838106989860535. The p_value is: 0.0445062592625618.\n",
      "H0 = The sample comes from a normal distribution.\n",
      "HA = The sample is not coming from normal distribution.\n",
      "The alpha is: 0.05\n",
      "The null hypothesis can be rejected because the p value is less than alpha.\n"
     ]
    }
   ],
   "source": [
    "#Testing for normality\n",
    "alpha = 0.05\n",
    "statistic,p_value = shapiro(eqd2_3B_total_dose['eqd2_total_dose'])\n",
    "print (\"Testing values of eqd2_3B_total_dose for normality using the Shapiro-Wilk test.\"+\"\\nThe test statistic is: {}. The p_value is: {}.\".format(statistic,p_value))\n",
    "print(\"H0 = The sample comes from a normal distribution.\"+\"\\nHA = The sample is not coming from normal distribution.\"+\"\\nThe alpha is: 0.05\")\n",
    "if p_value < alpha:\n",
    "    print(\"The null hypothesis can be rejected because the p value is less than alpha.\")\n",
    "else:\n",
    "    print(\"The null hypothesis cannot be rejected because the p value is more than alpha.\")"
   ],
   "metadata": {
    "collapsed": false,
    "pycharm": {
     "name": "#%%\n"
    }
   }
  },
  {
   "cell_type": "code",
   "execution_count": 23,
   "outputs": [
    {
     "name": "stdout",
     "output_type": "stream",
     "text": [
      "Testing values of eqd2_2B_total_dose for normality using the Shapiro-Wilk test.\n",
      "The test statistic is: 0.9462271928787231. The p_value is: 0.24395516514778137.\n",
      "H0 = The sample comes from a normal distribution.\n",
      "HA = The sample is not coming from normal distribution.\n",
      "The alpha is: 0.05\n",
      "The null hypothesis cannot be rejected because the p value is more than alpha.\n"
     ]
    }
   ],
   "source": [
    "#Testing for normality\n",
    "alpha = 0.05\n",
    "statistic,p_value = shapiro(eqd2_2B_total_dose['eqd2_total_dose'])\n",
    "print (\"Testing values of eqd2_2B_total_dose for normality using the Shapiro-Wilk test.\"+\"\\nThe test statistic is: {}. The p_value is: {}.\".format(statistic,p_value))\n",
    "print(\"H0 = The sample comes from a normal distribution.\"+\"\\nHA = The sample is not coming from normal distribution.\"+\"\\nThe alpha is: 0.05\")\n",
    "if p_value < alpha:\n",
    "    print(\"The null hypothesis can be rejected because the p value is less than alpha.\")\n",
    "else:\n",
    "    print(\"The null hypothesis cannot be rejected because the p value is more than alpha.\")"
   ],
   "metadata": {
    "collapsed": false,
    "pycharm": {
     "name": "#%%\n"
    }
   }
  },
  {
   "cell_type": "markdown",
   "source": [
    "---\n",
    "The results of the paired t-test show that we have sufficient evidence to say that the mean values of two groups are different. '\n",
    "Now, we perform one-tailed version of the paired t-test to test whether values of hrctv_3B_volume are less than the values of hrctv_2B_volume."
   ],
   "metadata": {
    "collapsed": false
   }
  },
  {
   "cell_type": "code",
   "execution_count": 19,
   "outputs": [
    {
     "name": "stdout",
     "output_type": "stream",
     "text": [
      "Testing values of eqd2_3B_total_dose and hrctv_-B_volume if the two population means are equal.\n",
      "The test statistic is: -0.031047636620141286. The p_value is: 0.4876992131380936.\n",
      "H0 = The two population means are equal.\n",
      "HA = The population mean of eqd2_3B_total_dose is less than eqd2_2B_total_dose.\n",
      "The alpha is: 0.05\n",
      "The null hypothesis cannot be rejected because the p value is more than alpha.\n"
     ]
    }
   ],
   "source": [
    "alpha = 0.05\n",
    "statistic,p_value = stats.ttest_ind(eqd2_3B_total_dose['eqd2_total_dose'], eqd2_2B_total_dose['eqd2_total_dose'], alternative='less')\n",
    "print (\"Testing values of eqd2_3B_total_dose and hrctv_-B_volume if the two population means are equal.\"+\"\\nThe test statistic is: {}. The p_value is: {}.\".format(statistic,p_value))\n",
    "print(\"H0 = The two population means are equal.\"+\"\\nHA = The population mean of eqd2_3B_total_dose is less than eqd2_2B_total_dose.\"+\"\\nThe alpha is: 0.05\")\n",
    "if p_value < alpha:\n",
    "    print(\"The null hypothesis can be rejected because the p value is less than alpha.\")\n",
    "else:\n",
    "    print(\"The null hypothesis cannot be rejected because the p value is more than alpha.\")"
   ],
   "metadata": {
    "collapsed": false,
    "pycharm": {
     "name": "#%%\n"
    }
   }
  },
  {
   "cell_type": "markdown",
   "source": [
    "---\n",
    "Finding 95 percent confidence interval for the difference of means of hrctv_2B_volume and hrctv_3B_volume"
   ],
   "metadata": {
    "collapsed": false
   }
  },
  {
   "cell_type": "code",
   "execution_count": 20,
   "outputs": [
    {
     "name": "stdout",
     "output_type": "stream",
     "text": [
      "(-1.4224457328743219, 1.3795109502656393)\n"
     ]
    }
   ],
   "source": [
    "cm = sms.CompareMeans(sms.DescrStatsW(eqd2_3B_total_dose['eqd2_total_dose']), sms.DescrStatsW(eqd2_2B_total_dose['eqd2_total_dose']))\n",
    "print (cm.tconfint_diff(usevar='pooled'))"
   ],
   "metadata": {
    "collapsed": false,
    "pycharm": {
     "name": "#%%\n"
    }
   }
  },
  {
   "cell_type": "code",
   "execution_count": 21,
   "outputs": [
    {
     "name": "stdout",
     "output_type": "stream",
     "text": [
      "-0.021467391304341277\n"
     ]
    }
   ],
   "source": [
    "mean_diff = eqd2_3B_total_dose['eqd2_total_dose'].mean() - eqd2_2B_total_dose['eqd2_total_dose'].mean()\n",
    "print(mean_diff)"
   ],
   "metadata": {
    "collapsed": false,
    "pycharm": {
     "name": "#%%\n"
    }
   }
  },
  {
   "cell_type": "code",
   "execution_count": 22,
   "outputs": [
    {
     "data": {
      "text/plain": "<class 'statsmodels.iolib.table.SimpleTable'>",
      "text/html": "<table class=\"simpletable\">\n<caption>Test for equality of means</caption>\n<tr>\n      <td></td>         <th>coef</th>     <th>std err</th>      <th>t</th>      <th>P>|t|</th>  <th>[0.025</th>    <th>0.975]</th>  \n</tr>\n<tr>\n  <th>subset #1</th> <td>   -0.0215</td> <td>    0.691</td> <td>   -0.031</td> <td> 0.975</td> <td>   -1.422</td> <td>    1.380</td>\n</tr>\n</table>"
     },
     "execution_count": 22,
     "metadata": {},
     "output_type": "execute_result"
    }
   ],
   "source": [
    "cm.summary()\n",
    "\n",
    "\n"
   ],
   "metadata": {
    "collapsed": false,
    "pycharm": {
     "name": "#%%\n"
    }
   }
  }
 ],
 "metadata": {
  "kernelspec": {
   "display_name": "Python 3",
   "language": "python",
   "name": "python3"
  },
  "language_info": {
   "codemirror_mode": {
    "name": "ipython",
    "version": 2
   },
   "file_extension": ".py",
   "mimetype": "text/x-python",
   "name": "python",
   "nbconvert_exporter": "python",
   "pygments_lexer": "ipython2",
   "version": "2.7.6"
  }
 },
 "nbformat": 4,
 "nbformat_minor": 0
}