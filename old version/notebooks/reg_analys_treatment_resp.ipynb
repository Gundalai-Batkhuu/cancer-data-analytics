{
 "cells": [
  {
   "cell_type": "markdown",
   "source": [
    "# Descriptive analytics of treatment response"
   ],
   "metadata": {
    "collapsed": false,
    "pycharm": {
     "name": "#%% md\n"
    }
   }
  },
  {
   "cell_type": "code",
   "execution_count": 33,
   "metadata": {
    "pycharm": {
     "name": "#%%\n"
    }
   },
   "outputs": [],
   "source": [
    "import pandas as pd\n",
    "import matplotlib.pyplot as plt\n",
    "import seaborn as sns\n",
    "import numpy as np\n",
    "import statsmodels.api as sm\n",
    "%matplotlib inline\n",
    "pd.set_option('display.max_rows', None)\n",
    "import scipy.stats as stats\n",
    "from scipy.stats import shapiro\n",
    "import copy\n",
    "import statsmodels.stats.api as sms\n",
    "from scipy.stats import wilcoxon\n",
    "sns.set(style=\"darkgrid\")\n",
    "import test_mod as mod\n",
    "from sklearn.linear_model import LogisticRegression\n",
    "from sklearn.model_selection import train_test_split\n",
    "from sklearn import preprocessing\n",
    "from scipy.stats import f_oneway\n",
    "\n",
    "# for chapter 3.2\n",
    "from sklearn.metrics import accuracy_score\n",
    "from sklearn.model_selection import cross_val_score\n",
    "from sklearn.metrics import confusion_matrix\n",
    "import statsmodels.formula.api as smf\n"
   ]
  },
  {
   "cell_type": "markdown",
   "metadata": {
    "pycharm": {
     "name": "#%% md\n"
    }
   },
   "source": [
    "### Importing data"
   ]
  },
  {
   "cell_type": "code",
   "execution_count": 34,
   "metadata": {
    "pycharm": {
     "name": "#%%\n"
    }
   },
   "outputs": [],
   "source": [
    "#Importing packages\n",
    "import pandas as pd\n",
    "import matplotlib.pyplot as plt\n",
    "import seaborn as sns\n",
    "import numpy as np\n",
    "sns.set_style('whitegrid')\n",
    "import statsmodels.api as sm\n",
    "%matplotlib inline\n",
    "pd.set_option('display.max_rows', None)\n",
    "import scipy.stats as stats\n",
    "from scipy.stats import shapiro\n",
    "import statsmodels.stats.api as sms"
   ]
  },
  {
   "cell_type": "code",
   "execution_count": 35,
   "metadata": {
    "pycharm": {
     "name": "#%%\n"
    }
   },
   "outputs": [],
   "source": [
    "# Importing data\n",
    "df = pd.read_csv(r\"C:\\Users\\gdbt0\\OneDrive\\Documents\\GitHub\\Projects\\cancer\\data\\processed\\research_group.csv\")"
   ]
  },
  {
   "cell_type": "code",
   "execution_count": 36,
   "outputs": [],
   "source": [
    "# Selecting variables hrctv_volume and patient id\n",
    "hrctv_volume = df[['id','hrctv_volume']]"
   ],
   "metadata": {
    "collapsed": false,
    "pycharm": {
     "name": "#%%\n"
    }
   }
  },
  {
   "cell_type": "code",
   "execution_count": 37,
   "outputs": [
    {
     "name": "stdout",
     "output_type": "stream",
     "text": [
      "CR     37\n",
      "PR      3\n",
      "DM      2\n",
      "Rec     2\n",
      "Name: late_response_status, dtype: int64\n"
     ]
    }
   ],
   "source": [
    "late_response_status_value_counts = df['late_response_status'].value_counts()\n",
    "print(late_response_status_value_counts)"
   ],
   "metadata": {
    "collapsed": false,
    "pycharm": {
     "name": "#%%\n"
    }
   }
  },
  {
   "cell_type": "markdown",
   "source": [
    "### Describing values of hrctv_volume for groups of late_response_status"
   ],
   "metadata": {
    "collapsed": false,
    "pycharm": {
     "name": "#%% md\n"
    }
   }
  },
  {
   "cell_type": "code",
   "execution_count": 38,
   "outputs": [],
   "source": [
    "hrctv_volume_cr = df.loc[df['late_response_status'] =='CR'][['id','hrctv_volume']]\n",
    "hrctv_volume_pr = df.loc[df['late_response_status'] =='PR'][['id','hrctv_volume']]\n",
    "hrctv_volume_dm = df.loc[df['late_response_status'] =='DM'][['id','hrctv_volume']]\n",
    "hrctv_volume_rec = df.loc[df['late_response_status'] =='Rec'][['id','hrctv_volume']]"
   ],
   "metadata": {
    "collapsed": false,
    "pycharm": {
     "name": "#%%\n"
    }
   }
  },
  {
   "cell_type": "markdown",
   "source": [
    "---\n",
    "Descriptive statistics of hrctv_volume_cr"
   ],
   "metadata": {
    "collapsed": false,
    "pycharm": {
     "name": "#%% md\n"
    }
   }
  },
  {
   "cell_type": "code",
   "execution_count": 39,
   "outputs": [
    {
     "data": {
      "text/plain": "count    37.000000\nmean     28.308108\nstd      10.169873\nmin      10.500000\n25%      21.200000\n50%      25.600000\n75%      33.900000\nmax      65.900000\nName: hrctv_volume, dtype: float64"
     },
     "execution_count": 39,
     "metadata": {},
     "output_type": "execute_result"
    }
   ],
   "source": [
    "data = hrctv_volume_cr['hrctv_volume']\n",
    "data.describe()"
   ],
   "metadata": {
    "collapsed": false,
    "pycharm": {
     "name": "#%%\n"
    }
   }
  },
  {
   "cell_type": "code",
   "execution_count": 40,
   "outputs": [
    {
     "name": "stdout",
     "output_type": "stream",
     "text": [
      "95% confidence interval for the population mean value\n"
     ]
    },
    {
     "data": {
      "text/plain": "(24.917303557294204, 31.69891265892202)"
     },
     "execution_count": 40,
     "metadata": {},
     "output_type": "execute_result"
    }
   ],
   "source": [
    "print(\"95% confidence interval for the population mean value\")\n",
    "stats.t.interval(alpha=0.95, df=len(data)-1, loc=np.mean(data), scale=stats.sem(data))"
   ],
   "metadata": {
    "collapsed": false,
    "pycharm": {
     "name": "#%%\n"
    }
   }
  },
  {
   "cell_type": "code",
   "execution_count": 41,
   "metadata": {
    "pycharm": {
     "name": "#%%\n"
    }
   },
   "outputs": [
    {
     "ename": "SyntaxError",
     "evalue": "invalid syntax (Temp/ipykernel_6616/1143035208.py, line 1)",
     "output_type": "error",
     "traceback": [
      "\u001B[1;36m  File \u001B[1;32m\"C:\\Users\\gdbt0\\AppData\\Local\\Temp/ipykernel_6616/1143035208.py\"\u001B[1;36m, line \u001B[1;32m1\u001B[0m\n\u001B[1;33m    |# Descriptive statistics\u001B[0m\n\u001B[1;37m    ^\u001B[0m\n\u001B[1;31mSyntaxError\u001B[0m\u001B[1;31m:\u001B[0m invalid syntax\n"
     ]
    }
   ],
   "source": [
    "|# Descriptive statistics\n",
    "print(\"Descriptive statistics of independent variables\")\n",
    "print(df[['hrctv_volume','eqd2_total_dose', 'total_days']].describe())"
   ]
  },
  {
   "cell_type": "markdown",
   "source": [
    "---\n",
    "Descriptive statistics of hrctv_volume_pr"
   ],
   "metadata": {
    "collapsed": false
   }
  },
  {
   "cell_type": "code",
   "execution_count": null,
   "outputs": [],
   "source": [
    "data = hrctv_volume_pr['hrctv_volume']\n",
    "data.describe()"
   ],
   "metadata": {
    "collapsed": false,
    "pycharm": {
     "name": "#%%\n"
    }
   }
  },
  {
   "cell_type": "code",
   "execution_count": null,
   "outputs": [],
   "source": [
    "print(\"95% confidence interval for the population mean value\")\n",
    "stats.t.interval(alpha=0.95, df=len(data)-1, loc=np.mean(data), scale=stats.sem(data))"
   ],
   "metadata": {
    "collapsed": false,
    "pycharm": {
     "name": "#%%\n"
    }
   }
  },
  {
   "cell_type": "markdown",
   "source": [
    "---\n",
    "Descriptive statistics of hrctv_volume_dm"
   ],
   "metadata": {
    "collapsed": false
   }
  },
  {
   "cell_type": "code",
   "execution_count": null,
   "outputs": [],
   "source": [
    "data = hrctv_volume_dm['hrctv_volume']\n",
    "data.describe()"
   ],
   "metadata": {
    "collapsed": false,
    "pycharm": {
     "name": "#%%\n"
    }
   }
  },
  {
   "cell_type": "markdown",
   "source": [
    "---\n",
    "Descriptive statistics of hrctv_volume_rec"
   ],
   "metadata": {
    "collapsed": false,
    "pycharm": {
     "name": "#%% md\n"
    }
   }
  },
  {
   "cell_type": "code",
   "execution_count": null,
   "outputs": [],
   "source": [
    "data = hrctv_volume_rec['hrctv_volume']\n",
    "data.describe()"
   ],
   "metadata": {
    "collapsed": false,
    "pycharm": {
     "name": "#%%\n"
    }
   }
  },
  {
   "cell_type": "markdown",
   "source": [
    "### Describing values of eqd2_total_dose for groups of late_response_status"
   ],
   "metadata": {
    "collapsed": false
   }
  },
  {
   "cell_type": "code",
   "execution_count": null,
   "outputs": [],
   "source": [
    "eqd2_total_dose_cr = df.loc[df['late_response_status'] =='CR'][['id','eqd2_total_dose']]\n",
    "eqd2_total_dose_pr = df.loc[df['late_response_status'] =='PR'][['id','eqd2_total_dose']]\n",
    "eqd2_total_dose_dm = df.loc[df['late_response_status'] =='DM'][['id','eqd2_total_dose']]\n",
    "eqd2_total_dose_rec = df.loc[df['late_response_status'] =='Rec'][['id','eqd2_total_dose']]"
   ],
   "metadata": {
    "collapsed": false,
    "pycharm": {
     "name": "#%%\n"
    }
   }
  },
  {
   "cell_type": "markdown",
   "source": [
    "---\n",
    "Descriptive statistics of eqd2_total_dose_cr"
   ],
   "metadata": {
    "collapsed": false
   }
  },
  {
   "cell_type": "code",
   "execution_count": null,
   "outputs": [],
   "source": [
    "data = eqd2_total_dose_cr['eqd2_total_dose']\n",
    "data.describe()"
   ],
   "metadata": {
    "collapsed": false,
    "pycharm": {
     "name": "#%%\n"
    }
   }
  },
  {
   "cell_type": "code",
   "execution_count": null,
   "outputs": [],
   "source": [
    "print(\"95% confidence interval for the population mean value\")\n",
    "stats.t.interval(alpha=0.95, df=len(data)-1, loc=np.mean(data), scale=stats.sem(data))"
   ],
   "metadata": {
    "collapsed": false,
    "pycharm": {
     "name": "#%%\n"
    }
   }
  },
  {
   "cell_type": "markdown",
   "source": [
    "---\n",
    "Descriptive statistics of eqd2_total_dose_pr"
   ],
   "metadata": {
    "collapsed": false
   }
  },
  {
   "cell_type": "code",
   "execution_count": null,
   "outputs": [],
   "source": [
    "data = eqd2_total_dose_pr['eqd2_total_dose']\n",
    "data.describe()"
   ],
   "metadata": {
    "collapsed": false,
    "pycharm": {
     "name": "#%%\n"
    }
   }
  },
  {
   "cell_type": "markdown",
   "source": [
    "---\n",
    "Descriptive statistics of eqd2_total_dose_dm"
   ],
   "metadata": {
    "collapsed": false
   }
  },
  {
   "cell_type": "code",
   "execution_count": null,
   "outputs": [],
   "source": [
    "data = eqd2_total_dose_dm['eqd2_total_dose']\n",
    "data.describe()"
   ],
   "metadata": {
    "collapsed": false,
    "pycharm": {
     "name": "#%%\n"
    }
   }
  },
  {
   "cell_type": "markdown",
   "source": [
    "---\n",
    "Descriptive statistics of eqd2_total_dose_rec"
   ],
   "metadata": {
    "collapsed": false
   }
  },
  {
   "cell_type": "code",
   "execution_count": null,
   "outputs": [],
   "source": [
    "data = eqd2_total_dose_rec['eqd2_total_dose']\n",
    "data.describe()"
   ],
   "metadata": {
    "collapsed": false,
    "pycharm": {
     "name": "#%%\n"
    }
   }
  },
  {
   "cell_type": "code",
   "execution_count": 42,
   "outputs": [
    {
     "ename": "SyntaxError",
     "evalue": "invalid syntax (Temp/ipykernel_6616/1143035208.py, line 1)",
     "output_type": "error",
     "traceback": [
      "\u001B[1;36m  File \u001B[1;32m\"C:\\Users\\gdbt0\\AppData\\Local\\Temp/ipykernel_6616/1143035208.py\"\u001B[1;36m, line \u001B[1;32m1\u001B[0m\n\u001B[1;33m    |# Descriptive statistics\u001B[0m\n\u001B[1;37m    ^\u001B[0m\n\u001B[1;31mSyntaxError\u001B[0m\u001B[1;31m:\u001B[0m invalid syntax\n"
     ]
    }
   ],
   "source": [
    "|# Descriptive statistics\n",
    "print(\"Descriptive statistics of independent variables\")\n",
    "print(df[['hrctv_volume','eqd2_total_dose', 'total_days']].describe())"
   ],
   "metadata": {
    "collapsed": false,
    "pycharm": {
     "name": "#%%\n"
    }
   }
  },
  {
   "cell_type": "code",
   "execution_count": 43,
   "metadata": {
    "pycharm": {
     "name": "#%%\n"
    }
   },
   "outputs": [
    {
     "name": "stdout",
     "output_type": "stream",
     "text": [
      "Correlation matrix between independent variables\n",
      "                 hrctv_volume  eqd2_total_dose  total_days\n",
      "hrctv_volume         1.000000         0.096286   -0.228143\n",
      "eqd2_total_dose      0.096286         1.000000    0.072180\n",
      "total_days          -0.228143         0.072180    1.000000\n"
     ]
    }
   ],
   "source": [
    "# Correlation matrix between variables of interest\n",
    "print(\"Correlation matrix between independent variables\")\n",
    "print(df[['hrctv_volume','eqd2_total_dose', 'total_days']].corr())"
   ]
  },
  {
   "cell_type": "code",
   "execution_count": 44,
   "metadata": {
    "pycharm": {
     "name": "#%%\n"
    }
   },
   "outputs": [],
   "source": [
    "# Multinomial logistic regression with three independent variables\n",
    "# Assigning independent and dependent variables\n",
    "indep_var = df[['hrctv_volume','eqd2_total_dose','total_days']]\n",
    "dep_var = df['late_response_status']\n",
    "\n"
   ]
  },
  {
   "cell_type": "code",
   "execution_count": 45,
   "metadata": {
    "pycharm": {
     "name": "#%%\n"
    }
   },
   "outputs": [
    {
     "name": "stderr",
     "output_type": "stream",
     "text": [
      "C:\\Users\\gdbt0\\anaconda3\\envs\\cancer\\lib\\site-packages\\seaborn\\_decorators.py:36: FutureWarning: Pass the following variable as a keyword arg: x. From version 0.12, the only valid positional argument will be `data`, and passing other arguments without an explicit keyword will result in an error or misinterpretation.\n",
      "  warnings.warn(\n"
     ]
    },
    {
     "data": {
      "text/plain": "<Figure size 432x288 with 1 Axes>",
      "image/png": "[encoded data removed]"
     },
     "metadata": {
      "needs_background": "light"
     },
     "output_type": "display_data"
    }
   ],
   "source": [
    "#Making a barplot\n",
    "plot = sns.countplot(dep_var)\n",
    "mod.show_values(plot)\n",
    "plt.title(\"Frequency distribution of {}\".format('late_response_status'))\n",
    "plt.ylabel('Number of Occurences', fontsize=12)\n",
    "plt.xlabel('{}'.format('late_response_status'),fontsize=12)\n",
    "plt.show()"
   ]
  },
  {
   "cell_type": "code",
   "execution_count": 46,
   "metadata": {
    "pycharm": {
     "name": "#%%\n"
    }
   },
   "outputs": [
    {
     "data": {
      "text/plain": "<Figure size 432x288 with 1 Axes>",
      "image/png": "[encoded data removed]"
     },
     "metadata": {},
     "output_type": "display_data"
    }
   ],
   "source": [
    "#Making a pie chart\n",
    "late_response_status_value_counts = df['late_response_status'].value_counts()\n",
    "plt.title(\"Percentage distribution of {}\".format('late_response_status'))\n",
    "plt.pie(late_response_status_value_counts, labels=late_response_status_value_counts.index, autopct='%.0f%%')\n",
    "plt.show()"
   ]
  },
  {
   "cell_type": "markdown",
   "metadata": {
    "pycharm": {
     "name": "#%% md\n"
    }
   },
   "source": [
    "### Testing for correlation between eqd2_total_dose and late_response_status\n"
   ]
  },
  {
   "cell_type": "code",
   "execution_count": 47,
   "metadata": {
    "pycharm": {
     "name": "#%%\n"
    }
   },
   "outputs": [
    {
     "data": {
      "text/plain": "<AxesSubplot:xlabel='late_response_status', ylabel='eqd2_total_dose'>"
     },
     "execution_count": 47,
     "metadata": {},
     "output_type": "execute_result"
    },
    {
     "data": {
      "text/plain": "<Figure size 432x288 with 1 Axes>",
      "image/png": "[encoded data removed]"
     },
     "metadata": {
      "needs_background": "light"
     },
     "output_type": "display_data"
    }
   ],
   "source": [
    "#Creating a boxplot between late_response_status and eqd2_total_dose\n",
    "sns.boxplot(data=df,x='late_response_status', y='eqd2_total_dose')"
   ]
  },
  {
   "cell_type": "code",
   "execution_count": 48,
   "metadata": {
    "pycharm": {
     "name": "#%%\n"
    }
   },
   "outputs": [
    {
     "name": "stdout",
     "output_type": "stream",
     "text": [
      "One-Way Anova Test\n",
      "Testing if there are any significant differences between the means of the values of the eqd2_total_dose for each late_response_status.\n",
      "The test statistics is: 0.4590053189040444. The p_value is: 0.7124533565788307.\n",
      "H0 = The correlation is not statistically significant.\n",
      "HA = The correlation is statistically significant.\n",
      "The alpha is: 0.05\n",
      "The null hypothesis cannot be rejected because the p value is more than alpha.\n"
     ]
    }
   ],
   "source": [
    "# Finds out the eqd2_total_dose data for each late_response_status as a list\n",
    "categoryGroupLists=df.groupby('late_response_status')['eqd2_total_dose'].apply(list)\n",
    "\n",
    "#Performing a One-Way Anova test between the late_response_status and eqd2_total_dose\n",
    "alpha = 0.05\n",
    "statistic,p_value = f_oneway(*categoryGroupLists)\n",
    "print (\"One-Way Anova Test\"+\"\\nTesting if there are any significant differences between the means of the values of the eqd2_total_dose for each late_response_status.\"+\"\\nThe test statistics is: {}. The p_value is: {}.\".format(statistic,p_value))\n",
    "print(\"H0 = The correlation is not statistically significant.\"+\"\\nHA = The correlation is statistically significant.\"+\"\\nThe alpha is: 0.05\")\n",
    "if p_value < alpha:\n",
    "    print(\"The null hypothesis can be rejected because the p value is less than alpha.\")\n",
    "else:\n",
    "    print(\"The null hypothesis cannot be rejected because the p value is more than alpha.\")"
   ]
  },
  {
   "cell_type": "markdown",
   "metadata": {},
   "source": [
    "### Testing for correlation between eqd2_total_dose and \n"
   ]
  },
  {
   "cell_type": "code",
   "execution_count": 49,
   "metadata": {
    "pycharm": {
     "name": "#%%\n"
    }
   },
   "outputs": [
    {
     "data": {
      "text/plain": "<AxesSubplot:xlabel='late_response_status', ylabel='hrctv_volume'>"
     },
     "execution_count": 49,
     "metadata": {},
     "output_type": "execute_result"
    },
    {
     "data": {
      "text/plain": "<Figure size 432x288 with 1 Axes>",
      "image/png": "[encoded data removed]"
     },
     "metadata": {
      "needs_background": "light"
     },
     "output_type": "display_data"
    }
   ],
   "source": [
    "#Creating a boxplot between late_response_status and hrctv_volume\n",
    "sns.boxplot(data=df,x='late_response_status', y='hrctv_volume')"
   ]
  },
  {
   "cell_type": "code",
   "execution_count": 50,
   "metadata": {
    "pycharm": {
     "name": "#%%\n"
    }
   },
   "outputs": [
    {
     "name": "stdout",
     "output_type": "stream",
     "text": [
      "One-Way Anova Test\n",
      "Testing if there are any significant differences between the means of the values of the eqd2_total_dose for each late_response_status.\n",
      "The test statistics is: 0.17157832114407398. The p_value is: 0.9149700403724406.\n",
      "H0 = The correlation is not statistically significant.\n",
      "HA = The correlation is statistically significant.\n",
      "The alpha is: 0.05\n",
      "The null hypothesis cannot be rejected because the p value is more than alpha.\n"
     ]
    }
   ],
   "source": [
    "# Finds out the eqd2_total_dose data for each late_response_status as a list\n",
    "categoryGroupLists=df.groupby('late_response_status')['hrctv_volume'].apply(list)\n",
    "\n",
    "#Performing a One-Way Anova test between the late_response_status and hrctv_volume\n",
    "alpha = 0.05\n",
    "statistic,p_value = f_oneway(*categoryGroupLists)\n",
    "print (\"One-Way Anova Test\"+\"\\nTesting if there are any significant differences between the means of the values of the eqd2_total_dose for each late_response_status.\"+\"\\nThe test statistics is: {}. The p_value is: {}.\".format(statistic,p_value))\n",
    "print(\"H0 = The correlation is not statistically significant.\"+\"\\nHA = The correlation is statistically significant.\"+\"\\nThe alpha is: 0.05\")\n",
    "if p_value < alpha:\n",
    "    print(\"The null hypothesis can be rejected because the p value is less than alpha.\")\n",
    "else:\n",
    "    print(\"The null hypothesis cannot be rejected because the p value is more than alpha.\")"
   ]
  },
  {
   "cell_type": "markdown",
   "metadata": {
    "pycharm": {
     "name": "#%% md\n"
    }
   },
   "source": [
    "### Multinomial logistic regression model\n",
    "#### Testing the correlation between late_response_status and independent variables"
   ]
  },
  {
   "cell_type": "code",
   "execution_count": 51,
   "metadata": {
    "pycharm": {
     "name": "#%%\n"
    }
   },
   "outputs": [
    {
     "name": "stdout",
     "output_type": "stream",
     "text": [
      "Optimization terminated successfully.\n",
      "         Current function value: 0.569806\n",
      "         Iterations 7\n",
      "                           MNLogit Regression Results                           \n",
      "================================================================================\n",
      "Dep. Variable:     late_response_status   No. Observations:                   44\n",
      "Model:                          MNLogit   Df Residuals:                       32\n",
      "Method:                             MLE   Df Model:                            9\n",
      "Date:                  Fri, 03 Dec 2021   Pseudo R-squ.:                 0.06561\n",
      "Time:                          17:36:43   Log-Likelihood:                -25.071\n",
      "converged:                         True   LL-Null:                       -26.832\n",
      "Covariance Type:              nonrobust   LLR p-value:                    0.9400\n",
      "============================================================================================\n",
      " late_response_status=DM       coef    std err          z      P>|z|      [0.025      0.975]\n",
      "--------------------------------------------------------------------------------------------\n",
      "const                      -12.5444     31.797     -0.395      0.693     -74.865      49.776\n",
      "hrctv_volume                 0.0355      0.067      0.533      0.594      -0.095       0.166\n",
      "eqd2_total_dose              0.0797      0.376      0.212      0.832      -0.657       0.817\n",
      "total_days                   0.0268      0.043      0.629      0.530      -0.057       0.110\n",
      "--------------------------------------------------------------------------------------------\n",
      "late_response_status=PR       coef    std err          z      P>|z|      [0.025      0.975]\n",
      "-------------------------------------------------------------------------------------------\n",
      "const                     -38.0575     31.005     -1.227      0.220     -98.827      22.712\n",
      "hrctv_volume                0.0192      0.058      0.331      0.740      -0.094       0.133\n",
      "eqd2_total_dose             0.4242      0.366      1.160      0.246      -0.293       1.141\n",
      "total_days                 -0.0262      0.056     -0.465      0.642      -0.137       0.084\n",
      "-------------------------------------------------------------------------------------------\n",
      "late_response_status=Rec       coef    std err          z      P>|z|      [0.025      0.975]\n",
      "--------------------------------------------------------------------------------------------\n",
      "const                      -18.8201     35.420     -0.531      0.595     -88.242      50.602\n",
      "hrctv_volume                 0.0213      0.078      0.272      0.785      -0.132       0.175\n",
      "eqd2_total_dose              0.2326      0.415      0.560      0.576      -0.582       1.047\n",
      "total_days                  -0.0818      0.105     -0.782      0.434      -0.287       0.123\n",
      "============================================================================================\n"
     ]
    }
   ],
   "source": [
    "# Multinomial logistic regression model\n",
    "Y = dep_var\n",
    "X = indep_var\n",
    "X = sm.add_constant(X)\n",
    "mnlogit_model = sm.MNLogit(Y,X)\n",
    "mnlogit_fit = mnlogit_model.fit()\n",
    "print(mnlogit_fit.summary())"
   ]
  },
  {
   "cell_type": "code",
   "execution_count": 52,
   "metadata": {
    "pycharm": {
     "name": "#%%\n"
    }
   },
   "outputs": [
    {
     "name": "stdout",
     "output_type": "stream",
     "text": [
      "Optimization terminated successfully.\n",
      "         Current function value: 0.587274\n",
      "         Iterations 7\n",
      "                           MNLogit Regression Results                           \n",
      "================================================================================\n",
      "Dep. Variable:     late_response_status   No. Observations:                   44\n",
      "Model:                          MNLogit   Df Residuals:                       35\n",
      "Method:                             MLE   Df Model:                            6\n",
      "Date:                  Fri, 03 Dec 2021   Pseudo R-squ.:                 0.03697\n",
      "Time:                          17:36:43   Log-Likelihood:                -25.840\n",
      "converged:                         True   LL-Null:                       -26.832\n",
      "Covariance Type:              nonrobust   LLR p-value:                    0.9212\n",
      "============================================================================================\n",
      " late_response_status=DM       coef    std err          z      P>|z|      [0.025      0.975]\n",
      "--------------------------------------------------------------------------------------------\n",
      "const                      -13.4598     33.036     -0.407      0.684     -78.209      51.289\n",
      "hrctv_volume                 0.0269      0.068      0.393      0.695      -0.107       0.161\n",
      "eqd2_total_dose              0.1137      0.386      0.294      0.769      -0.644       0.871\n",
      "--------------------------------------------------------------------------------------------\n",
      "late_response_status=PR       coef    std err          z      P>|z|      [0.025      0.975]\n",
      "-------------------------------------------------------------------------------------------\n",
      "const                     -36.1685     30.356     -1.191      0.233     -95.666      23.329\n",
      "hrctv_volume                0.0238      0.055      0.429      0.668      -0.085       0.133\n",
      "eqd2_total_dose             0.3823      0.351      1.090      0.276      -0.305       1.070\n",
      "-------------------------------------------------------------------------------------------\n",
      "late_response_status=Rec       coef    std err          z      P>|z|      [0.025      0.975]\n",
      "--------------------------------------------------------------------------------------------\n",
      "const                      -17.1066     33.594     -0.509      0.611     -82.949      48.736\n",
      "hrctv_volume                 0.0268      0.068      0.397      0.691      -0.106       0.159\n",
      "eqd2_total_dose              0.1561      0.392      0.398      0.690      -0.612       0.925\n",
      "============================================================================================\n"
     ]
    }
   ],
   "source": [
    "# Multinomial logistic regression with two independent variables\n",
    "# Assigning independent and dependent variables\n",
    "indep_var = df[['hrctv_volume','eqd2_total_dose']]\n",
    "dep_var = df['late_response_status']\n",
    "\n",
    "# Multinomial Logit with the statsmodel library\n",
    "Y = dep_var\n",
    "X = indep_var\n",
    "X = sm.add_constant(X)\n",
    "mnlogit_model = sm.MNLogit(Y,X)\n",
    "mnlogit_fit = mnlogit_model.fit()\n",
    "print(mnlogit_fit.summary())\n"
   ]
  },
  {
   "cell_type": "markdown",
   "metadata": {
    "pycharm": {
     "name": "#%% md\n"
    }
   },
   "source": [
    "## Assuming a binary value for the late_response_status"
   ]
  },
  {
   "cell_type": "code",
   "execution_count": 53,
   "metadata": {
    "pycharm": {
     "name": "#%%\n"
    }
   },
   "outputs": [],
   "source": [
    "# Multinomial logistic regression with three independent variables\n",
    "# Assigning independent and dependent variables\n",
    "indep_var = df[['hrctv_volume','eqd2_total_dose','total_days']]\n",
    "dep_var = df['late_response_status_binary']\n"
   ]
  },
  {
   "cell_type": "code",
   "execution_count": 54,
   "metadata": {
    "pycharm": {
     "name": "#%%\n"
    }
   },
   "outputs": [
    {
     "name": "stderr",
     "output_type": "stream",
     "text": [
      "C:\\Users\\gdbt0\\anaconda3\\envs\\cancer\\lib\\site-packages\\seaborn\\_decorators.py:36: FutureWarning: Pass the following variable as a keyword arg: x. From version 0.12, the only valid positional argument will be `data`, and passing other arguments without an explicit keyword will result in an error or misinterpretation.\n",
      "  warnings.warn(\n"
     ]
    },
    {
     "data": {
      "text/plain": "<Figure size 432x288 with 1 Axes>",
      "image/png": "[encoded data removed]"
     },
     "metadata": {
      "needs_background": "light"
     },
     "output_type": "display_data"
    }
   ],
   "source": [
    "#Making a barplot\n",
    "plot = sns.countplot(dep_var)\n",
    "mod.show_values(plot)\n",
    "plt.title(\"Frequency distribution of {}\".format('late_response_status_binary'))\n",
    "plt.ylabel('Number of Occurences', fontsize=12)\n",
    "plt.xlabel('{}'.format('late_response_status'),fontsize=12)\n",
    "plt.show()"
   ]
  },
  {
   "cell_type": "code",
   "execution_count": 55,
   "metadata": {
    "pycharm": {
     "name": "#%%\n"
    }
   },
   "outputs": [
    {
     "data": {
      "text/plain": "<Figure size 432x288 with 1 Axes>",
      "image/png": "[encoded data removed]"
     },
     "metadata": {},
     "output_type": "display_data"
    }
   ],
   "source": [
    "#Making a pie chart\n",
    "late_response_status_value_counts = df['late_response_status_binary'].value_counts()\n",
    "plt.title(\"Percentage distribution of {}\".format('late_response_status_binary'))\n",
    "plt.pie(late_response_status_value_counts, labels=late_response_status_value_counts.index, autopct='%.0f%%')\n",
    "plt.show()"
   ]
  },
  {
   "cell_type": "markdown",
   "metadata": {},
   "source": [
    "### Testing for correlation between eqd2_total_dose and late_response_status"
   ]
  },
  {
   "cell_type": "code",
   "execution_count": 56,
   "metadata": {
    "pycharm": {
     "name": "#%%\n"
    }
   },
   "outputs": [
    {
     "data": {
      "text/plain": "<AxesSubplot:xlabel='late_response_status_binary', ylabel='eqd2_total_dose'>"
     },
     "execution_count": 56,
     "metadata": {},
     "output_type": "execute_result"
    },
    {
     "data": {
      "text/plain": "<Figure size 432x288 with 1 Axes>",
      "image/png": "[encoded data removed]"
     },
     "metadata": {
      "needs_background": "light"
     },
     "output_type": "display_data"
    }
   ],
   "source": [
    "#Creating a boxplot between late_response_status and eqd2_total_dose\n",
    "sns.boxplot(data=df,x='late_response_status_binary', y='eqd2_total_dose')"
   ]
  },
  {
   "cell_type": "code",
   "execution_count": 57,
   "metadata": {
    "pycharm": {
     "name": "#%%\n"
    }
   },
   "outputs": [
    {
     "data": {
      "text/plain": "<AxesSubplot:ylabel='Count'>"
     },
     "execution_count": 57,
     "metadata": {},
     "output_type": "execute_result"
    },
    {
     "data": {
      "text/plain": "<Figure size 432x288 with 1 Axes>",
      "image/png": "[encoded data removed]"
     },
     "metadata": {
      "needs_background": "light"
     },
     "output_type": "display_data"
    }
   ],
   "source": [
    "# Finds out the eqd2_total_dose data for each late_response_status as a list\n",
    "categoryGroupLists=df.groupby('late_response_status_binary')['eqd2_total_dose'].apply(list)\n",
    "eqd2_zero_response = categoryGroupLists[0]\n",
    "eqd2_one_response = categoryGroupLists[1]\n",
    "sns.histplot(eqd2_zero_response,bins=15,color='blue')\n",
    "sns.histplot(eqd2_one_response,bins=15,color='green')"
   ]
  },
  {
   "cell_type": "code",
   "execution_count": 58,
   "metadata": {
    "pycharm": {
     "name": "#%%\n"
    }
   },
   "outputs": [
    {
     "name": "stdout",
     "output_type": "stream",
     "text": [
      "Testing values of late_response_status_binary and eqd2_total_dose if the two population means are equal.\n",
      "The test statistic is: 1.3366131577372582. The p_value is: 0.20879641952556713.\n",
      "H0 = The two population means are equal.\n",
      "HA = The two population means are not equal.\n",
      "The alpha is: 0.05\n",
      "The null hypothesis cannot be rejected because the p value is more than alpha.\n"
     ]
    }
   ],
   "source": [
    "# Performing a t-test to check for difference in mean values of late_response_status_binary and eqd2_total_dose\n",
    "alpha = 0.05\n",
    "statistic,p_value = stats.ttest_ind(eqd2_zero_response, eqd2_one_response, equal_var=False)\n",
    "print (\"Testing values of late_response_status_binary and eqd2_total_dose if the two population means are equal.\"+\"\\nThe test statistic is: {}. The p_value is: {}.\".format(statistic,p_value))\n",
    "print(\"H0 = The two population means are equal.\"+\"\\nHA = The two population means are not equal.\"+\"\\nThe alpha is: 0.05\")\n",
    "if p_value < alpha:\n",
    "    print(\"The null hypothesis can be rejected because the p value is less than alpha.\")\n",
    "else:\n",
    "    print(\"The null hypothesis cannot be rejected because the p value is more than alpha.\")"
   ]
  },
  {
   "cell_type": "code",
   "execution_count": 58,
   "metadata": {
    "pycharm": {
     "name": "#%% Testing for correlation using logistic model\n"
    }
   },
   "outputs": [],
   "source": []
  },
  {
   "cell_type": "markdown",
   "metadata": {},
   "source": [
    "### Testing for correlation between late_response_status_binary and hrctv_volume"
   ]
  },
  {
   "cell_type": "code",
   "execution_count": 59,
   "metadata": {
    "pycharm": {
     "name": "#%%\n"
    }
   },
   "outputs": [
    {
     "data": {
      "text/plain": "<AxesSubplot:xlabel='late_response_status_binary', ylabel='hrctv_volume'>"
     },
     "execution_count": 59,
     "metadata": {},
     "output_type": "execute_result"
    },
    {
     "data": {
      "text/plain": "<Figure size 432x288 with 1 Axes>",
      "image/png": "[encoded data removed]"
     },
     "metadata": {
      "needs_background": "light"
     },
     "output_type": "display_data"
    }
   ],
   "source": [
    "#Creating a boxplot between late_response_status and hrctv_volume\n",
    "sns.boxplot(data=df,x='late_response_status_binary', y='hrctv_volume')"
   ]
  },
  {
   "cell_type": "code",
   "execution_count": 60,
   "metadata": {
    "pycharm": {
     "name": "#%%\n"
    }
   },
   "outputs": [
    {
     "data": {
      "text/plain": "<AxesSubplot:ylabel='Count'>"
     },
     "execution_count": 60,
     "metadata": {},
     "output_type": "execute_result"
    },
    {
     "data": {
      "text/plain": "<Figure size 432x288 with 1 Axes>",
      "image/png": "[encoded data removed]"
     },
     "metadata": {
      "needs_background": "light"
     },
     "output_type": "display_data"
    }
   ],
   "source": [
    "# Finds out the eqd2_total_dose data for each late_response_status as a list\n",
    "categoryGroupLists=df.groupby('late_response_status_binary')['hrctv_volume'].apply(list)\n",
    "hrctv_volume_zero_response = categoryGroupLists[0]\n",
    "hrctv_volume_one_response = categoryGroupLists[1]\n",
    "sns.histplot(hrctv_volume_zero_response,bins=15,color='blue')\n",
    "sns.histplot(hrctv_volume_one_response,bins=15,color='green')"
   ]
  },
  {
   "cell_type": "code",
   "execution_count": 61,
   "metadata": {
    "pycharm": {
     "name": "#%%\n"
    }
   },
   "outputs": [
    {
     "name": "stdout",
     "output_type": "stream",
     "text": [
      "Testing values of late_response_status_binary and hrctv_volume if the two population means are equal.\n",
      "The test statistic is: 1.3764278948974407. The p_value is: 0.17878038657098622.\n",
      "H0 = The two population means are equal.\n",
      "HA = The two population means are not equal.\n",
      "The alpha is: 0.05\n",
      "The null hypothesis cannot be rejected because the p value is more than alpha.\n"
     ]
    }
   ],
   "source": [
    "# Performing a t-test to check for difference in mean values of late_response_status_binary and hrctv_volume\n",
    "alpha = 0.05\n",
    "statistic,p_value = stats.ttest_ind(hrctv_volume_zero_response, hrctv_volume_one_response, equal_var=False)\n",
    "print (\"Testing values of late_response_status_binary and hrctv_volume if the two population means are equal.\"+\"\\nThe test statistic is: {}. The p_value is: {}.\".format(statistic,p_value))\n",
    "print(\"H0 = The two population means are equal.\"+\"\\nHA = The two population means are not equal.\"+\"\\nThe alpha is: 0.05\")\n",
    "if p_value < alpha:\n",
    "    print(\"The null hypothesis can be rejected because the p value is less than alpha.\")\n",
    "else:\n",
    "    print(\"The null hypothesis cannot be rejected because the p value is more than alpha.\")"
   ]
  },
  {
   "cell_type": "markdown",
   "metadata": {},
   "source": [
    "### Logistic regression models\n"
   ]
  },
  {
   "cell_type": "code",
   "execution_count": 62,
   "metadata": {
    "pycharm": {
     "name": "#%%\n"
    }
   },
   "outputs": [
    {
     "name": "stdout",
     "output_type": "stream",
     "text": [
      "Optimization terminated successfully.\n",
      "         Current function value: 0.419553\n",
      "         Iterations 6\n",
      "                                Logit Regression Results                               \n",
      "=======================================================================================\n",
      "Dep. Variable:     late_response_status_binary   No. Observations:                   44\n",
      "Model:                                   Logit   Df Residuals:                       41\n",
      "Method:                                    MLE   Df Model:                            2\n",
      "Date:                         Fri, 03 Dec 2021   Pseudo R-squ.:                 0.04247\n",
      "Time:                                 17:36:46   Log-Likelihood:                -18.460\n",
      "converged:                                True   LL-Null:                       -19.279\n",
      "Covariance Type:                     nonrobust   LLR p-value:                    0.4410\n",
      "===================================================================================\n",
      "                      coef    std err          z      P>|z|      [0.025      0.975]\n",
      "-----------------------------------------------------------------------------------\n",
      "const              22.6154     19.779      1.143      0.253     -16.150      61.381\n",
      "hrctv_volume       -0.0254      0.040     -0.627      0.531      -0.105       0.054\n",
      "eqd2_total_dose    -0.2350      0.230     -1.022      0.307      -0.686       0.216\n",
      "===================================================================================\n"
     ]
    }
   ],
   "source": [
    "# Logistic regression with two independent variables\n",
    "# Assigning independent and dependent variables\n",
    "indep_var = df[['hrctv_volume','eqd2_total_dose']]\n",
    "dep_var = df['late_response_status_binary']\n",
    "\n",
    "# Multinomial Logit with the statsmodel library\n",
    "Y = dep_var\n",
    "X = indep_var\n",
    "X = sm.add_constant(X)\n",
    "mnlogit_model = sm.Logit(Y,X)\n",
    "mnlogit_fit = mnlogit_model.fit()\n",
    "print(mnlogit_fit.summary())\n"
   ]
  },
  {
   "cell_type": "code",
   "execution_count": 63,
   "metadata": {
    "pycharm": {
     "name": "#%%\n"
    }
   },
   "outputs": [
    {
     "data": {
      "text/plain": "-0.24468997354828603"
     },
     "execution_count": 63,
     "metadata": {},
     "output_type": "execute_result"
    }
   ],
   "source": [
    "#Checking Spearman's correlations\n",
    "dep_var.corr(df['hrctv_volume'],method='spearman')"
   ]
  },
  {
   "cell_type": "code",
   "execution_count": 64,
   "metadata": {
    "pycharm": {
     "name": "#%%\n"
    }
   },
   "outputs": [
    {
     "data": {
      "text/plain": "-0.17861059236094012"
     },
     "execution_count": 64,
     "metadata": {},
     "output_type": "execute_result"
    }
   ],
   "source": [
    "dep_var.corr(df['eqd2_total_dose'],method='spearman')"
   ]
  },
  {
   "cell_type": "markdown",
   "metadata": {
    "pycharm": {
     "name": "#%% md\n"
    }
   },
   "source": [
    "### Incorporating stage"
   ]
  },
  {
   "cell_type": "code",
   "execution_count": 65,
   "metadata": {
    "pycharm": {
     "name": "#%%\n"
    }
   },
   "outputs": [
    {
     "name": "stdout",
     "output_type": "stream",
     "text": [
      "<class 'pandas.core.frame.DataFrame'>\n",
      "Int64Index: 39 entries, 0 to 43\n",
      "Data columns (total 20 columns):\n",
      " #   Column                       Non-Null Count  Dtype  \n",
      "---  ------                       --------------  -----  \n",
      " 0   id                           39 non-null     int64  \n",
      " 1   hrctv_volume                 39 non-null     float64\n",
      " 2   eqd2_total_dose              39 non-null     float64\n",
      " 3   T                            39 non-null     object \n",
      " 4   rect_sig_grade               39 non-null     float64\n",
      " 5   bladder_grade                39 non-null     float64\n",
      " 6   followup_timing              39 non-null     float64\n",
      " 7   eqd2_rectum                  39 non-null     float64\n",
      " 8   eqd2_bladder                 39 non-null     float64\n",
      " 9   bladder_grade_event1         39 non-null     int64  \n",
      " 10  bladder_grade_event0         39 non-null     int64  \n",
      " 11  bladder_grade_event2         39 non-null     int64  \n",
      " 12  rect_sig_grade_event0        39 non-null     int64  \n",
      " 13  rect_sig_grade_event1        39 non-null     int64  \n",
      " 14  rect_sig_grade_event2        39 non-null     int64  \n",
      " 15  icru_bladder                 39 non-null     float64\n",
      " 16  icru_rectum                  39 non-null     float64\n",
      " 17  late_response_status         39 non-null     object \n",
      " 18  total_days                   39 non-null     float64\n",
      " 19  late_response_status_binary  39 non-null     int64  \n",
      "dtypes: float64(10), int64(8), object(2)\n",
      "memory usage: 6.4+ KB\n"
     ]
    }
   ],
   "source": [
    "df = df.loc[(df['T'] == '2B') | (df['T'] == '3B')]\n",
    "indep_var = df[['hrctv_volume','eqd2_total_dose']]\n",
    "dep_var = df['late_response_status']\n",
    "df.info()"
   ]
  },
  {
   "cell_type": "code",
   "execution_count": 66,
   "metadata": {
    "pycharm": {
     "name": "#%%\n"
    }
   },
   "outputs": [
    {
     "name": "stderr",
     "output_type": "stream",
     "text": [
      "C:\\Users\\gdbt0\\anaconda3\\envs\\cancer\\lib\\site-packages\\seaborn\\_decorators.py:36: FutureWarning: Pass the following variable as a keyword arg: x. From version 0.12, the only valid positional argument will be `data`, and passing other arguments without an explicit keyword will result in an error or misinterpretation.\n",
      "  warnings.warn(\n"
     ]
    },
    {
     "data": {
      "text/plain": "<Figure size 432x288 with 1 Axes>",
      "image/png": "[encoded data removed]"
     },
     "metadata": {
      "needs_background": "light"
     },
     "output_type": "display_data"
    }
   ],
   "source": [
    "#Making a barplot\n",
    "plot = sns.countplot(dep_var)\n",
    "mod.show_values(plot)\n",
    "plt.title(\"Frequency distribution of {}\".format('late_response_status'))\n",
    "plt.ylabel('Number of Occurences', fontsize=12)\n",
    "plt.xlabel('{}'.format('late_response_status'),fontsize=12)\n",
    "plt.show()"
   ]
  },
  {
   "cell_type": "code",
   "execution_count": 67,
   "metadata": {
    "pycharm": {
     "name": "#%%\n"
    }
   },
   "outputs": [
    {
     "name": "stdout",
     "output_type": "stream",
     "text": [
      "Correlation matrix between independent variables\n",
      "                 hrctv_volume  eqd2_total_dose\n",
      "hrctv_volume         1.000000         0.115134\n",
      "eqd2_total_dose      0.115134         1.000000\n"
     ]
    }
   ],
   "source": [
    "# Correlation matrix between variables of interest\n",
    "print(\"Correlation matrix between independent variables\")\n",
    "print(df[['hrctv_volume','eqd2_total_dose', 'T']].corr())"
   ]
  },
  {
   "cell_type": "code",
   "execution_count": 68,
   "metadata": {
    "pycharm": {
     "name": "#%%\n"
    }
   },
   "outputs": [],
   "source": [
    "df2b = df.loc[df['T'] == '2B']\n",
    "df3b = df.loc[df['T'] == '3B']\n"
   ]
  },
  {
   "cell_type": "code",
   "execution_count": 69,
   "metadata": {
    "pycharm": {
     "name": "#%%\n"
    }
   },
   "outputs": [
    {
     "name": "stderr",
     "output_type": "stream",
     "text": [
      "C:\\Users\\gdbt0\\anaconda3\\envs\\cancer\\lib\\site-packages\\seaborn\\_decorators.py:36: FutureWarning: Pass the following variable as a keyword arg: x. From version 0.12, the only valid positional argument will be `data`, and passing other arguments without an explicit keyword will result in an error or misinterpretation.\n",
      "  warnings.warn(\n"
     ]
    },
    {
     "data": {
      "text/plain": "<Figure size 432x288 with 1 Axes>",
      "image/png": "[encoded data removed]"
     },
     "metadata": {
      "needs_background": "light"
     },
     "output_type": "display_data"
    }
   ],
   "source": [
    "#Making a barplot for df2b\n",
    "indep_var_2b = df2b[['hrctv_volume','eqd2_total_dose']]\n",
    "dep_var_2b = df2b['late_response_status']\n",
    "\n",
    "plot = sns.countplot(dep_var_2b)\n",
    "mod.show_values(plot)\n",
    "plt.title(\"Frequency distribution of {}\".format('late_response_status'))\n",
    "plt.ylabel('Number of Occurences', fontsize=12)\n",
    "plt.xlabel('{}'.format('late_response_status'),fontsize=12)\n",
    "plt.show()\n"
   ]
  },
  {
   "cell_type": "code",
   "execution_count": 70,
   "metadata": {
    "pycharm": {
     "name": "#%%\n"
    }
   },
   "outputs": [
    {
     "name": "stderr",
     "output_type": "stream",
     "text": [
      "C:\\Users\\gdbt0\\anaconda3\\envs\\cancer\\lib\\site-packages\\seaborn\\_decorators.py:36: FutureWarning: Pass the following variable as a keyword arg: x. From version 0.12, the only valid positional argument will be `data`, and passing other arguments without an explicit keyword will result in an error or misinterpretation.\n",
      "  warnings.warn(\n"
     ]
    },
    {
     "data": {
      "text/plain": "<Figure size 432x288 with 1 Axes>",
      "image/png": "[encoded data removed]"
     },
     "metadata": {
      "needs_background": "light"
     },
     "output_type": "display_data"
    }
   ],
   "source": [
    "#Making a barplot for df3b\n",
    "indep_var_3b = df3b[['hrctv_volume','eqd2_total_dose']]\n",
    "dep_var_3b = df3b['late_response_status']\n",
    "\n",
    "plot = sns.countplot(dep_var_3b)\n",
    "mod.show_values(plot)\n",
    "plt.title(\"Frequency distribution of {}\".format('late_response_status'))\n",
    "plt.ylabel('Number of Occurences', fontsize=12)\n",
    "plt.xlabel('{}'.format('late_response_status'),fontsize=12)\n",
    "plt.show()"
   ]
  },
  {
   "cell_type": "code",
   "execution_count": 71,
   "metadata": {
    "pycharm": {
     "name": "#%%\n"
    }
   },
   "outputs": [
    {
     "name": "stdout",
     "output_type": "stream",
     "text": [
      "Optimization terminated successfully.\n",
      "         Current function value: 0.735524\n",
      "         Iterations 7\n",
      "                           MNLogit Regression Results                           \n",
      "================================================================================\n",
      "Dep. Variable:     late_response_status   No. Observations:                   23\n",
      "Model:                          MNLogit   Df Residuals:                       14\n",
      "Method:                             MLE   Df Model:                            6\n",
      "Date:                  Fri, 03 Dec 2021   Pseudo R-squ.:                 0.02310\n",
      "Time:                          17:36:47   Log-Likelihood:                -16.917\n",
      "converged:                         True   LL-Null:                       -17.317\n",
      "Covariance Type:              nonrobust   LLR p-value:                    0.9921\n",
      "============================================================================================\n",
      " late_response_status=DM       coef    std err          z      P>|z|      [0.025      0.975]\n",
      "--------------------------------------------------------------------------------------------\n",
      "const                      -15.1998     34.155     -0.445      0.656     -82.142      51.743\n",
      "hrctv_volume                 0.0234      0.110      0.212      0.832      -0.193       0.239\n",
      "eqd2_total_dose              0.1433      0.389      0.369      0.712      -0.619       0.905\n",
      "--------------------------------------------------------------------------------------------\n",
      "late_response_status=PR       coef    std err          z      P>|z|      [0.025      0.975]\n",
      "-------------------------------------------------------------------------------------------\n",
      "const                     -19.6572     48.067     -0.409      0.683    -113.867      74.553\n",
      "hrctv_volume                0.1005      0.156      0.646      0.518      -0.204       0.405\n",
      "eqd2_total_dose             0.1576      0.543      0.290      0.772      -0.907       1.222\n",
      "-------------------------------------------------------------------------------------------\n",
      "late_response_status=Rec       coef    std err          z      P>|z|      [0.025      0.975]\n",
      "--------------------------------------------------------------------------------------------\n",
      "const                      -18.8899     34.299     -0.551      0.582     -86.116      48.336\n",
      "hrctv_volume                 0.0275      0.111      0.249      0.804      -0.189       0.244\n",
      "eqd2_total_dose              0.1848      0.390      0.474      0.635      -0.579       0.949\n",
      "============================================================================================\n"
     ]
    }
   ],
   "source": [
    "# Multinomial logistic regression with three independent variables for df2B\n",
    "# Assigning independent and dependent variables\n",
    "indep_var = df2b[['hrctv_volume','eqd2_total_dose']]\n",
    "dep_var = df2b['late_response_status']\n",
    "\n",
    "# Multinomial logistic regression model\n",
    "Y = dep_var\n",
    "X = indep_var\n",
    "X = sm.add_constant(X)\n",
    "mnlogit_model = sm.MNLogit(Y,X)\n",
    "mnlogit_fit = mnlogit_model.fit()\n",
    "print(mnlogit_fit.summary())"
   ]
  },
  {
   "cell_type": "code",
   "execution_count": 72,
   "metadata": {
    "pycharm": {
     "name": "#%%\n"
    }
   },
   "outputs": [
    {
     "name": "stdout",
     "output_type": "stream",
     "text": [
      "Optimization terminated successfully.\n",
      "         Current function value: 0.308456\n",
      "         Iterations 8\n",
      "                           MNLogit Regression Results                           \n",
      "================================================================================\n",
      "Dep. Variable:     late_response_status   No. Observations:                   16\n",
      "Model:                          MNLogit   Df Residuals:                       13\n",
      "Method:                             MLE   Df Model:                            2\n",
      "Date:                  Fri, 03 Dec 2021   Pseudo R-squ.:                  0.1813\n",
      "Time:                          17:36:48   Log-Likelihood:                -4.9353\n",
      "converged:                         True   LL-Null:                       -6.0283\n",
      "Covariance Type:              nonrobust   LLR p-value:                    0.3352\n",
      "===========================================================================================\n",
      "late_response_status=PR       coef    std err          z      P>|z|      [0.025      0.975]\n",
      "-------------------------------------------------------------------------------------------\n",
      "const                     -67.1522     53.661     -1.251      0.211    -172.326      38.021\n",
      "hrctv_volume               -0.0114      0.058     -0.195      0.845      -0.126       0.103\n",
      "eqd2_total_dose             0.7578      0.618      1.226      0.220      -0.454       1.970\n",
      "===========================================================================================\n"
     ]
    }
   ],
   "source": [
    "# Multinomial logistic regression with three independent variables for df3B\n",
    "# Assigning independent and dependent variables\n",
    "indep_var = df3b[['hrctv_volume','eqd2_total_dose']]\n",
    "dep_var = df3b['late_response_status']\n",
    "\n",
    "# Multinomial logistic regression model\n",
    "Y = dep_var\n",
    "X = indep_var\n",
    "X = sm.add_constant(X)\n",
    "mnlogit_model = sm.MNLogit(Y,X)\n",
    "mnlogit_fit = mnlogit_model.fit()\n",
    "print(mnlogit_fit.summary())\n"
   ]
  }
 ],
 "metadata": {
  "kernelspec": {
   "display_name": "Python 3",
   "language": "python",
   "name": "python3"
  },
  "language_info": {
   "codemirror_mode": {
    "name": "ipython",
    "version": 3
   },
   "file_extension": ".py",
   "mimetype": "text/x-python",
   "name": "python",
   "nbconvert_exporter": "python",
   "pygments_lexer": "ipython3",
   "version": "3.8.8"
  }
 },
 "nbformat": 4,
 "nbformat_minor": 1
}