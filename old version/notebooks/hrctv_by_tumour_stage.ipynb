{
 "cells": [
  {
   "cell_type": "markdown",
   "source": [
    "# Descriptive analysis of hrctv_volume values categorised by tumour stage\n",
    "\n",
    "In this notebook, we're analysing values of hrctv_volume of the research group. First, we will generate descriptive statistics of hrctv_volume values and visualise it. Then, we will categorise the hrctv_volume data by tumour stages 2B and 3B's and create subgroups. We will analyse and compare the subgroups by their descriptive statistics."
   ],
   "metadata": {
    "collapsed": false
   }
  },
  {
   "cell_type": "code",
   "execution_count": 1,
   "metadata": {},
   "outputs": [],
   "source": [
    "#Importing packages\n",
    "import pandas as pd\n",
    "import matplotlib.pyplot as plt\n",
    "import seaborn as sns\n",
    "import numpy as np\n",
    "sns.set_style('whitegrid')\n",
    "import statsmodels.api as sm\n",
    "%matplotlib inline\n",
    "pd.set_option('display.max_rows', None)\n",
    "import scipy.stats as stats\n",
    "from scipy.stats import shapiro\n",
    "import statsmodels.stats.api as sms"
   ]
  },
  {
   "cell_type": "code",
   "execution_count": 2,
   "outputs": [],
   "source": [
    "# Importing data\n",
    "df = pd.read_csv(r\"C:\\Users\\gdbt0\\OneDrive\\Documents\\GitHub\\Projects\\cancer\\data\\processed\\research_group.csv\")"
   ],
   "metadata": {
    "collapsed": false,
    "pycharm": {
     "name": "#%%\n"
    }
   }
  },
  {
   "cell_type": "code",
   "execution_count": 3,
   "outputs": [],
   "source": [
    "# Selecting variables hrctv_volume and patient id\n",
    "hrctv_volume = df[['id','hrctv_volume']]"
   ],
   "metadata": {
    "collapsed": false,
    "pycharm": {
     "name": "#%%\n"
    }
   }
  },
  {
   "cell_type": "code",
   "execution_count": 4,
   "outputs": [],
   "source": [
    "# Selecting hrctv_volume values of patients having 2B stage tumour\n",
    "hrctv_2B_volume = df.loc[df['T'] == '2B'][['id','hrctv_volume']]"
   ],
   "metadata": {
    "collapsed": false,
    "pycharm": {
     "name": "#%%\n"
    }
   }
  },
  {
   "cell_type": "code",
   "execution_count": 5,
   "outputs": [],
   "source": [
    "# Selecting hrctv_volume values of patients having 3B stage tumour\n",
    "hrctv_3B_volume = df.loc[df['T'] == '3B'][['id','hrctv_volume']]"
   ],
   "metadata": {
    "collapsed": false,
    "pycharm": {
     "name": "#%%\n"
    }
   }
  },
  {
   "cell_type": "markdown",
   "source": [
    "## Descriptive statistics of hrctv_volume\n",
    "The values of hrctv_volume has the following statistics."
   ],
   "metadata": {
    "collapsed": false
   }
  },
  {
   "cell_type": "code",
   "execution_count": 6,
   "outputs": [
    {
     "name": "stdout",
     "output_type": "stream",
     "text": [
      "Descriptive statistics\n"
     ]
    },
    {
     "data": {
      "text/plain": "               id  hrctv_volume\ncount   44.000000     44.000000\nmean   147.045455     28.765909\nstd     21.743702      9.447848\nmin    104.000000     10.500000\n25%    131.750000     23.725000\n50%    147.500000     27.100000\n75%    164.500000     33.925000\nmax    184.000000     65.900000",
      "text/html": "<div>\n<style scoped>\n    .dataframe tbody tr th:only-of-type {\n        vertical-align: middle;\n    }\n\n    .dataframe tbody tr th {\n        vertical-align: top;\n    }\n\n    .dataframe thead th {\n        text-align: right;\n    }\n</style>\n<table border=\"1\" class=\"dataframe\">\n  <thead>\n    <tr style=\"text-align: right;\">\n      <th></th>\n      <th>id</th>\n      <th>hrctv_volume</th>\n    </tr>\n  </thead>\n  <tbody>\n    <tr>\n      <th>count</th>\n      <td>44.000000</td>\n      <td>44.000000</td>\n    </tr>\n    <tr>\n      <th>mean</th>\n      <td>147.045455</td>\n      <td>28.765909</td>\n    </tr>\n    <tr>\n      <th>std</th>\n      <td>21.743702</td>\n      <td>9.447848</td>\n    </tr>\n    <tr>\n      <th>min</th>\n      <td>104.000000</td>\n      <td>10.500000</td>\n    </tr>\n    <tr>\n      <th>25%</th>\n      <td>131.750000</td>\n      <td>23.725000</td>\n    </tr>\n    <tr>\n      <th>50%</th>\n      <td>147.500000</td>\n      <td>27.100000</td>\n    </tr>\n    <tr>\n      <th>75%</th>\n      <td>164.500000</td>\n      <td>33.925000</td>\n    </tr>\n    <tr>\n      <th>max</th>\n      <td>184.000000</td>\n      <td>65.900000</td>\n    </tr>\n  </tbody>\n</table>\n</div>"
     },
     "execution_count": 6,
     "metadata": {},
     "output_type": "execute_result"
    }
   ],
   "source": [
    "print(\"Descriptive statistics\")\n",
    "hrctv_volume.describe()"
   ],
   "metadata": {
    "collapsed": false,
    "pycharm": {
     "name": "#%%\n"
    }
   }
  },
  {
   "cell_type": "code",
   "execution_count": 7,
   "outputs": [
    {
     "data": {
      "text/plain": "<AxesSubplot:xlabel='hrctv_volume', ylabel='Count'>"
     },
     "execution_count": 7,
     "metadata": {},
     "output_type": "execute_result"
    },
    {
     "data": {
      "text/plain": "<Figure size 432x288 with 1 Axes>",
      "image/png": "[encoded data removed]"
     },
     "metadata": {
      "needs_background": "light"
     },
     "output_type": "display_data"
    }
   ],
   "source": [
    "sns.histplot(hrctv_volume['hrctv_volume'],bins=20,kde=True)"
   ],
   "metadata": {
    "collapsed": false,
    "pycharm": {
     "name": "#%%\n"
    }
   }
  },
  {
   "cell_type": "code",
   "execution_count": 8,
   "outputs": [
    {
     "name": "stdout",
     "output_type": "stream",
     "text": [
      "95% confidence interval for the population mean value\n"
     ]
    },
    {
     "data": {
      "text/plain": "(25.89350073106133, 31.63831745075685)"
     },
     "execution_count": 8,
     "metadata": {},
     "output_type": "execute_result"
    }
   ],
   "source": [
    "print(\"95% confidence interval for the population mean value\")\n",
    "data = hrctv_volume['hrctv_volume']\n",
    "stats.t.interval(alpha=0.95, df=len(data)-1, loc=np.mean(data), scale=stats.sem(data))"
   ],
   "metadata": {
    "collapsed": false,
    "pycharm": {
     "name": "#%%\n"
    }
   }
  },
  {
   "cell_type": "markdown",
   "source": [
    "## Descriptive statistics of hrctv_volume of patients with 2B tumour stage"
   ],
   "metadata": {
    "collapsed": false
   }
  },
  {
   "cell_type": "code",
   "execution_count": 9,
   "outputs": [
    {
     "name": "stdout",
     "output_type": "stream",
     "text": [
      "Descriptive statistics of hrctv_volume values of patients at 2B stage\n"
     ]
    },
    {
     "data": {
      "text/plain": "               id  hrctv_volume\ncount   27.000000     27.000000\nmean   149.962963     29.162963\nstd     22.461046      7.548415\nmin    104.000000     16.000000\n25%    134.500000     23.900000\n50%    149.000000     27.000000\n75%    170.000000     34.400000\nmax    184.000000     44.500000",
      "text/html": "<div>\n<style scoped>\n    .dataframe tbody tr th:only-of-type {\n        vertical-align: middle;\n    }\n\n    .dataframe tbody tr th {\n        vertical-align: top;\n    }\n\n    .dataframe thead th {\n        text-align: right;\n    }\n</style>\n<table border=\"1\" class=\"dataframe\">\n  <thead>\n    <tr style=\"text-align: right;\">\n      <th></th>\n      <th>id</th>\n      <th>hrctv_volume</th>\n    </tr>\n  </thead>\n  <tbody>\n    <tr>\n      <th>count</th>\n      <td>27.000000</td>\n      <td>27.000000</td>\n    </tr>\n    <tr>\n      <th>mean</th>\n      <td>149.962963</td>\n      <td>29.162963</td>\n    </tr>\n    <tr>\n      <th>std</th>\n      <td>22.461046</td>\n      <td>7.548415</td>\n    </tr>\n    <tr>\n      <th>min</th>\n      <td>104.000000</td>\n      <td>16.000000</td>\n    </tr>\n    <tr>\n      <th>25%</th>\n      <td>134.500000</td>\n      <td>23.900000</td>\n    </tr>\n    <tr>\n      <th>50%</th>\n      <td>149.000000</td>\n      <td>27.000000</td>\n    </tr>\n    <tr>\n      <th>75%</th>\n      <td>170.000000</td>\n      <td>34.400000</td>\n    </tr>\n    <tr>\n      <th>max</th>\n      <td>184.000000</td>\n      <td>44.500000</td>\n    </tr>\n  </tbody>\n</table>\n</div>"
     },
     "execution_count": 9,
     "metadata": {},
     "output_type": "execute_result"
    }
   ],
   "source": [
    "print(\"Descriptive statistics of hrctv_volume values of patients at 2B stage\")\n",
    "hrctv_2B_volume.describe()\n"
   ],
   "metadata": {
    "collapsed": false,
    "pycharm": {
     "name": "#%%\n"
    }
   }
  },
  {
   "cell_type": "code",
   "execution_count": 10,
   "outputs": [
    {
     "data": {
      "text/plain": "<AxesSubplot:xlabel='hrctv_volume', ylabel='Count'>"
     },
     "execution_count": 10,
     "metadata": {},
     "output_type": "execute_result"
    },
    {
     "data": {
      "text/plain": "<Figure size 432x288 with 1 Axes>",
      "image/png": "[encoded data removed]"
     },
     "metadata": {
      "needs_background": "light"
     },
     "output_type": "display_data"
    }
   ],
   "source": [
    "sns.histplot(hrctv_2B_volume['hrctv_volume'],bins=20,kde=True)"
   ],
   "metadata": {
    "collapsed": false,
    "pycharm": {
     "name": "#%%\n"
    }
   }
  },
  {
   "cell_type": "code",
   "execution_count": 11,
   "outputs": [
    {
     "name": "stdout",
     "output_type": "stream",
     "text": [
      "95% confidence interval for the population mean value\n"
     ]
    },
    {
     "data": {
      "text/plain": "(26.176909270052015, 32.1490166558739)"
     },
     "execution_count": 11,
     "metadata": {},
     "output_type": "execute_result"
    }
   ],
   "source": [
    "print(\"95% confidence interval for the population mean value\")\n",
    "data = hrctv_2B_volume['hrctv_volume']\n",
    "stats.t.interval(alpha=0.95, df=len(data)-1, loc=np.mean(data), scale=stats.sem(data))"
   ],
   "metadata": {
    "collapsed": false,
    "pycharm": {
     "name": "#%%\n"
    }
   }
  },
  {
   "cell_type": "markdown",
   "source": [
    "## Descriptive statistics of hrctv_volume of patients with 3B tumour stage"
   ],
   "metadata": {
    "collapsed": false
   }
  },
  {
   "cell_type": "code",
   "execution_count": 12,
   "metadata": {
    "pycharm": {
     "name": "#%%\n"
    }
   },
   "outputs": [
    {
     "name": "stdout",
     "output_type": "stream",
     "text": [
      "Descriptive statistics of hrctv_volume values of patients at 3B stage\n"
     ]
    },
    {
     "data": {
      "text/plain": "               id  hrctv_volume\ncount   16.000000     16.000000\nmean   141.687500     28.237500\nstd     20.777291     12.497886\nmin    109.000000     10.500000\n25%    127.750000     21.050000\n50%    137.500000     28.050000\n75%    158.250000     31.875000\nmax    179.000000     65.900000",
      "text/html": "<div>\n<style scoped>\n    .dataframe tbody tr th:only-of-type {\n        vertical-align: middle;\n    }\n\n    .dataframe tbody tr th {\n        vertical-align: top;\n    }\n\n    .dataframe thead th {\n        text-align: right;\n    }\n</style>\n<table border=\"1\" class=\"dataframe\">\n  <thead>\n    <tr style=\"text-align: right;\">\n      <th></th>\n      <th>id</th>\n      <th>hrctv_volume</th>\n    </tr>\n  </thead>\n  <tbody>\n    <tr>\n      <th>count</th>\n      <td>16.000000</td>\n      <td>16.000000</td>\n    </tr>\n    <tr>\n      <th>mean</th>\n      <td>141.687500</td>\n      <td>28.237500</td>\n    </tr>\n    <tr>\n      <th>std</th>\n      <td>20.777291</td>\n      <td>12.497886</td>\n    </tr>\n    <tr>\n      <th>min</th>\n      <td>109.000000</td>\n      <td>10.500000</td>\n    </tr>\n    <tr>\n      <th>25%</th>\n      <td>127.750000</td>\n      <td>21.050000</td>\n    </tr>\n    <tr>\n      <th>50%</th>\n      <td>137.500000</td>\n      <td>28.050000</td>\n    </tr>\n    <tr>\n      <th>75%</th>\n      <td>158.250000</td>\n      <td>31.875000</td>\n    </tr>\n    <tr>\n      <th>max</th>\n      <td>179.000000</td>\n      <td>65.900000</td>\n    </tr>\n  </tbody>\n</table>\n</div>"
     },
     "execution_count": 12,
     "metadata": {},
     "output_type": "execute_result"
    }
   ],
   "source": [
    "print(\"Descriptive statistics of hrctv_volume values of patients at 3B stage\")\n",
    "hrctv_3B_volume.describe()"
   ]
  },
  {
   "cell_type": "code",
   "execution_count": 13,
   "outputs": [
    {
     "data": {
      "text/plain": "<AxesSubplot:xlabel='hrctv_volume', ylabel='Count'>"
     },
     "execution_count": 13,
     "metadata": {},
     "output_type": "execute_result"
    },
    {
     "data": {
      "text/plain": "<Figure size 432x288 with 1 Axes>",
      "image/png": "[encoded data removed]"
     },
     "metadata": {
      "needs_background": "light"
     },
     "output_type": "display_data"
    }
   ],
   "source": [
    "sns.histplot(hrctv_3B_volume['hrctv_volume'],bins=20,kde=True)"
   ],
   "metadata": {
    "collapsed": false,
    "pycharm": {
     "name": "#%%\n"
    }
   }
  },
  {
   "cell_type": "code",
   "execution_count": 14,
   "outputs": [
    {
     "name": "stdout",
     "output_type": "stream",
     "text": [
      "95% confidence interval for the population mean value\n"
     ]
    },
    {
     "data": {
      "text/plain": "(21.57784638118078, 34.89715361881923)"
     },
     "execution_count": 14,
     "metadata": {},
     "output_type": "execute_result"
    }
   ],
   "source": [
    "print(\"95% confidence interval for the population mean value\")\n",
    "data = hrctv_3B_volume['hrctv_volume']\n",
    "stats.t.interval(alpha=0.95, df=len(data)-1, loc=np.mean(data), scale=stats.sem(data))"
   ],
   "metadata": {
    "collapsed": false,
    "pycharm": {
     "name": "#%%\n"
    }
   }
  },
  {
   "cell_type": "code",
   "execution_count": 15,
   "metadata": {
    "pycharm": {
     "name": "#%%\n"
    }
   },
   "outputs": [
    {
     "data": {
      "text/plain": "<AxesSubplot:xlabel='hrctv_volume', ylabel='Count'>"
     },
     "execution_count": 15,
     "metadata": {},
     "output_type": "execute_result"
    },
    {
     "data": {
      "text/plain": "<Figure size 1080x720 with 1 Axes>",
      "image/png": "[encoded data removed]"
     },
     "metadata": {
      "needs_background": "light"
     },
     "output_type": "display_data"
    }
   ],
   "source": [
    "plt.figure(figsize=(15,10))\n",
    "sns.histplot(hrctv_2B_volume['hrctv_volume'],bins=38,kde=True)\n",
    "sns.histplot(hrctv_3B_volume['hrctv_volume'],color='green',bins=30,kde=True)\n"
   ]
  },
  {
   "cell_type": "markdown",
   "metadata": {
    "pycharm": {
     "name": "#%% md\n"
    }
   },
   "source": [
    "---\n",
    "## Comparative analysis of hrctv_volume values for 2B and 3B tumour stages."
   ]
  },
  {
   "cell_type": "code",
   "execution_count": 16,
   "outputs": [
    {
     "name": "stdout",
     "output_type": "stream",
     "text": [
      "Testing values of hrctv_2B_volume and hrctv_3B_volume if the two population means are equal.\n",
      "The test statistic is: -0.30372247895864574. The p_value is: 0.7628753671443148.\n",
      "H0 = The two population means are equal.\n",
      "HA = The two population means are not equal.\n",
      "The alpha is: 0.05\n",
      "The null hypothesis cannot be rejected because the p value is more than alpha.\n"
     ]
    }
   ],
   "source": [
    "# Two sample T-test for population mean equality\n",
    "alpha = 0.05\n",
    "statistic,p_value = stats.ttest_ind(hrctv_3B_volume['hrctv_volume'], hrctv_2B_volume['hrctv_volume'], equal_var=True)\n",
    "print (\"Testing values of hrctv_2B_volume and hrctv_3B_volume if the two population means are equal.\"+\"\\nThe test statistic is: {}. The p_value is: {}.\".format(statistic,p_value))\n",
    "print(\"H0 = The two population means are equal.\"+\"\\nHA = The two population means are not equal.\"+\"\\nThe alpha is: 0.05\")\n",
    "if p_value < alpha:\n",
    "    print(\"The null hypothesis can be rejected because the p value is less than alpha.\")\n",
    "else:\n",
    "    print(\"The null hypothesis cannot be rejected because the p value is more than alpha.\")"
   ],
   "metadata": {
    "collapsed": false,
    "pycharm": {
     "name": "#%%\n"
    }
   }
  },
  {
   "cell_type": "code",
   "execution_count": 17,
   "outputs": [
    {
     "name": "stdout",
     "output_type": "stream",
     "text": [
      "Testing values of hrctv_3B_volume for normality using the Shapiro-Wilk test.\n",
      "The test statistic is: 0.8539825677871704. The p_value is: 0.015600845217704773.\n",
      "H0 = The sample comes from a normal distribution.\n",
      "HA = The sample is not coming from normal distribution.\n",
      "The alpha is: 0.05\n",
      "The null hypothesis can be rejected because the p value is less than alpha.\n"
     ]
    }
   ],
   "source": [
    "#Testing for normality\n",
    "alpha = 0.05\n",
    "statistic,p_value = shapiro(hrctv_3B_volume['hrctv_volume'])\n",
    "print (\"Testing values of hrctv_3B_volume for normality using the Shapiro-Wilk test.\"+\"\\nThe test statistic is: {}. The p_value is: {}.\".format(statistic,p_value))\n",
    "print(\"H0 = The sample comes from a normal distribution.\"+\"\\nHA = The sample is not coming from normal distribution.\"+\"\\nThe alpha is: 0.05\")\n",
    "if p_value < alpha:\n",
    "    print(\"The null hypothesis can be rejected because the p value is less than alpha.\")\n",
    "else:\n",
    "    print(\"The null hypothesis cannot be rejected because the p value is more than alpha.\")"
   ],
   "metadata": {
    "collapsed": false,
    "pycharm": {
     "name": "#%%\n"
    }
   }
  },
  {
   "cell_type": "code",
   "execution_count": 18,
   "outputs": [
    {
     "name": "stdout",
     "output_type": "stream",
     "text": [
      "Testing values of hrctv_3B_volume for normality using the Shapiro-Wilk test.\n",
      "The test statistic is: 0.9518346190452576. The p_value is: 0.23746147751808167.\n",
      "H0 = The sample comes from a normal distribution.\n",
      "HA = The sample is not coming from normal distribution.\n",
      "The alpha is: 0.05\n",
      "The null hypothesis cannot be rejected because the p value is more than alpha.\n"
     ]
    }
   ],
   "source": [
    "#Testing for normality\n",
    "alpha = 0.05\n",
    "statistic,p_value = shapiro(hrctv_2B_volume['hrctv_volume'])\n",
    "print (\"Testing values of hrctv_3B_volume for normality using the Shapiro-Wilk test.\"+\"\\nThe test statistic is: {}. The p_value is: {}.\".format(statistic,p_value))\n",
    "print(\"H0 = The sample comes from a normal distribution.\"+\"\\nHA = The sample is not coming from normal distribution.\"+\"\\nThe alpha is: 0.05\")\n",
    "if p_value < alpha:\n",
    "    print(\"The null hypothesis can be rejected because the p value is less than alpha.\")\n",
    "else:\n",
    "    print(\"The null hypothesis cannot be rejected because the p value is more than alpha.\")"
   ],
   "metadata": {
    "collapsed": false,
    "pycharm": {
     "name": "#%%\n"
    }
   }
  },
  {
   "cell_type": "markdown",
   "source": [
    "---\n",
    "The results of the paired t-test show that we have sufficient evidence to say that the mean values of two groups are different. '\n",
    "Now, we perform one-tailed version of the paired t-test to test whether values of hrctv_3B_volume are less than the values of hrctv_2B_volume."
   ],
   "metadata": {
    "collapsed": false
   }
  },
  {
   "cell_type": "code",
   "execution_count": 19,
   "outputs": [
    {
     "name": "stdout",
     "output_type": "stream",
     "text": [
      "Testing values of hrctv_3B_volume and hrctv_-B_volume if the two population means are equal.\n",
      "The test statistic is: -0.30372247895864574. The p_value is: 0.3814376835721574.\n",
      "H0 = The two population means are equal.\n",
      "HA = The population mean of hrctv_3B_volume is less than hrctv_2B_volume.\n",
      "The alpha is: 0.05\n",
      "The null hypothesis cannot be rejected because the p value is more than alpha.\n"
     ]
    }
   ],
   "source": [
    "alpha = 0.05\n",
    "statistic,p_value = stats.ttest_ind(hrctv_3B_volume['hrctv_volume'], hrctv_2B_volume['hrctv_volume'], alternative='less' )\n",
    "print (\"Testing values of hrctv_3B_volume and hrctv_-B_volume if the two population means are equal.\"+\"\\nThe test statistic is: {}. The p_value is: {}.\".format(statistic,p_value))\n",
    "print(\"H0 = The two population means are equal.\"+\"\\nHA = The population mean of hrctv_3B_volume is less than hrctv_2B_volume.\"+\"\\nThe alpha is: 0.05\")\n",
    "if p_value < alpha:\n",
    "    print(\"The null hypothesis can be rejected because the p value is less than alpha.\")\n",
    "else:\n",
    "    print(\"The null hypothesis cannot be rejected because the p value is more than alpha.\")"
   ],
   "metadata": {
    "collapsed": false,
    "pycharm": {
     "name": "#%%\n"
    }
   }
  },
  {
   "cell_type": "markdown",
   "source": [
    "---\n",
    "Finding 95 percent confidence interval for the difference of means of hrctv_2B_volume and hrctv_3B_volume"
   ],
   "metadata": {
    "collapsed": false
   }
  },
  {
   "cell_type": "code",
   "execution_count": 20,
   "outputs": [
    {
     "name": "stdout",
     "output_type": "stream",
     "text": [
      "(-7.079141053438275, 5.228215127512354)\n"
     ]
    }
   ],
   "source": [
    "cm = sms.CompareMeans(sms.DescrStatsW(hrctv_3B_volume['hrctv_volume']), sms.DescrStatsW(hrctv_2B_volume['hrctv_volume']))\n",
    "print (cm.tconfint_diff(usevar='pooled'))"
   ],
   "metadata": {
    "collapsed": false,
    "pycharm": {
     "name": "#%%\n"
    }
   }
  },
  {
   "cell_type": "code",
   "execution_count": 21,
   "outputs": [
    {
     "name": "stdout",
     "output_type": "stream",
     "text": [
      "-0.9254629629629534\n"
     ]
    }
   ],
   "source": [
    "mean_diff = hrctv_3B_volume['hrctv_volume'].mean() - hrctv_2B_volume['hrctv_volume'].mean()\n",
    "print(mean_diff)"
   ],
   "metadata": {
    "collapsed": false,
    "pycharm": {
     "name": "#%%\n"
    }
   }
  },
  {
   "cell_type": "code",
   "execution_count": 22,
   "outputs": [
    {
     "data": {
      "text/plain": "<class 'statsmodels.iolib.table.SimpleTable'>",
      "text/html": "<table class=\"simpletable\">\n<caption>Test for equality of means</caption>\n<tr>\n      <td></td>         <th>coef</th>     <th>std err</th>      <th>t</th>      <th>P>|t|</th>  <th>[0.025</th>    <th>0.975]</th>  \n</tr>\n<tr>\n  <th>subset #1</th> <td>   -0.9255</td> <td>    3.047</td> <td>   -0.304</td> <td> 0.763</td> <td>   -7.079</td> <td>    5.228</td>\n</tr>\n</table>"
     },
     "execution_count": 22,
     "metadata": {},
     "output_type": "execute_result"
    }
   ],
   "source": [
    "cm.summary()"
   ],
   "metadata": {
    "collapsed": false,
    "pycharm": {
     "name": "#%%\n"
    }
   }
  },
  {
   "cell_type": "markdown",
   "source": [
    "---\n",
    "### Testing for normality\n",
    "Many statistical tests works on the assumptions that the data is normally distributed. Therefore, it is important to determine the normality of distributions of all variables.\n",
    "### Graphical methods\n",
    "#### Histograms\n",
    "The distribution of the variables can be understood visually by assessing histogram plots. The histogram of hrctv_volume values of patients at 2B stage indicate that it is a symmetrical distribution. However, it does not have visually clear peeking around the median value. The plot looks flatter than the normal distribution.\n",
    "\n",
    "On the other hand, the histogram of patients at 3B stage shows that the distribution is right-skewed.\n"
   ],
   "metadata": {
    "collapsed": false,
    "pycharm": {
     "name": "#%% md\n"
    }
   }
  },
  {
   "cell_type": "code",
   "execution_count": 23,
   "metadata": {
    "pycharm": {
     "name": "#%%\n"
    }
   },
   "outputs": [
    {
     "name": "stdout",
     "output_type": "stream",
     "text": [
      "The histogram of hrctv_volume values of patients at 2B stage\n"
     ]
    },
    {
     "data": {
      "text/plain": "<AxesSubplot:ylabel='Frequency'>"
     },
     "execution_count": 23,
     "metadata": {},
     "output_type": "execute_result"
    },
    {
     "data": {
      "text/plain": "<Figure size 576x360 with 1 Axes>",
      "image/png": "[encoded data removed]"
     },
     "metadata": {},
     "output_type": "display_data"
    }
   ],
   "source": [
    "print(\"The histogram of hrctv_volume values of patients at 2B stage\")\n",
    "plt.style.use('ggplot')\n",
    "hrctv_2B_volume['hrctv_volume'].plot.hist(color='blue',figsize=(8,5),bins=15, alpha=0.7, legend=True)"
   ]
  },
  {
   "cell_type": "code",
   "execution_count": 24,
   "metadata": {
    "pycharm": {
     "name": "#%%\n"
    }
   },
   "outputs": [
    {
     "name": "stdout",
     "output_type": "stream",
     "text": [
      "The histogram of hrctv_volume values of patients at 3B stage\n"
     ]
    },
    {
     "data": {
      "text/plain": "<AxesSubplot:ylabel='Frequency'>"
     },
     "execution_count": 24,
     "metadata": {},
     "output_type": "execute_result"
    },
    {
     "data": {
      "text/plain": "<Figure size 576x360 with 1 Axes>",
      "image/png": "[encoded data removed]"
     },
     "metadata": {},
     "output_type": "display_data"
    }
   ],
   "source": [
    "print(\"The histogram of hrctv_volume values of patients at 3B stage\")\n",
    "plt.style.use('ggplot')\n",
    "hrctv_3B_volume['hrctv_volume'].plot.hist(color='green',figsize=(8,5),bins=15, alpha=0.7, legend=True)"
   ]
  },
  {
   "cell_type": "markdown",
   "metadata": {
    "pycharm": {
     "name": "#%% md\n"
    }
   },
   "source": [
    "#### Q-Q plots\n",
    "A Q-Q plot is a scatter plot with two sets of quantiles against each other. If both sets of quantiles are coming from the same distribution, the points will make a line that’s roughly straight. The two graphs below compare quantiles of hrctv_volume against the theoretical quantile from the normal distribution."
   ]
  },
  {
   "cell_type": "code",
   "execution_count": 25,
   "metadata": {
    "pycharm": {
     "name": "#%%\n"
    }
   },
   "outputs": [
    {
     "data": {
      "text/plain": "<Figure size 432x288 with 1 Axes>",
      "image/png": "[encoded data removed]"
     },
     "metadata": {},
     "output_type": "display_data"
    }
   ],
   "source": [
    "#Create Q-Q plot with 45-degree line added to plot\n",
    "fig = sm.qqplot(hrctv_2B_volume['hrctv_volume'], line='45')\n",
    "\n",
    "plt.xlabel('Theoretical Quantiles')\n",
    "plt.ylabel('hrctv_2B_volume Quantiles')\n",
    "plt.show()"
   ]
  },
  {
   "cell_type": "code",
   "execution_count": 26,
   "metadata": {
    "pycharm": {
     "name": "#%%\n"
    }
   },
   "outputs": [
    {
     "data": {
      "text/plain": "<Figure size 432x288 with 1 Axes>",
      "image/png": "[encoded data removed]"
     },
     "metadata": {},
     "output_type": "display_data"
    }
   ],
   "source": [
    "#Create Q-Q plot with 45-degree line added to plot\n",
    "sm.qqplot(hrctv_3B_volume['hrctv_volume'], line='45')\n",
    "plt.xlabel('Theoretical Quantiles')\n",
    "plt.ylabel('hrctv_3B_volume Quantiles')\n",
    "plt.show()"
   ]
  },
  {
   "cell_type": "markdown",
   "metadata": {
    "pycharm": {
     "name": "#%% md\n"
    }
   },
   "source": [
    "Let's compare the QQ-plots above for hrctv_volume variables with the QQ-plot below of an array of similar size containing integers randomly drawn from a standard normal distribution. It can be clearly noticed that the distributions of hrctv_volume variables are not normal."
   ]
  },
  {
   "cell_type": "code",
   "execution_count": 27,
   "metadata": {
    "pycharm": {
     "name": "#%%\n"
    }
   },
   "outputs": [],
   "source": [
    "normDist = np.random.randn(35)"
   ]
  },
  {
   "cell_type": "code",
   "execution_count": 28,
   "metadata": {
    "pycharm": {
     "name": "#%%\n"
    }
   },
   "outputs": [
    {
     "name": "stderr",
     "output_type": "stream",
     "text": [
      "C:\\Users\\gdbt0\\anaconda3\\envs\\cancer\\lib\\site-packages\\statsmodels\\graphics\\gofplots.py:1045: UserWarning: color is redundantly defined by the 'color' keyword argument and the fmt string \"b\" (-> color=(0.0, 0.0, 1.0, 1)). The keyword argument will take precedence.\n",
      "  ax.plot(x, y, fmt, **plot_style)\n"
     ]
    },
    {
     "data": {
      "text/plain": "<Figure size 432x288 with 1 Axes>",
      "image/png": "[encoded data removed]"
     },
     "metadata": {},
     "output_type": "display_data"
    }
   ],
   "source": [
    "sm.qqplot(normDist, line='45', color='yellow')\n",
    "plt.xlabel('Theoretical Quantiles')\n",
    "plt.ylabel('Normal Quantiles')\n",
    "plt.show()"
   ]
  },
  {
   "cell_type": "markdown",
   "metadata": {
    "pycharm": {
     "name": "#%% md\n"
    }
   },
   "source": [
    "#### Boxplots\n",
    "\n",
    "A boxplot is a graphical depiction of numerical data through their quartiles. It is used to detect outliers and understand the distribution of the data. Boxplots show that hrctv_2B_volume is right-skewed whereas hrctv_3B_volume is approximately symmetrical with a couple of high outliers."
   ]
  },
  {
   "cell_type": "code",
   "execution_count": 29,
   "metadata": {
    "pycharm": {
     "name": "#%%\n"
    }
   },
   "outputs": [
    {
     "data": {
      "text/plain": "<AxesSubplot:title={'center':'hrctv_2B_volume'}>"
     },
     "execution_count": 29,
     "metadata": {},
     "output_type": "execute_result"
    },
    {
     "data": {
      "text/plain": "<Figure size 432x288 with 1 Axes>",
      "image/png": "[encoded data removed]"
     },
     "metadata": {},
     "output_type": "display_data"
    }
   ],
   "source": [
    "hrctv_2B_volume['hrctv_volume'].plot.box(title=\"hrctv_2B_volume\")"
   ]
  },
  {
   "cell_type": "code",
   "execution_count": 30,
   "metadata": {
    "pycharm": {
     "name": "#%%\n"
    }
   },
   "outputs": [
    {
     "data": {
      "text/plain": "<AxesSubplot:title={'center':'hrctv_3B_volume'}>"
     },
     "execution_count": 30,
     "metadata": {},
     "output_type": "execute_result"
    },
    {
     "data": {
      "text/plain": "<Figure size 432x288 with 1 Axes>",
      "image/png": "[encoded data removed]"
     },
     "metadata": {},
     "output_type": "display_data"
    }
   ],
   "source": [
    "hrctv_3B_volume['hrctv_volume'].plot.box(title=\"hrctv_3B_volume\")"
   ]
  },
  {
   "cell_type": "markdown",
   "metadata": {
    "pycharm": {
     "name": "#%% md\n"
    }
   },
   "source": [
    "### Statistical tests\n",
    "Graphical illustrations of distributions provide with a quick overview on their shapes. Now, let's test for normality using statistical tests.\n",
    "\n",
    "#### D’Agostino’s K-squared test\n",
    "This tests whether a sample differs from a normal distribution.\n",
    "\n",
    "H0 = The sample comes from a normal distribution.\n",
    "\n",
    "\n",
    "\n",
    "It is based on D’Agostino and Pearson’s [1], [2] test that combines skew and kurtosis to produce an omnibus test of normality. In Python, [scipy.stats.normaltest](https://docs.scipy.org/doc/scipy/reference/generated/scipy.stats.normaltest.html) is used to test this. It gives the statistic which is s^2 + k^2, where s is the z-score returned by skew test and k is the z-score returned by kurtosis test and p-value, i.e., 2-sided chi squared probability for the hypothesis test. After using alpha value of 0.05, below results were found."
   ]
  },
  {
   "cell_type": "code",
   "execution_count": 31,
   "metadata": {
    "pycharm": {
     "name": "#%%\n"
    }
   },
   "outputs": [
    {
     "name": "stdout",
     "output_type": "stream",
     "text": [
      "Testing values of hrctv_2B_volume for normality using the D’Agostino’s K-squared test.\n",
      "The test statistics is: 1.9703555179696495. The p_value is: 0.37337285065845166.\n",
      "H0 = The sample comes from a normal distribution.\n",
      "HA = The sample is not coming from normal distribution.\n",
      "The alpha is: 0.05\n",
      "The null hypothesis cannot be rejected because the p value is more than alpha.\n"
     ]
    }
   ],
   "source": [
    "# D’Agostino’s K-squared test on hrctv_2B_volume\n",
    "alpha = 0.05\n",
    "statistic,p_value = stats.normaltest(hrctv_2B_volume['hrctv_volume'])\n",
    "print (\"Testing values of hrctv_2B_volume for normality using the D’Agostino’s K-squared test.\"+\"\\nThe test statistics is: {}. The p_value is: {}.\".format(statistic,p_value))\n",
    "print(\"H0 = The sample comes from a normal distribution.\"+\"\\nHA = The sample is not coming from normal distribution.\"+\"\\nThe alpha is: 0.05\")\n",
    "if p_value < alpha:\n",
    "    print(\"The null hypothesis can be rejected because the p value is less than alpha.\")\n",
    "else:\n",
    "    print(\"The null hypothesis cannot be rejected because the p value is more than alpha.\")"
   ]
  },
  {
   "cell_type": "code",
   "execution_count": 32,
   "metadata": {
    "pycharm": {
     "name": "#%%\n"
    }
   },
   "outputs": [
    {
     "name": "stdout",
     "output_type": "stream",
     "text": [
      "Testing values of hrctv_3B_volume for normality using the D’Agostino’s K-squared test.\n",
      "The test statistics is: 15.756240866539514. The p_value is: 0.00037894463957661675.\n",
      "H0 = The sample comes from a normal distribution.\n",
      "HA = The sample is not coming from normal distribution.\n",
      "The alpha is: 0.05\n",
      "The null hypothesis can be rejected because the p value is less than alpha.\n"
     ]
    },
    {
     "name": "stderr",
     "output_type": "stream",
     "text": [
      "C:\\Users\\gdbt0\\anaconda3\\envs\\cancer\\lib\\site-packages\\scipy\\stats\\stats.py:1541: UserWarning: kurtosistest only valid for n>=20 ... continuing anyway, n=16\n",
      "  warnings.warn(\"kurtosistest only valid for n>=20 ... continuing \"\n"
     ]
    }
   ],
   "source": [
    "# D’Agostino’s K-squared test on hrctv_3B_volume\n",
    "alpha = 0.05\n",
    "statistic,p_value = stats.normaltest(hrctv_3B_volume['hrctv_volume'])\n",
    "print (\"Testing values of hrctv_3B_volume for normality using the D’Agostino’s K-squared test.\"+\"\\nThe test statistics is: {}. The p_value is: {}.\".format(statistic,p_value))\n",
    "print(\"H0 = The sample comes from a normal distribution.\"+\"\\nHA = The sample is not coming from normal distribution.\"+\"\\nThe alpha is: 0.05\")\n",
    "if p_value < alpha:\n",
    "    print(\"The null hypothesis can be rejected because the p value is less than alpha.\")\n",
    "else:\n",
    "    print(\"The null hypothesis cannot be rejected because the p value is more than alpha.\")"
   ]
  },
  {
   "cell_type": "markdown",
   "metadata": {
    "pycharm": {
     "name": "#%% md\n"
    }
   },
   "source": [
    "D’Agostino’s K-squared test failed to reject the null hypothesis that the sample comes from a population with normal distribution for the hrctv_2B_volume.\n",
    "\n",
    "However, the test rejected the null hypothesis for hrctv_3B_volume. From the graphical representations above we can see that there are only two outliers above the value of 50. Let's introduce an assumption that extreme outliers can be ignored during the research. With this assumption, let's remove the two outliers from the sample and run the normality test again."
   ]
  },
  {
   "cell_type": "code",
   "execution_count": 33,
   "metadata": {
    "pycharm": {
     "name": "#%%\n"
    }
   },
   "outputs": [
    {
     "data": {
      "text/plain": "               id  hrctv_volume\ncount   15.000000     15.000000\nmean   140.066667     25.726667\nstd     20.432700      7.699394\nmin    109.000000     10.500000\n25%    126.500000     20.900000\n50%    137.000000     27.900000\n75%    154.000000     31.200000\nmax    179.000000     39.000000",
      "text/html": "<div>\n<style scoped>\n    .dataframe tbody tr th:only-of-type {\n        vertical-align: middle;\n    }\n\n    .dataframe tbody tr th {\n        vertical-align: top;\n    }\n\n    .dataframe thead th {\n        text-align: right;\n    }\n</style>\n<table border=\"1\" class=\"dataframe\">\n  <thead>\n    <tr style=\"text-align: right;\">\n      <th></th>\n      <th>id</th>\n      <th>hrctv_volume</th>\n    </tr>\n  </thead>\n  <tbody>\n    <tr>\n      <th>count</th>\n      <td>15.000000</td>\n      <td>15.000000</td>\n    </tr>\n    <tr>\n      <th>mean</th>\n      <td>140.066667</td>\n      <td>25.726667</td>\n    </tr>\n    <tr>\n      <th>std</th>\n      <td>20.432700</td>\n      <td>7.699394</td>\n    </tr>\n    <tr>\n      <th>min</th>\n      <td>109.000000</td>\n      <td>10.500000</td>\n    </tr>\n    <tr>\n      <th>25%</th>\n      <td>126.500000</td>\n      <td>20.900000</td>\n    </tr>\n    <tr>\n      <th>50%</th>\n      <td>137.000000</td>\n      <td>27.900000</td>\n    </tr>\n    <tr>\n      <th>75%</th>\n      <td>154.000000</td>\n      <td>31.200000</td>\n    </tr>\n    <tr>\n      <th>max</th>\n      <td>179.000000</td>\n      <td>39.000000</td>\n    </tr>\n  </tbody>\n</table>\n</div>"
     },
     "execution_count": 33,
     "metadata": {},
     "output_type": "execute_result"
    }
   ],
   "source": [
    "hrctv_3B_volume = hrctv_3B_volume[hrctv_3B_volume['hrctv_volume']<50]\n",
    "hrctv_3B_volume.describe()\n"
   ]
  },
  {
   "cell_type": "code",
   "execution_count": 34,
   "metadata": {
    "pycharm": {
     "name": "#%%\n"
    }
   },
   "outputs": [
    {
     "name": "stdout",
     "output_type": "stream",
     "text": [
      "The histogram of hrctv_volume values of patients at 3B stage\n"
     ]
    },
    {
     "data": {
      "text/plain": "<AxesSubplot:ylabel='Frequency'>"
     },
     "execution_count": 34,
     "metadata": {},
     "output_type": "execute_result"
    },
    {
     "data": {
      "text/plain": "<Figure size 576x360 with 1 Axes>",
      "image/png": "[encoded data removed]"
     },
     "metadata": {},
     "output_type": "display_data"
    }
   ],
   "source": [
    "print(\"The histogram of hrctv_volume values of patients at 3B stage\")\n",
    "hrctv_3B_volume['hrctv_volume'].plot.hist(color='green',figsize=(8,5),bins=38, alpha=0.7, legend=True)"
   ]
  },
  {
   "cell_type": "code",
   "execution_count": 35,
   "metadata": {
    "pycharm": {
     "name": "#%%\n"
    }
   },
   "outputs": [
    {
     "name": "stdout",
     "output_type": "stream",
     "text": [
      "Testing values of hrctv_3B_volume for normality using the D’Agostino’s K-squared test.\n",
      "The test statistics is: 0.3444922344654414. The p_value is: 0.841771973083193.\n",
      "H0 = The sample comes from a normal distribution.\n",
      "HA = The sample is not coming from normal distribution.\n",
      "The alpha is: 0.05\n",
      "The null hypothesis cannot be rejected because the p value is more than alpha.\n"
     ]
    },
    {
     "name": "stderr",
     "output_type": "stream",
     "text": [
      "C:\\Users\\gdbt0\\anaconda3\\envs\\cancer\\lib\\site-packages\\scipy\\stats\\stats.py:1541: UserWarning: kurtosistest only valid for n>=20 ... continuing anyway, n=15\n",
      "  warnings.warn(\"kurtosistest only valid for n>=20 ... continuing \"\n"
     ]
    }
   ],
   "source": [
    "# D’Agostino’s K-squared test on hrctv_3B_volume\n",
    "alpha = 0.05\n",
    "statistic,p_value = stats.normaltest(hrctv_3B_volume['hrctv_volume'])\n",
    "print (\"Testing values of hrctv_3B_volume for normality using the D’Agostino’s K-squared test.\"+\"\\nThe test statistics is: {}. The p_value is: {}.\".format(statistic,p_value))\n",
    "print(\"H0 = The sample comes from a normal distribution.\"+\"\\nHA = The sample is not coming from normal distribution.\"+\"\\nThe alpha is: 0.05\")\n",
    "if p_value < alpha:\n",
    "    print(\"The null hypothesis can be rejected because the p value is less than alpha.\")\n",
    "else:\n",
    "    print(\"The null hypothesis cannot be rejected because the p value is more than alpha.\")"
   ]
  },
  {
   "cell_type": "markdown",
   "metadata": {
    "pycharm": {
     "name": "#%% md\n"
    }
   },
   "source": [
    "Now we can see that the D’Agostino’s K-squared test failed to reject the null hypothesis.\n",
    "\n",
    "#### Kolmogorov-Smirnov test\n",
    "\n",
    " This is a non-parametric test i.e., it has no assumption about the distribution of the data. Kolmogorov-Smirnov test is used to understand how well the distribution of sample data conforms to some theoretical distribution. In this, we compare between some theoretical cumulative distribution function, (Ft(x)), and a samples’ cumulative distribution function , (Fs(x)) where the sample is a random sample with unknown cumulative distribution function Fs(x). Precisely,\n",
    "\n",
    "H0: Fs(x) is equal to Ft(x) for all x from -inf. to inf.\n",
    "\n",
    "HA: Fs(x) is not equal to Ft(x) for at least one x\n",
    "\n",
    "In the kstest function, the parameter “alternative” is used for the alternative hypothesis with default value of “two-sided” and for “args”, ‘norm’ option is given to compare. Again, we can conclude, all the variables are not normally distributed as p-value is 0 in all variables.\n",
    "\n",
    "The datasets have to be standardized in order to be compared with the standard normal distribution."
   ]
  },
  {
   "cell_type": "code",
   "execution_count": 36,
   "metadata": {
    "pycharm": {
     "name": "#%%\n"
    }
   },
   "outputs": [],
   "source": [
    "# Standardisation to mean=0 and std=1.\n",
    "sample = hrctv_2B_volume['hrctv_volume']\n",
    "hrctv_2B_volume_stan = (sample - sample.mean())/sample.std()\n",
    "sample = hrctv_3B_volume['hrctv_volume']\n",
    "hrctv_3B_volume_stan = (sample - sample.mean())/sample.std()"
   ]
  },
  {
   "cell_type": "code",
   "execution_count": 37,
   "metadata": {
    "pycharm": {
     "name": "#%%\n"
    }
   },
   "outputs": [
    {
     "name": "stdout",
     "output_type": "stream",
     "text": [
      "Testing values of hrctv_2B_volume for normality using the K-S test.\n",
      "The test statistic is: 0.15814282662301504. The p_value is: 0.4624214708715565.\n",
      "H0 = The sample comes from a normal distribution.\n",
      "HA = The sample is not coming from normal distribution.\n",
      "The alpha is: 0.05\n",
      "The null hypothesis cannot be rejected because the p value is more than alpha.\n"
     ]
    }
   ],
   "source": [
    "# Kolmogorov-Smirnov test on hrctv_2B_volume\n",
    "\n",
    "statistic,p_value = stats.kstest(hrctv_2B_volume_stan, 'norm')\n",
    "print (\"Testing values of hrctv_2B_volume for normality using the K-S test.\"+\"\\nThe test statistic is: {}. The p_value is: {}.\".format(statistic,p_value))\n",
    "print(\"H0 = The sample comes from a normal distribution.\"+\"\\nHA = The sample is not coming from normal distribution.\"+\"\\nThe alpha is: 0.05\")\n",
    "if p_value < alpha:\n",
    "    print(\"The null hypothesis can be rejected because the p value is less than alpha.\")\n",
    "else:\n",
    "    print(\"The null hypothesis cannot be rejected because the p value is more than alpha.\")"
   ]
  },
  {
   "cell_type": "code",
   "execution_count": 38,
   "metadata": {
    "pycharm": {
     "name": "#%%\n"
    }
   },
   "outputs": [
    {
     "name": "stdout",
     "output_type": "stream",
     "text": [
      "Testing values of hrctv_3B_volume for normality using the K-S test.\n",
      "The test statistic is: 0.14446635507881977. The p_value is: 0.8699651255569589.\n",
      "H0 = The sample comes from a normal distribution.\n",
      "HA = The sample is not coming from normal distribution.\n",
      "The alpha is: 0.05\n",
      "The null hypothesis cannot be rejected because the p value is more than alpha.\n"
     ]
    }
   ],
   "source": [
    "# Kolmogorov-Smirnov test on hrctv_3B_volume\n",
    "\n",
    "statistic,p_value = stats.kstest(hrctv_3B_volume_stan, 'norm')\n",
    "print (\"Testing values of hrctv_3B_volume for normality using the K-S test.\"+\"\\nThe test statistic is: {}. The p_value is: {}.\".format(statistic,p_value))\n",
    "print(\"H0 = The sample comes from a normal distribution.\"+\"\\nHA = The sample is not coming from normal distribution.\"+\"\\nThe alpha is: 0.05\")\n",
    "if p_value < alpha:\n",
    "    print(\"The null hypothesis can be rejected because the p value is less than alpha.\")\n",
    "else:\n",
    "    print(\"The null hypothesis cannot be rejected because the p value is more than alpha.\")"
   ]
  },
  {
   "cell_type": "markdown",
   "metadata": {
    "pycharm": {
     "name": "#%% md\n"
    }
   },
   "source": [
    "In the case of K-S test, it reports that there are sufficient evidences to say that both sample come from the normal distribution.\n",
    "\n",
    "In summary, we have sufficient evidences from multiple tests to say that both samples, hrctv_3B_volume and hrctv_3B_volume come from the normal distribution.\n"
   ]
  },
  {
   "cell_type": "markdown",
   "metadata": {
    "pycharm": {
     "name": "#%% md\n"
    }
   },
   "source": [
    "## Two-sample tests\n",
    "\n",
    "#### Two sample Kolmogorov-Smirnov test\n",
    "This test is used to determine whether two samples came from the same distribution. Let's test our two samples if they came from the same distribution."
   ]
  },
  {
   "cell_type": "code",
   "execution_count": 39,
   "metadata": {
    "pycharm": {
     "name": "#%%\n"
    }
   },
   "outputs": [
    {
     "name": "stdout",
     "output_type": "stream",
     "text": [
      "Testing values of hrctv_2B_volume and hrctv_3B_volume if they cam from the same distribution using the K-S test.\n",
      "The test statistic is: 0.23703703703703705. The p_value is: 0.5612508563741871.\n",
      "H0 = The two samples come from the same distribution.\n",
      "HA = The two samples did not come from the same distribution.\n",
      "The alpha is: 0.05\n",
      "The null hypothesis cannot be rejected because the p value is more than alpha.\n"
     ]
    }
   ],
   "source": [
    "statistic,p_value = stats.ks_2samp(hrctv_3B_volume['hrctv_volume'], hrctv_2B_volume['hrctv_volume'])\n",
    "print (\"Testing values of hrctv_2B_volume and hrctv_3B_volume if they cam from the same distribution using the K-S test.\"+\"\\nThe test statistic is: {}. The p_value is: {}.\".format(statistic,p_value))\n",
    "print(\"H0 = The two samples come from the same distribution.\"+\"\\nHA = The two samples did not come from the same distribution.\"+\"\\nThe alpha is: 0.05\")\n",
    "if p_value < alpha:\n",
    "    print(\"The null hypothesis can be rejected because the p value is less than alpha.\")\n",
    "else:\n",
    "    print(\"The null hypothesis cannot be rejected because the p value is more than alpha.\")"
   ]
  },
  {
   "cell_type": "markdown",
   "metadata": {
    "pycharm": {
     "name": "#%% md\n"
    }
   },
   "source": [
    "The result of the two-sample Kolmogorov-Smirnov test indicates that we have sufficient evidence to say that the two sample datasets come from the same distribution. Which is true, since two samples are drawn from the Brachytherapy.hrctv_volume dataset.\n",
    "\n",
    "#### T-test\n",
    "\n",
    "T-test is a popular statistical test that is used to compare the means of two groups.  It is often used in hypothesis testing to determine whether a process or treatment actually has an effect on the population of interest. In our case, we use a two-sample t-test because we want to test the difference between two samples from a single population.\n",
    "\n",
    "First, let's perform a two tailed t-test to check whether the two samples are different from one another.\n",
    "\n",
    "For the results of a two sample t-test to be valid, the following assumptions should be met:\n",
    "\n",
    "1. The observations in one sample should be independent of the observations in the other sample.\n",
    "2. The data should be approximately normally distributed.\n",
    "3. The two samples should have approximately the same variance. If this assumption is not met, you should instead perform Welch’s t-test.\n",
    "4. The data in both samples was obtained using a random sampling method.\n",
    "\n",
    "Assumption 1. Independence\n",
    "\n",
    "The assumption is met because in our case, a patient belongs to only one sample.\n",
    "\n",
    "Assumption 2. Normality\n",
    "\n",
    "The assumption is met and sufficiently checked previously.\n",
    "\n",
    "Assumption 3. Homogeneity of variances\n",
    "\n",
    "We can use the following rule of thumb to determine if the variances between the two samples are equal: If the ratio of the larger variance to the smaller variance is less than 4, then we can assume the variances are approximately equal and use the two sample t-test."
   ]
  },
  {
   "cell_type": "code",
   "execution_count": 40,
   "metadata": {
    "pycharm": {
     "name": "#%%\n"
    }
   },
   "outputs": [
    {
     "name": "stdout",
     "output_type": "stream",
     "text": [
      "The ratio between two variances of sample groups are: 0.9611662402341771\n"
     ]
    }
   ],
   "source": [
    "#Checking for homogeneity of variances\n",
    "ratio = hrctv_2B_volume['hrctv_volume'].var() / hrctv_3B_volume['hrctv_volume'].var()\n",
    "print(\"The ratio between two variances of sample groups are: {}\".format(ratio))"
   ]
  },
  {
   "cell_type": "markdown",
   "metadata": {
    "pycharm": {
     "name": "#%% md\n"
    }
   },
   "source": [
    "The ratio between two variances is 1.29 < 4. Therefore, the assumption is met.\n",
    "\n",
    "Assumption 4\n",
    "\n",
    "A two sample t-test makes the assumption that both samples were obtained using a random sampling method. It is automatically assumed.\n",
    "\n",
    "Now, let's perform the test  since all assumptions are met."
   ]
  },
  {
   "cell_type": "code",
   "execution_count": 41,
   "metadata": {
    "pycharm": {
     "name": "#%%\n"
    }
   },
   "outputs": [
    {
     "name": "stdout",
     "output_type": "stream",
     "text": [
      "Testing values of hrctv_2B_volume and hrctv_3B_volume if the two population means are equal.\n",
      "The test statistic is: -1.4037459436220348. The p_value is: 0.1681109348756226.\n",
      "H0 = The two population means are equal.\n",
      "HA = The two population means are not equal.\n",
      "The alpha is: 0.05\n",
      "The null hypothesis cannot be rejected because the p value is more than alpha.\n"
     ]
    }
   ],
   "source": [
    "alpha = 0.05\n",
    "statistic,p_value = stats.ttest_ind(hrctv_3B_volume['hrctv_volume'], hrctv_2B_volume['hrctv_volume'], equal_var=True)\n",
    "print (\"Testing values of hrctv_2B_volume and hrctv_3B_volume if the two population means are equal.\"+\"\\nThe test statistic is: {}. The p_value is: {}.\".format(statistic,p_value))\n",
    "print(\"H0 = The two population means are equal.\"+\"\\nHA = The two population means are not equal.\"+\"\\nThe alpha is: 0.05\")\n",
    "if p_value < alpha:\n",
    "    print(\"The null hypothesis can be rejected because the p value is less than alpha.\")\n",
    "else:\n",
    "    print(\"The null hypothesis cannot be rejected because the p value is more than alpha.\")"
   ]
  },
  {
   "cell_type": "markdown",
   "metadata": {
    "pycharm": {
     "name": "#%% md\n"
    }
   },
   "source": [
    "The results of the two-tailed two sample t-test show that we do not have sufficient evidence to say that the mean values of hrctv_volume for patients of 2B and 3B stages are different."
   ]
  },
  {
   "cell_type": "code",
   "execution_count": 41,
   "metadata": {},
   "outputs": [],
   "source": [
    "\n"
   ]
  },
  {
   "cell_type": "code",
   "execution_count": null,
   "outputs": [],
   "source": [],
   "metadata": {
    "collapsed": false,
    "pycharm": {
     "name": "#%%\n"
    }
   }
  }
 ],
 "metadata": {
  "kernelspec": {
   "name": "pycharm-85d82135",
   "language": "python",
   "display_name": "PyCharm (cancer)"
  },
  "language_info": {
   "codemirror_mode": {
    "name": "ipython",
    "version": 3
   },
   "file_extension": ".py",
   "mimetype": "text/x-python",
   "name": "python",
   "nbconvert_exporter": "python",
   "pygments_lexer": "ipython3",
   "version": "3.8.8"
  }
 },
 "nbformat": 4,
 "nbformat_minor": 1
}