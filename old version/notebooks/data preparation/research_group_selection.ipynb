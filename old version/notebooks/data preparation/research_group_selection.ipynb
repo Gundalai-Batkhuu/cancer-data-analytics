{
 "cells": [
  {
   "cell_type": "markdown",
   "metadata": {
    "collapsed": true,
    "pycharm": {
     "name": "#%% md\n"
    }
   },
   "source": [
    "# Selecting the research variables\n",
    "\n",
    "In this notebook, I'm creating a joint table that contains all variables of interest. The sample size of the research group is determined by the number of patients for which we have complete data.\n",
    "\n",
    "The table is created by selecting and joining interim tables that contain the variables that we are using in the research.\n"
   ]
  },
  {
   "cell_type": "code",
   "execution_count": 53,
   "outputs": [],
   "source": [
    "#Importing packages\n",
    "import pandas as pd"
   ],
   "metadata": {
    "collapsed": false,
    "pycharm": {
     "name": "#%%\n"
    }
   }
  },
  {
   "cell_type": "markdown",
   "source": [
    "Create interim csv files for each sheet of the source excel file"
   ],
   "metadata": {
    "collapsed": false,
    "pycharm": {
     "name": "#%% md\n"
    }
   }
  },
  {
   "cell_type": "code",
   "execution_count": null,
   "outputs": [],
   "source": [
    "df = pd.ExcelFile(r\"C:\\Users\\gdbt0\\OneDrive\\Documents\\GitHub\\Projects\\cancer\\data\\raw\\database.xlsx\", None)\n",
    "sheetNames = df.sheet_names\n",
    "\n",
    "for name in sheetNames:\n",
    "    df = pd.read_excel(r\"C:\\Users\\gdbt0\\OneDrive\\Documents\\GitHub\\Projects\\cancer\\data\\raw\\database.xlsx\", sheet_name=name)\n",
    "    name = name.lower()\n",
    "    path = r\"C:\\Users\\gdbt0\\OneDrive\\Documents\\GitHub\\Projects\\cancer\\data\\interim\\{}.csv\".format(name)\n",
    "    df.to_csv(path, index = False)"
   ],
   "metadata": {
    "collapsed": false,
    "pycharm": {
     "name": "#%%\n"
    }
   }
  },
  {
   "cell_type": "code",
   "execution_count": 54,
   "outputs": [],
   "source": [
    "# Importing data from interim files\n",
    "diagnosis = pd.read_csv(r\"C:\\Users\\gdbt0\\OneDrive\\Documents\\GitHub\\Projects\\cancer\\data\\interim\\diagnosis.csv\")\n",
    "late_morbidity = pd.read_csv(r\"C:\\Users\\gdbt0\\OneDrive\\Documents\\GitHub\\Projects\\cancer\\data\\interim\\late morbidity.csv\")\n",
    "external_radiotherapy = pd.read_csv(r\"C:\\Users\\gdbt0\\OneDrive\\Documents\\GitHub\\Projects\\cancer\\data\\interim\\external beam radiotherapy.csv\")\n",
    "brachytherapy = pd.read_csv(r\"C:\\Users\\gdbt0\\OneDrive\\Documents\\GitHub\\Projects\\cancer\\data\\interim\\brachytherapy.csv\")\n",
    "response_status = pd.read_csv(r\"C:\\Users\\gdbt0\\OneDrive\\Documents\\GitHub\\Projects\\cancer\\data\\interim\\response status.csv\")\n",
    "patient = pd.read_csv(r\"C:\\Users\\gdbt0\\OneDrive\\Documents\\GitHub\\Projects\\cancer\\data\\interim\\patient.csv\")\n",
    "\n",
    "# Merging datasets\n",
    "pre_df = diagnosis.merge(late_morbidity,on='id').merge(external_radiotherapy, on='id').merge(brachytherapy, on='id').merge(response_status, on='id').merge(patient, on='id')"
   ],
   "metadata": {
    "collapsed": false,
    "pycharm": {
     "name": "#%%\n"
    }
   }
  },
  {
   "cell_type": "code",
   "execution_count": 55,
   "outputs": [
    {
     "data": {
      "text/plain": "     id  hrctv_volume  eqd2_total_dose   T  rect_sig_grade  bladder_grade  \\\n3   104          35.0             85.8  2B             1.0            0.0   \n8   109          28.6             82.7  3B             0.0            0.0   \n9   110          23.9             89.9  2B             0.0            0.0   \n12  113          15.7             87.7  3B             2.0            0.0   \n16  117          41.0             88.3  2B             0.0            0.0   \n\n    followup_timing  eqd2_rectum  eqd2_bladder  bladder_grade_event1  \\\n3              19.0         68.7          79.0                     0   \n8              22.0         56.2          72.2                     0   \n9              23.0         60.6          71.6                     0   \n12             22.0         54.7          86.6                     0   \n16             23.0         66.9          81.0                     0   \n\n    bladder_grade_event0  bladder_grade_event2  rect_sig_grade_event0  \\\n3                      1                     0                      0   \n8                      1                     0                      1   \n9                      1                     0                      1   \n12                     1                     0                      0   \n16                     1                     0                      1   \n\n    rect_sig_grade_event1  rect_sig_grade_event2  icru_bladder  icru_rectum  \\\n3                       1                      0          68.1         72.3   \n8                       0                      0          75.4         54.4   \n9                       0                      0          64.3         61.5   \n12                      0                      1          58.0         63.7   \n16                      0                      0          64.0         74.8   \n\n   late_response_status  total_days  late_response_status_binary  \n3                    DM        77.0                            0  \n8                    CR        66.0                            1  \n9                    CR        70.0                            1  \n12                   CR        94.0                            1  \n16                   CR        63.0                            1  ",
      "text/html": "<div>\n<style scoped>\n    .dataframe tbody tr th:only-of-type {\n        vertical-align: middle;\n    }\n\n    .dataframe tbody tr th {\n        vertical-align: top;\n    }\n\n    .dataframe thead th {\n        text-align: right;\n    }\n</style>\n<table border=\"1\" class=\"dataframe\">\n  <thead>\n    <tr style=\"text-align: right;\">\n      <th></th>\n      <th>id</th>\n      <th>hrctv_volume</th>\n      <th>eqd2_total_dose</th>\n      <th>T</th>\n      <th>rect_sig_grade</th>\n      <th>bladder_grade</th>\n      <th>followup_timing</th>\n      <th>eqd2_rectum</th>\n      <th>eqd2_bladder</th>\n      <th>bladder_grade_event1</th>\n      <th>bladder_grade_event0</th>\n      <th>bladder_grade_event2</th>\n      <th>rect_sig_grade_event0</th>\n      <th>rect_sig_grade_event1</th>\n      <th>rect_sig_grade_event2</th>\n      <th>icru_bladder</th>\n      <th>icru_rectum</th>\n      <th>late_response_status</th>\n      <th>total_days</th>\n      <th>late_response_status_binary</th>\n    </tr>\n  </thead>\n  <tbody>\n    <tr>\n      <th>3</th>\n      <td>104</td>\n      <td>35.0</td>\n      <td>85.8</td>\n      <td>2B</td>\n      <td>1.0</td>\n      <td>0.0</td>\n      <td>19.0</td>\n      <td>68.7</td>\n      <td>79.0</td>\n      <td>0</td>\n      <td>1</td>\n      <td>0</td>\n      <td>0</td>\n      <td>1</td>\n      <td>0</td>\n      <td>68.1</td>\n      <td>72.3</td>\n      <td>DM</td>\n      <td>77.0</td>\n      <td>0</td>\n    </tr>\n    <tr>\n      <th>8</th>\n      <td>109</td>\n      <td>28.6</td>\n      <td>82.7</td>\n      <td>3B</td>\n      <td>0.0</td>\n      <td>0.0</td>\n      <td>22.0</td>\n      <td>56.2</td>\n      <td>72.2</td>\n      <td>0</td>\n      <td>1</td>\n      <td>0</td>\n      <td>1</td>\n      <td>0</td>\n      <td>0</td>\n      <td>75.4</td>\n      <td>54.4</td>\n      <td>CR</td>\n      <td>66.0</td>\n      <td>1</td>\n    </tr>\n    <tr>\n      <th>9</th>\n      <td>110</td>\n      <td>23.9</td>\n      <td>89.9</td>\n      <td>2B</td>\n      <td>0.0</td>\n      <td>0.0</td>\n      <td>23.0</td>\n      <td>60.6</td>\n      <td>71.6</td>\n      <td>0</td>\n      <td>1</td>\n      <td>0</td>\n      <td>1</td>\n      <td>0</td>\n      <td>0</td>\n      <td>64.3</td>\n      <td>61.5</td>\n      <td>CR</td>\n      <td>70.0</td>\n      <td>1</td>\n    </tr>\n    <tr>\n      <th>12</th>\n      <td>113</td>\n      <td>15.7</td>\n      <td>87.7</td>\n      <td>3B</td>\n      <td>2.0</td>\n      <td>0.0</td>\n      <td>22.0</td>\n      <td>54.7</td>\n      <td>86.6</td>\n      <td>0</td>\n      <td>1</td>\n      <td>0</td>\n      <td>0</td>\n      <td>0</td>\n      <td>1</td>\n      <td>58.0</td>\n      <td>63.7</td>\n      <td>CR</td>\n      <td>94.0</td>\n      <td>1</td>\n    </tr>\n    <tr>\n      <th>16</th>\n      <td>117</td>\n      <td>41.0</td>\n      <td>88.3</td>\n      <td>2B</td>\n      <td>0.0</td>\n      <td>0.0</td>\n      <td>23.0</td>\n      <td>66.9</td>\n      <td>81.0</td>\n      <td>0</td>\n      <td>1</td>\n      <td>0</td>\n      <td>1</td>\n      <td>0</td>\n      <td>0</td>\n      <td>64.0</td>\n      <td>74.8</td>\n      <td>CR</td>\n      <td>63.0</td>\n      <td>1</td>\n    </tr>\n  </tbody>\n</table>\n</div>"
     },
     "execution_count": 55,
     "metadata": {},
     "output_type": "execute_result"
    }
   ],
   "source": [
    "# Filtering variables of interest\n",
    "df = pre_df[['id','hrctv_volume','eqd2_total_dose','tumour_stage','vaginal_invasion','rect_sig_grade','bladder_grade', 'followup_timing', 'eqd2_rectum','eqd2_bladder','bladder_grade_event1','bladder_grade_event0','bladder_grade_event2','rect_sig_grade_event0','rect_sig_grade_event1','rect_sig_grade_event2','icru_bladder', 'icru_rectum', 'late_response_status', 'total_days', 'late_response_status_binary']].copy()\n",
    "df.dropna(axis=0,inplace=True)\n",
    "df.head()"
   ],
   "metadata": {
    "collapsed": false,
    "pycharm": {
     "name": "#%%\n"
    }
   }
  },
  {
   "cell_type": "code",
   "execution_count": 56,
   "outputs": [],
   "source": [
    "df.to_csv(r\"C:\\Users\\gdbt0\\OneDrive\\Documents\\GitHub\\Projects\\cancer\\data\\processed\\research_group.csv\",index=False)\n"
   ],
   "metadata": {
    "collapsed": false,
    "pycharm": {
     "name": "#%%\n"
    }
   }
  }
 ],
 "metadata": {
  "kernelspec": {
   "display_name": "Python 3",
   "language": "python",
   "name": "python3"
  },
  "language_info": {
   "codemirror_mode": {
    "name": "ipython",
    "version": 2
   },
   "file_extension": ".py",
   "mimetype": "text/x-python",
   "name": "python",
   "nbconvert_exporter": "python",
   "pygments_lexer": "ipython2",
   "version": "2.7.6"
  }
 },
 "nbformat": 4,
 "nbformat_minor": 0
}