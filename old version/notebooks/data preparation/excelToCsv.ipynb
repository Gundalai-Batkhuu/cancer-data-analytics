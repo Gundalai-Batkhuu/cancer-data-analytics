{
 "cells": [
  {
   "cell_type": "code",
   "execution_count": 1,
   "id": "df9aee92",
   "metadata": {},
   "outputs": [],
   "source": [
    "import pandas as pd\n",
    "import matplotlib_inline as plt\n",
    "import numpy as np"
   ]
  },
  {
   "cell_type": "code",
   "execution_count": 2,
   "outputs": [],
   "source": [
    "# Creates a csv file for each sheet of the excel file\n",
    "\n",
    "df = pd.ExcelFile(r\"C:\\Users\\gdbt0\\OneDrive\\Documents\\GitHub\\Projects\\cancer\\data\\raw\\database.xlsx\", None)\n",
    "sheetNames = df.sheet_names\n",
    "\n",
    "for name in sheetNames:\n",
    "    df = pd.read_excel(r\"C:\\Users\\gdbt0\\OneDrive\\Documents\\GitHub\\Projects\\cancer\\data\\raw\\database.xlsx\", sheet_name=name)\n",
    "    name = name.lower()\n",
    "    path = r\"C:\\Users\\gdbt0\\OneDrive\\Documents\\GitHub\\Projects\\cancer\\data\\interim\\{}.csv\".format(name)\n",
    "    df.to_csv(path, index = False)"
   ],
   "metadata": {
    "collapsed": false,
    "pycharm": {
     "name": "#%%\n"
    }
   }
  }
 ],
 "metadata": {
  "kernelspec": {
   "name": "pycharm-85d82135",
   "language": "python",
   "display_name": "PyCharm (cancer)"
  },
  "language_info": {
   "codemirror_mode": {
    "name": "ipython",
    "version": 3
   },
   "file_extension": ".py",
   "mimetype": "text/x-python",
   "name": "python",
   "nbconvert_exporter": "python",
   "pygments_lexer": "ipython3",
   "version": "3.8.8"
  }
 },
 "nbformat": 4,
 "nbformat_minor": 5
}